{
 "cells": [
  {
   "cell_type": "code",
   "execution_count": null,
   "metadata": {},
   "outputs": [],
   "source": [
    "'''\n",
    "Dựa trên tập data về mức tiêu thụ nhiên liệu của từng dòng xe, dự đoán mức sản sinh Co2 tương ứng\n",
    "Dataset: FuelConsumptionCo2.csv\n",
    "'''"
   ]
  },
  {
   "cell_type": "code",
   "execution_count": 24,
   "metadata": {},
   "outputs": [
    {
     "ename": "ModuleNotFoundError",
     "evalue": "No module named 'matplotlib.pylot'",
     "output_type": "error",
     "traceback": [
      "\u001b[1;31m---------------------------------------------------------------------------\u001b[0m",
      "\u001b[1;31mModuleNotFoundError\u001b[0m                       Traceback (most recent call last)",
      "\u001b[1;32m~\\AppData\\Local\\Temp/ipykernel_4084/317091880.py\u001b[0m in \u001b[0;36m<module>\u001b[1;34m\u001b[0m\n\u001b[0;32m      1\u001b[0m \u001b[1;32mimport\u001b[0m \u001b[0mpandas\u001b[0m \u001b[1;32mas\u001b[0m \u001b[0mpd\u001b[0m\u001b[1;33m\u001b[0m\u001b[1;33m\u001b[0m\u001b[0m\n\u001b[0;32m      2\u001b[0m \u001b[1;32mimport\u001b[0m \u001b[0mnumpy\u001b[0m \u001b[1;32mas\u001b[0m \u001b[0mno\u001b[0m\u001b[1;33m\u001b[0m\u001b[1;33m\u001b[0m\u001b[0m\n\u001b[1;32m----> 3\u001b[1;33m \u001b[1;32mimport\u001b[0m \u001b[0mmatplotlib\u001b[0m\u001b[1;33m.\u001b[0m\u001b[0mpylot\u001b[0m \u001b[1;32mas\u001b[0m \u001b[0mplt\u001b[0m\u001b[1;33m\u001b[0m\u001b[1;33m\u001b[0m\u001b[0m\n\u001b[0m\u001b[0;32m      4\u001b[0m \u001b[1;32mimport\u001b[0m \u001b[0mseaborn\u001b[0m \u001b[1;32mas\u001b[0m \u001b[0msns\u001b[0m\u001b[1;33m\u001b[0m\u001b[1;33m\u001b[0m\u001b[0m\n",
      "\u001b[1;31mModuleNotFoundError\u001b[0m: No module named 'matplotlib.pylot'"
     ]
    }
   ],
   "source": [
    "import pandas as pd\n",
    "import numpy as np\n",
    "import seaborn as sns"
   ]
  },
  {
   "cell_type": "code",
   "execution_count": 25,
   "metadata": {},
   "outputs": [
    {
     "name": "stdout",
     "output_type": "stream",
     "text": [
      "Requirement already satisfied: matplotlib in c:\\users\\admin\\anaconda3\\lib\\site-packages (3.4.3)Note: you may need to restart the kernel to use updated packages.\n",
      "Requirement already satisfied: numpy>=1.16 in c:\\users\\admin\\anaconda3\\lib\\site-packages (from matplotlib) (1.20.3)\n",
      "Requirement already satisfied: pyparsing>=2.2.1 in c:\\users\\admin\\anaconda3\\lib\\site-packages (from matplotlib) (3.0.4)\n",
      "Requirement already satisfied: pillow>=6.2.0 in c:\\users\\admin\\anaconda3\\lib\\site-packages (from matplotlib) (8.4.0)\n",
      "Requirement already satisfied: python-dateutil>=2.7 in c:\\users\\admin\\anaconda3\\lib\\site-packages (from matplotlib) (2.8.2)\n",
      "Requirement already satisfied: kiwisolver>=1.0.1 in c:\\users\\admin\\anaconda3\\lib\\site-packages (from matplotlib) (1.3.1)\n",
      "Requirement already satisfied: cycler>=0.10 in c:\\users\\admin\\anaconda3\\lib\\site-packages (from matplotlib) (0.10.0)\n",
      "Requirement already satisfied: six in c:\\users\\admin\\anaconda3\\lib\\site-packages (from cycler>=0.10->matplotlib) (1.16.0)\n",
      "\n"
     ]
    }
   ],
   "source": [
    "pip install matplotlib\n"
   ]
  },
  {
   "cell_type": "markdown",
   "metadata": {},
   "source": [
    "# Load and quick view data"
   ]
  },
  {
   "cell_type": "code",
   "execution_count": 9,
   "metadata": {},
   "outputs": [
    {
     "data": {
      "text/html": [
       "<div>\n",
       "<style scoped>\n",
       "    .dataframe tbody tr th:only-of-type {\n",
       "        vertical-align: middle;\n",
       "    }\n",
       "\n",
       "    .dataframe tbody tr th {\n",
       "        vertical-align: top;\n",
       "    }\n",
       "\n",
       "    .dataframe thead th {\n",
       "        text-align: right;\n",
       "    }\n",
       "</style>\n",
       "<table border=\"1\" class=\"dataframe\">\n",
       "  <thead>\n",
       "    <tr style=\"text-align: right;\">\n",
       "      <th></th>\n",
       "      <th>MODELYEAR</th>\n",
       "      <th>MAKE</th>\n",
       "      <th>MODEL</th>\n",
       "      <th>VEHICLECLASS</th>\n",
       "      <th>ENGINESIZE</th>\n",
       "      <th>CYLINDERS</th>\n",
       "      <th>TRANSMISSION</th>\n",
       "      <th>FUELTYPE</th>\n",
       "      <th>FUELCONSUMPTION_CITY</th>\n",
       "      <th>FUELCONSUMPTION_HWY</th>\n",
       "      <th>FUELCONSUMPTION_COMB</th>\n",
       "      <th>FUELCONSUMPTION_COMB_MPG</th>\n",
       "      <th>CO2EMISSIONS</th>\n",
       "    </tr>\n",
       "  </thead>\n",
       "  <tbody>\n",
       "    <tr>\n",
       "      <th>0</th>\n",
       "      <td>2014</td>\n",
       "      <td>ACURA</td>\n",
       "      <td>ILX</td>\n",
       "      <td>COMPACT</td>\n",
       "      <td>2.0</td>\n",
       "      <td>4</td>\n",
       "      <td>AS5</td>\n",
       "      <td>Z</td>\n",
       "      <td>9.9</td>\n",
       "      <td>6.7</td>\n",
       "      <td>8.5</td>\n",
       "      <td>33</td>\n",
       "      <td>196</td>\n",
       "    </tr>\n",
       "    <tr>\n",
       "      <th>1</th>\n",
       "      <td>2014</td>\n",
       "      <td>ACURA</td>\n",
       "      <td>ILX</td>\n",
       "      <td>COMPACT</td>\n",
       "      <td>2.4</td>\n",
       "      <td>4</td>\n",
       "      <td>M6</td>\n",
       "      <td>Z</td>\n",
       "      <td>11.2</td>\n",
       "      <td>7.7</td>\n",
       "      <td>9.6</td>\n",
       "      <td>29</td>\n",
       "      <td>221</td>\n",
       "    </tr>\n",
       "    <tr>\n",
       "      <th>2</th>\n",
       "      <td>2014</td>\n",
       "      <td>ACURA</td>\n",
       "      <td>ILX HYBRID</td>\n",
       "      <td>COMPACT</td>\n",
       "      <td>1.5</td>\n",
       "      <td>4</td>\n",
       "      <td>AV7</td>\n",
       "      <td>Z</td>\n",
       "      <td>6.0</td>\n",
       "      <td>5.8</td>\n",
       "      <td>5.9</td>\n",
       "      <td>48</td>\n",
       "      <td>136</td>\n",
       "    </tr>\n",
       "    <tr>\n",
       "      <th>3</th>\n",
       "      <td>2014</td>\n",
       "      <td>ACURA</td>\n",
       "      <td>MDX 4WD</td>\n",
       "      <td>SUV - SMALL</td>\n",
       "      <td>3.5</td>\n",
       "      <td>6</td>\n",
       "      <td>AS6</td>\n",
       "      <td>Z</td>\n",
       "      <td>12.7</td>\n",
       "      <td>9.1</td>\n",
       "      <td>11.1</td>\n",
       "      <td>25</td>\n",
       "      <td>255</td>\n",
       "    </tr>\n",
       "    <tr>\n",
       "      <th>4</th>\n",
       "      <td>2014</td>\n",
       "      <td>ACURA</td>\n",
       "      <td>RDX AWD</td>\n",
       "      <td>SUV - SMALL</td>\n",
       "      <td>3.5</td>\n",
       "      <td>6</td>\n",
       "      <td>AS6</td>\n",
       "      <td>Z</td>\n",
       "      <td>12.1</td>\n",
       "      <td>8.7</td>\n",
       "      <td>10.6</td>\n",
       "      <td>27</td>\n",
       "      <td>244</td>\n",
       "    </tr>\n",
       "  </tbody>\n",
       "</table>\n",
       "</div>"
      ],
      "text/plain": [
       "   MODELYEAR   MAKE       MODEL VEHICLECLASS  ENGINESIZE  CYLINDERS  \\\n",
       "0       2014  ACURA         ILX      COMPACT         2.0          4   \n",
       "1       2014  ACURA         ILX      COMPACT         2.4          4   \n",
       "2       2014  ACURA  ILX HYBRID      COMPACT         1.5          4   \n",
       "3       2014  ACURA     MDX 4WD  SUV - SMALL         3.5          6   \n",
       "4       2014  ACURA     RDX AWD  SUV - SMALL         3.5          6   \n",
       "\n",
       "  TRANSMISSION FUELTYPE  FUELCONSUMPTION_CITY  FUELCONSUMPTION_HWY  \\\n",
       "0          AS5        Z                   9.9                  6.7   \n",
       "1           M6        Z                  11.2                  7.7   \n",
       "2          AV7        Z                   6.0                  5.8   \n",
       "3          AS6        Z                  12.7                  9.1   \n",
       "4          AS6        Z                  12.1                  8.7   \n",
       "\n",
       "   FUELCONSUMPTION_COMB  FUELCONSUMPTION_COMB_MPG  CO2EMISSIONS  \n",
       "0                   8.5                        33           196  \n",
       "1                   9.6                        29           221  \n",
       "2                   5.9                        48           136  \n",
       "3                  11.1                        25           255  \n",
       "4                  10.6                        27           244  "
      ]
     },
     "execution_count": 9,
     "metadata": {},
     "output_type": "execute_result"
    }
   ],
   "source": [
    "data = pd.read_csv('FuelConsumptionCo2.csv')\n",
    "data.head()"
   ]
  },
  {
   "cell_type": "raw",
   "metadata": {},
   "source": [
    "data.shape"
   ]
  },
  {
   "cell_type": "code",
   "execution_count": null,
   "metadata": {},
   "outputs": [],
   "source": []
  },
  {
   "cell_type": "raw",
   "metadata": {},
   "source": [
    "- Model year: Nam san xuat\n",
    "- Make: Hang san xuat\n",
    "- Model: Dong xe\n",
    "- Vehicleclass: Phan khuc\n",
    "- Enginesize: Dung tich xi lanh\n",
    "- Cylinders: Xi lanh\n",
    "- Transmission: Hop so\n",
    "- Fueltype: Loai nhien lieu\n",
    "- Fuelconsumption_city: muc tieu thu tai thanh pho\n",
    "- Fuelconsumption_hwy: muc tieu thu tren cao toc\n",
    "- Fuelconsumption_comb:\n",
    "- Fuelconsumption_comb_mpg:\n",
    "- Co2emissions: Muc san sinh Co2"
   ]
  },
  {
   "cell_type": "code",
   "execution_count": 10,
   "metadata": {},
   "outputs": [
    {
     "data": {
      "text/plain": [
       "(1067, 13)"
      ]
     },
     "execution_count": 10,
     "metadata": {},
     "output_type": "execute_result"
    }
   ],
   "source": [
    "data.shape"
   ]
  },
  {
   "cell_type": "code",
   "execution_count": 11,
   "metadata": {},
   "outputs": [
    {
     "name": "stdout",
     "output_type": "stream",
     "text": [
      "<class 'pandas.core.frame.DataFrame'>\n",
      "RangeIndex: 1067 entries, 0 to 1066\n",
      "Data columns (total 13 columns):\n",
      " #   Column                    Non-Null Count  Dtype  \n",
      "---  ------                    --------------  -----  \n",
      " 0   MODELYEAR                 1067 non-null   int64  \n",
      " 1   MAKE                      1067 non-null   object \n",
      " 2   MODEL                     1067 non-null   object \n",
      " 3   VEHICLECLASS              1067 non-null   object \n",
      " 4   ENGINESIZE                1067 non-null   float64\n",
      " 5   CYLINDERS                 1067 non-null   int64  \n",
      " 6   TRANSMISSION              1067 non-null   object \n",
      " 7   FUELTYPE                  1067 non-null   object \n",
      " 8   FUELCONSUMPTION_CITY      1067 non-null   float64\n",
      " 9   FUELCONSUMPTION_HWY       1067 non-null   float64\n",
      " 10  FUELCONSUMPTION_COMB      1067 non-null   float64\n",
      " 11  FUELCONSUMPTION_COMB_MPG  1067 non-null   int64  \n",
      " 12  CO2EMISSIONS              1067 non-null   int64  \n",
      "dtypes: float64(4), int64(4), object(5)\n",
      "memory usage: 108.5+ KB\n"
     ]
    }
   ],
   "source": [
    "data.info()"
   ]
  },
  {
   "cell_type": "code",
   "execution_count": 16,
   "metadata": {},
   "outputs": [
    {
     "name": "stdout",
     "output_type": "stream",
     "text": [
      "MAKE\n",
      "['ACURA' 'ASTON MARTIN' 'AUDI' 'BENTLEY' 'BMW' 'BUICK' 'CADILLAC'\n",
      " 'CHEVROLET' 'CHRYSLER' 'DODGE' 'FIAT' 'FORD' 'GMC' 'HONDA' 'HYUNDAI'\n",
      " 'INFINITI' 'JAGUAR' 'JEEP' 'KIA' 'LAMBORGHINI' 'LAND ROVER' 'LEXUS'\n",
      " 'LINCOLN' 'MASERATI' 'MAZDA' 'MERCEDES-BENZ' 'MINI' 'MITSUBISHI' 'NISSAN'\n",
      " 'PORSCHE' 'RAM' 'ROLLS-ROYCE' 'SCION' 'SMART' 'SRT' 'SUBARU' 'TOYOTA'\n",
      " 'VOLKSWAGEN' 'VOLVO']\n",
      "MODEL\n",
      "['ILX' 'ILX HYBRID' 'MDX 4WD' 'RDX AWD' 'RLX' 'TL' 'TL AWD' 'TSX' 'DB9'\n",
      " 'RAPIDE' 'V8 VANTAGE' 'V8 VANTAGE S' 'VANQUISH' 'A4' 'A4 QUATTRO'\n",
      " 'A5 CABRIOLET QUATTRO' 'A5 QUATTRO' 'A6 QUATTRO'\n",
      " 'A6 QUATTRO TDI CLEAN DIESEL' 'A7 QUATTRO' 'A7 QUATTRO TDI CLEAN DIESEL'\n",
      " 'A8' 'A8 TDI CLEAN DIESEL' 'A8L' 'A8L TDI CLEAN DIESEL' 'ALLROAD QUATTRO'\n",
      " 'Q5' 'Q5 HYBRID' 'Q5 TDI CLEAN DIESEL' 'Q7' 'Q7 TDI CLEAN DIESEL' 'R8'\n",
      " 'R8 SPYDER' 'RS5' 'RS5 CABRIOLET' 'RS7' 'S4' 'S5' 'S5 CABRIOLET' 'S6'\n",
      " 'S7' 'S8' 'SQ5' 'TT COUPE QUATTRO' 'TT ROADSTER QUATTRO'\n",
      " 'TTS COUPE QUATTRO' 'TTS ROADSTER QUATTRO' 'CONTINENTAL GT'\n",
      " 'CONTINENTAL GT CONVERTIBLE' 'CONTINENTAL GT SPEED CONVERTIBLE'\n",
      " 'CONTINENTAL GTC' 'FLYING SPUR' 'MULSANNE' '320i' '320i xDRIVE'\n",
      " '328d xDRIVE' '328d xDRIVE TOURING' '328i' '328i xDRIVE'\n",
      " '328i xDRIVE GRAN TURISMO' '328i xDRIVE TOURING' '335i' '335i xDRIVE'\n",
      " '335i xDRIVE GRAN TURISMO' '428i COUPE' '428i xDRIVE COUPE' '435i COUPE'\n",
      " '435i xDRIVE COUPE' '528i' '528i xDRIVE' '535d xDRIVE' '535i xDRIVE'\n",
      " '535i xDRIVE GRAN TURISMO' '550i xDRIVE' '550i xDRIVE GRAN TURISMO'\n",
      " '640i xDRIVE GRAN COUPE' '650i xDRIVE CABRIOLET' '650i xDRIVE COUPE'\n",
      " '650i xDRIVE GRAN COUPE' '740Li xDRIVE' '750i xDRIVE' '750Li xDRIVE'\n",
      " '760Li' 'ACTIVEHYBRID 3' 'ACTIVEHYBRID 5' 'ACTIVEHYBRID 7L'\n",
      " 'ALPINA B7 xDRIVE LWB' 'ALPINA B7 xDRIVE SWB' 'M5' 'M6' 'M6 CABRIOLET'\n",
      " 'M6 GRAN COUPE' 'X1 xDRIVE28i' 'X1 xDRIVE35i' 'X3 xDRIVE28i'\n",
      " 'X3 xDRIVE35i' 'X5 xDRIVE35i' 'X5 xDRIVE50i' 'X6 M' 'X6 xDRIVE35i'\n",
      " 'X6 xDRIVE50i' 'Z4 sDRIVE28i' 'Z4 sDRIVE35i' 'Z4 sDRIVE35is' 'ENCLAVE'\n",
      " 'ENCLAVE AWD' 'ENCORE' 'ENCORE AWD' 'LACROSSE' 'LACROSSE AWD'\n",
      " 'LACROSSE eASSIST' 'REGAL' 'REGAL AWD' 'REGAL eASSIST' 'VERANO' 'ATS'\n",
      " 'ATS AWD' 'CTS COUPE' 'CTS COUPE AWD' 'CTS SEDAN' 'CTS SEDAN AWD'\n",
      " 'CTS SEDAN Vsport' 'CTS SPORT WAGON' 'CTS SPORT WAGON AWD' 'CTS-V COUPE'\n",
      " 'CTS-V SEDAN' 'CTS-V SPORT WAGON' 'ESCALADE AWD' 'ESCALADE ESV AWD' 'SRX'\n",
      " 'SRX AWD' 'XTS' 'XTS AWD' 'XTS Vsport AWD' 'CAMARO' 'CAMARO 2LS'\n",
      " 'CAMARO SS' 'CAMARO ZL1' 'CORVETTE' 'CRUZE' 'CRUZE DIESEL' 'CRUZE ECO'\n",
      " 'EQUINOX' 'EQUINOX AWD' 'EXPRESS 1500 CARGO' 'EXPRESS 1500 CARGO AWD'\n",
      " 'EXPRESS 1500 CARGO CONV' 'EXPRESS 1500 CARGO CONV AWD'\n",
      " 'EXPRESS 1500 PASSENGER' 'EXPRESS 1500 PASSENGER AWD'\n",
      " 'EXPRESS 2500 PASSENGER' 'EXPRESS 3500 PASSENGER' 'IMPALA' 'IMPALA ECO'\n",
      " 'MALIBU' 'ORLANDO' 'SILVERADO' 'SILVERADO 4WD' 'SONIC' 'SONIC 5'\n",
      " 'SONIC 5 RS' 'SONIC RS' 'SPARK' 'SUBURBAN' 'SUBURBAN 4WD' 'TAHOE'\n",
      " 'TAHOE 4WD' 'TRAVERSE' 'TRAVERSE AWD' 'TRAX' 'TRAX AWD' '300'\n",
      " '200 CONVERTIBLE' '200 CONVERTIBLE FFV' '200 SEDAN' '200 SEDAN FFV'\n",
      " '300 (MDS)' '300 AWD' '300 AWD (MDS)' '300 AWD FFV' '300 FFV'\n",
      " '300 SRT (MDS)' 'TOWN & COUNTRY FFV' 'AVENGER' 'AVENGER FFV' 'CHALLENGER'\n",
      " 'CHALLENGER (MDS)' 'CHALLENGER SRT' 'CHALLENGER SRT (MDS)' 'CHARGER'\n",
      " 'CHARGER (MDS)' 'CHARGER AWD' 'CHARGER AWD (MDS)' 'CHARGER AWD FFV'\n",
      " 'CHARGER FFV' 'CHARGER SRT (MDS)' 'DART' 'DART FFV' 'DART GT'\n",
      " 'DART TURBO AERO' 'DURANGO AWD (MDS)' 'DURANGO AWD FFV'\n",
      " 'GRAND CARAVAN FFV' 'JOURNEY' 'JOURNEY AWD' 'JOURNEY FFV'\n",
      " '500 ABARTH CABRIO' '500 ABARTH HATCHBACK' '500 CABRIO'\n",
      " '500 CABRIO TURBO' '500 HATCHBACK' '500 HATCHBACK TURBO' '500L TURBO'\n",
      " 'C-MAX HYBRID' 'E150 VAN FFV' 'E150 WAGON FFV' 'E350 WAGON'\n",
      " 'E350 WAGON FFV' 'EDGE' 'EDGE AWD' 'ESCAPE' 'ESCAPE AWD'\n",
      " 'EXPEDITION 4X4 FFV' 'EXPLORER' 'EXPLORER AWD' 'EXPLORER FFV'\n",
      " 'EXPLORER FFV AWD' 'F150' 'F150 4X4' 'F150 FFV' 'F150 FFV 4X4'\n",
      " 'F150 RAPTOR 4X4' 'FIESTA' 'FIESTA SFE' 'FIESTA ST' 'FLEX' 'FLEX AWD'\n",
      " 'FLEX AWD (EcoBoost)' 'FOCUS' 'FOCUS FFV' 'FOCUS SFE FFV' 'FUSION'\n",
      " 'FUSION (Start/Stop)' 'FUSION AWD' 'FUSION HYBRID' 'MUSTANG'\n",
      " 'MUSTANG CONVERTIBLE' 'TAURUS' 'TAURUS AWD' 'TAURUS FFV' 'TAURUS FFV AWD'\n",
      " 'TRANSIT CONNECT' 'TRANSIT CONNECT TAXI' 'TRANSIT CONNECT WAGON' 'ACADIA'\n",
      " 'ACADIA AWD' 'SAVANA 1500 CARGO' 'SAVANA 1500 CARGO AWD'\n",
      " 'SAVANA 1500 CARGO CONV' 'SAVANA 1500 CARGO CONV AWD'\n",
      " 'SAVANA 1500 PASSENGER' 'SAVANA 1500 PASSENGER AWD'\n",
      " 'SAVANA 2500 PASSENGER' 'SAVANA 3500 PASSENGER' 'SIERRA' 'SIERRA 4WD'\n",
      " 'TERRAIN' 'TERRAIN AWD' 'YUKON' 'YUKON 4WD' 'YUKON DENALI AWD'\n",
      " 'YUKON DENALI XL AWD' 'YUKON XL' 'YUKON XL 4WD' 'ACCORD' 'ACCORD HYBRID'\n",
      " 'CIVIC' 'CROSSTOUR AWD' 'CR-V' 'CR-V AWD' 'CR-Z' 'FIT' 'ODYSSEY' 'PILOT'\n",
      " 'PILOT AWD' 'RIDGELINE AWD' 'ACCENT' 'ELANTRA GT' 'EQUUS' 'GENESIS'\n",
      " 'SANTA FE' 'SANTA FE 4WD' 'SANTA FE SPORT' 'SANTA FE SPORT 4WD' 'SONATA'\n",
      " 'SONATA HYBRID' 'SONATA HYBRID LIMITED' 'TUCSON' 'TUCSON 4WD' 'VELOSTER'\n",
      " 'VELOSTER TURBO' 'Q50' 'Q50 AWD' 'Q50 HYBRID' 'Q50 HYBRID AWD'\n",
      " 'Q60 AWD COUPE' 'Q60 CONVERTIBLE' 'Q60 COUPE' 'Q70' 'Q70 AWD'\n",
      " 'Q70 HYBRID' 'QX50 AWD' 'QX60' 'QX60 AWD' 'QX60 HYBRID AWD' 'QX70 AWD'\n",
      " 'QX80 4WD' 'F-TYPE CONVERTIBLE' 'F-TYPE S CONVERTIBLE'\n",
      " 'F-TYPE V8 S CONVERTIBLE' 'XF' 'XF 3.0L AWD' 'XFR' 'XFR-S' 'XJ AWD'\n",
      " 'XJ SUPERCHARGED' 'XJL AWD PORTFOLIO' 'XJL SUPERCHARGED' 'XJR' 'XJR LWB'\n",
      " 'XK CONVERTIBLE' 'XK COUPE' 'XKR CONVERTIBLE' 'XKR COUPE'\n",
      " 'XKR-S CONVERTIBLE' 'XKR-S COUPE' 'CHEROKEE' 'CHEROKEE 4X4'\n",
      " 'CHEROKEE 4X4 Active Drive II' 'CHEROKEE TRAILHAWK 4X4' 'COMPASS'\n",
      " 'COMPASS 4X4' 'COMPASS 4X4 TRAIL RATED' 'GRAND CHEROKEE 4X4 (MDS)'\n",
      " 'GRAND CHEROKEE 4X4 DIESEL' 'GRAND CHEROKEE 4X4 FFV'\n",
      " 'GRAND CHEROKEE 4X4 SRT (MDS)' 'PATRIOT' 'PATRIOT 4X4'\n",
      " 'PATRIOT 4X4 TRAIL RATED' 'WRANGLER 4X4 (2-DOOR)'\n",
      " 'WRANGLER UNLIMITED 4X4 (4-DOOR)' 'CADENZA' 'FORTE' 'FORTE 5'\n",
      " 'FORTE KOUP' 'OPTIMA' 'RIO' 'RIO ECO' 'RONDO' 'SEDONA' 'SORENTO'\n",
      " 'SORENTO 4WD' 'SOUL' 'SOUL ECO Dynamics' 'SPORTAGE' 'SPORTAGE AWD'\n",
      " 'AVENTADOR COUPE' 'GALLARDO COUPE' 'LR2' 'LR4' 'RANGE ROVER EVOQUE'\n",
      " 'RANGE ROVER EVOQUE COUPE' 'RANGE ROVER LWB V8 5.0 SC'\n",
      " 'RANGE ROVER LWB V8 5.0 SC FFV' 'RANGE ROVER SPORT V6 3.0 SC'\n",
      " 'RANGE ROVER SPORT V6 3.0 SC FFV' 'RANGE ROVER SPORT V8 5.0 SC'\n",
      " 'RANGE ROVER SPORT V8 5.0 SC FFV' 'RANGE ROVER V6 3.0 SC'\n",
      " 'RANGE ROVER V6 3.0 SC FFV' 'RANGE ROVER V8 5.0 SC'\n",
      " 'RANGE ROVER V8 5.0 SC FFV' 'CT 200h' 'ES 300h' 'ES 350' 'GS 350'\n",
      " 'GS 350 AWD' 'GS 450h' 'GX 460' 'IS 250' 'IS 250 AWD' 'IS 250 C' 'IS 350'\n",
      " 'IS 350 AWD' 'IS 350 C' 'IS F' 'LS 460' 'LS 460 AWD' 'LS 460 L AWD'\n",
      " 'LS 600h L' 'LX 570' 'RX 350 AWD' 'RX 450h AWD' 'MKS AWD' 'MKT AWD'\n",
      " 'MKT LIVERY' 'MKT LIVERY AWD' 'MKX AWD' 'MKZ' 'MKZ AWD' 'MKZ HYBRID'\n",
      " 'NAVIGATOR 4X4 FFV' 'GHIBLI' 'GHIBLI AWD' 'GRANTURISMO'\n",
      " 'GRANTURISMO CONVERTIBLE' 'QUATTROPORTE GTS' 'QUATTROPORTE SQ4' 'CX-5'\n",
      " 'CX-5 4WD' 'CX-9' 'CX-9 4WD' 'MAZDA2' 'MAZDA3 4-DOOR'\n",
      " 'MAZDA3 4-DOOR (i-ELOOP)' 'MAZDA3 4-DOOR (SIL)' 'MAZDA3 5-DOOR'\n",
      " 'MAZDA3 5-DOOR (i-ELOOP)' 'MAZDA3 5-DOOR (SIL)' 'MAZDA5' 'MAZDA6'\n",
      " 'MAZDA6 (i-ELOOP)' 'MX-5' 'B 250' 'C 250' 'C 250 COUPE'\n",
      " 'C 300 4MATIC FFV' 'C 350' 'C 350 4MATIC' 'C 350 4MATIC COUPE'\n",
      " 'C 350 COUPE' 'C 63 AMG' 'C 63 AMG COUPE' 'CL 550 4MATIC' 'CL 63 AMG'\n",
      " 'CLA 250' 'CLA 45 AMG 4MATIC' 'CLS 550 4MATIC' 'CLS 63 AMG 4MATIC'\n",
      " 'CLS 63 AMG S 4MATIC' 'E 250 BLUETEC 4MATIC' 'E 300 4MATIC'\n",
      " 'E 350 4MATIC' 'E 350 4MATIC COUPE' 'E 350 4MATIC WAGON'\n",
      " 'E 350 CABRIOLET' 'E 350 COUPE' 'E 400 HYBRID' 'E 550 4MATIC'\n",
      " 'E 550 CABRIOLET' 'E 550 COUPE' 'E 63 AMG 4MATIC' 'E 63 AMG 4MATIC WAGON'\n",
      " 'E 63 AMG S 4MATIC' 'E 63 AMG S 4MATIC WAGON' 'G 550' 'G 63 AMG'\n",
      " 'GL 350 BLUETEC 4MATIC' 'GL 450 4MATIC' 'GL 550 4MATIC' 'GL 63 AMG'\n",
      " 'GLK 250 BLUETEC 4MATIC' 'GLK 350 4MATIC' 'ML 350 4MATIC FFV'\n",
      " 'ML 350 BLUETEC 4MATIC' 'ML 550 4MATIC' 'ML 63 AMG 4MATIC'\n",
      " 'S 550 4MATIC LWB' 'S 550 4MATIC SWB' 'S 63 AMG 4MATIC' 'SL 550'\n",
      " 'SL 63 AMG' 'SL 65 AMG' 'SLK 250' 'SLK 350' 'SLK 55 AMG'\n",
      " 'SLS AMG BLACK SERIES COUPE' 'SLS AMG GT COUPE' 'SLS AMG ROADSTER'\n",
      " 'COOPER CLUBMAN' 'COOPER CONVERTIBLE' 'COOPER COUNTRYMAN' 'COOPER COUPE'\n",
      " 'COOPER PACEMAN' 'COOPER ROADSTER' 'COOPER S CLUBMAN'\n",
      " 'COOPER S CONVERTIBLE' 'COOPER S COUNTRYMAN ALL4' 'COOPER S COUPE'\n",
      " 'COOPER S PACEMAN ALL4' 'COOPER S ROADSTER' 'JOHN COOPER WORKS CLUBMAN'\n",
      " 'JOHN COOPER WORKS CONVERTIBLE' 'JOHN COOPER WORKS COUNTRYMAN ALL4'\n",
      " 'JOHN COOPER WORKS COUPE' 'JOHN COOPER WORKS PACEMAN ALL4'\n",
      " 'JOHN COOPER WORKS ROADSTER' 'LANCER' 'LANCER AWD' 'LANCER EVOLUTION'\n",
      " 'LANCER RALLIART' 'LANCER SPORTBACK' 'MIRAGE' 'OUTLANDER' 'OUTLANDER 4WD'\n",
      " 'RVR' 'RVR 4WD' '370Z' '370Z ROADSTER' 'ALTIMA' 'ARMADA 4WD' 'FRONTIER'\n",
      " 'FRONTIER 4WD' 'GT-R' 'JUKE' 'JUKE AWD' 'MAXIMA' 'MURANO AWD'\n",
      " 'NV200 CARGO VAN' 'PATHFINDER' 'PATHFINDER 4WD' 'PATHFINDER HYBRID 4WD'\n",
      " 'QUEST' 'ROGUE' 'ROGUE AWD' 'SENTRA' 'TITAN' 'TITAN 4WD' 'VERSA'\n",
      " 'XTERRA 4WD' '911 CARRERA' '911 CARRERA 4' '911 CARRERA 4 CABRIOLET'\n",
      " '911 CARRERA 4S' '911 CARRERA 4S CABRIOLET' '911 CARRERA CABRIOLET'\n",
      " '911 CARRERA S' '911 CARRERA S CABRIOLET' '911 GT3' '911 TURBO'\n",
      " '911 TURBO CABRIOLET' '911 TURBO S' '911 TURBO S CABRIOLET' 'BOXSTER'\n",
      " 'BOXSTER S' 'CAYENNE' 'CAYENNE DIESEL' 'CAYENNE GTS' 'CAYENNE S'\n",
      " 'CAYENNE S HYBRID' 'CAYENNE TURBO' 'CAYMAN' 'CAYMAN S' 'PANAMERA'\n",
      " 'PANAMERA 4' 'PANAMERA 4S' 'PANAMERA 4S EXECUTIVE' 'PANAMERA GTS'\n",
      " 'PANAMERA S' 'PANAMERA TURBO' 'PANAMERA TURBO EXECUTIVE' '1500 (MDS)'\n",
      " '1500 4X4 (MDS)' '1500 4X4 DIESEL' '1500 4X4 FFV' '1500 DIESEL'\n",
      " '1500 FFV' '1500 HFE' 'CARGO VAN FFV' 'GHOST' 'GHOST EWB' 'PHANTOM'\n",
      " 'PHANTOM COUPE' 'PHANTOM DROPHEAD COUPE' 'PHANTOM EWB' 'WRAITH' 'FR-S'\n",
      " 'iQ' 'tC' 'xB' 'xD' 'FORTWO CABRIOLET' 'FORTWO COUPE' 'VIPER COUPE'\n",
      " 'VIPER GTS COUPE' 'BRZ' 'FORESTER AWD' 'IMPREZA AWD' 'IMPREZA WAGON AWD'\n",
      " 'LEGACY AWD' 'OUTBACK AWD' 'TRIBECA AWD' 'XV CROSSTREK AWD'\n",
      " 'XV CROSSTREK HYBRID AWD' '4RUNNER (Part-Time 4WD)' '4RUNNER 4WD'\n",
      " 'AVALON' 'CAMRY' 'CAMRY HYBRID LE' 'CAMRY HYBRID XLE/SE' 'COROLLA'\n",
      " 'COROLLA LE ECO (1-mode)' 'COROLLA LE ECO (2-mode)' 'COROLLA MATRIX'\n",
      " 'FJ CRUISER 4WD' 'HIGHLANDER' 'HIGHLANDER AWD' 'HIGHLANDER HYBRID AWD'\n",
      " 'HIGHLANDER HYBRID AWD LE' 'PRIUS' 'PRIUS c' 'PRIUS v' 'RAV4' 'RAV4 AWD'\n",
      " 'RAV4 LIMITED AWD' 'SEQUOIA 4WD' 'SIENNA' 'SIENNA AWD' 'TACOMA'\n",
      " 'TACOMA 4WD' 'TUNDRA' 'TUNDRA 4WD' 'VENZA' 'VENZA 4WD' 'YARIS' 'BEETLE'\n",
      " 'BEETLE CONVERTIBLE' 'BEETLE TDI CLEAN DIESEL' 'CC' 'CC 4MOTION' 'EOS'\n",
      " 'GOLF WAGON' 'GOLF WAGON TDI CLEAN DIESEL' 'JETTA' 'JETTA GLI'\n",
      " 'JETTA TDI CLEAN DIESEL' 'JETTA TURBO HYBRID' 'PASSAT'\n",
      " 'PASSAT TDI CLEAN DIESEL' 'ROUTAN' 'TIGUAN' 'TIGUAN 4MOTION' 'TOUAREG'\n",
      " 'TOUAREG TDI CLEAN DIESEL' 'S60' 'S60 AWD' 'S80' 'S80 AWD' 'XC60'\n",
      " 'XC60 AWD' 'XC70 AWD' 'XC90 AWD']\n",
      "VEHICLECLASS\n",
      "['COMPACT' 'SUV - SMALL' 'MID-SIZE' 'MINICOMPACT' 'SUBCOMPACT'\n",
      " 'TWO-SEATER' 'FULL-SIZE' 'STATION WAGON - SMALL' 'SUV - STANDARD'\n",
      " 'VAN - CARGO' 'VAN - PASSENGER' 'PICKUP TRUCK - STANDARD' 'MINIVAN'\n",
      " 'SPECIAL PURPOSE VEHICLE' 'STATION WAGON - MID-SIZE'\n",
      " 'PICKUP TRUCK - SMALL']\n",
      "TRANSMISSION\n",
      "['AS5' 'M6' 'AV7' 'AS6' 'A6' 'AM7' 'AV8' 'AS8' 'A7' 'A8' 'M7' 'A4' 'M5'\n",
      " 'AV' 'A5' 'AM6' 'AS7' 'A9' 'AS9' 'AV6' 'AS4' 'AM5']\n",
      "FUELTYPE\n",
      "['Z' 'D' 'X' 'E']\n"
     ]
    }
   ],
   "source": [
    " for i in data.select_dtypes('object').columns:\n",
    "    print(i)\n",
    "    print(data[i].unique())"
   ]
  },
  {
   "cell_type": "code",
   "execution_count": 15,
   "metadata": {},
   "outputs": [
    {
     "data": {
      "text/plain": [
       "0"
      ]
     },
     "execution_count": 15,
     "metadata": {},
     "output_type": "execute_result"
    }
   ],
   "source": [
    "data.duplicated().sum()"
   ]
  },
  {
   "cell_type": "markdown",
   "metadata": {},
   "source": [
    "# Data Cleaning"
   ]
  },
  {
   "cell_type": "code",
   "execution_count": 19,
   "metadata": {},
   "outputs": [],
   "source": [
    "for i in data.select_dtypes('object').columns:\n",
    "    data[i] = data[i].astype('category')"
   ]
  },
  {
   "cell_type": "code",
   "execution_count": 20,
   "metadata": {},
   "outputs": [
    {
     "name": "stdout",
     "output_type": "stream",
     "text": [
      "<class 'pandas.core.frame.DataFrame'>\n",
      "RangeIndex: 1067 entries, 0 to 1066\n",
      "Data columns (total 13 columns):\n",
      " #   Column                    Non-Null Count  Dtype   \n",
      "---  ------                    --------------  -----   \n",
      " 0   MODELYEAR                 1067 non-null   int64   \n",
      " 1   MAKE                      1067 non-null   category\n",
      " 2   MODEL                     1067 non-null   category\n",
      " 3   VEHICLECLASS              1067 non-null   category\n",
      " 4   ENGINESIZE                1067 non-null   float64 \n",
      " 5   CYLINDERS                 1067 non-null   int64   \n",
      " 6   TRANSMISSION              1067 non-null   category\n",
      " 7   FUELTYPE                  1067 non-null   category\n",
      " 8   FUELCONSUMPTION_CITY      1067 non-null   float64 \n",
      " 9   FUELCONSUMPTION_HWY       1067 non-null   float64 \n",
      " 10  FUELCONSUMPTION_COMB      1067 non-null   float64 \n",
      " 11  FUELCONSUMPTION_COMB_MPG  1067 non-null   int64   \n",
      " 12  CO2EMISSIONS              1067 non-null   int64   \n",
      "dtypes: category(5), float64(4), int64(4)\n",
      "memory usage: 97.3 KB\n"
     ]
    }
   ],
   "source": [
    "data.info()"
   ]
  },
  {
   "cell_type": "code",
   "execution_count": null,
   "metadata": {},
   "outputs": [],
   "source": []
  },
  {
   "cell_type": "markdown",
   "metadata": {},
   "source": [
    "# Descriptive Analysis"
   ]
  },
  {
   "cell_type": "raw",
   "metadata": {},
   "source": [
    "Thống kê mô tả\n",
    "- Statistical metric: mean, median, min, max\n",
    "- Distribution"
   ]
  },
  {
   "cell_type": "code",
   "execution_count": 21,
   "metadata": {},
   "outputs": [
    {
     "data": {
      "text/html": [
       "<div>\n",
       "<style scoped>\n",
       "    .dataframe tbody tr th:only-of-type {\n",
       "        vertical-align: middle;\n",
       "    }\n",
       "\n",
       "    .dataframe tbody tr th {\n",
       "        vertical-align: top;\n",
       "    }\n",
       "\n",
       "    .dataframe thead th {\n",
       "        text-align: right;\n",
       "    }\n",
       "</style>\n",
       "<table border=\"1\" class=\"dataframe\">\n",
       "  <thead>\n",
       "    <tr style=\"text-align: right;\">\n",
       "      <th></th>\n",
       "      <th>MODELYEAR</th>\n",
       "      <th>ENGINESIZE</th>\n",
       "      <th>CYLINDERS</th>\n",
       "      <th>FUELCONSUMPTION_CITY</th>\n",
       "      <th>FUELCONSUMPTION_HWY</th>\n",
       "      <th>FUELCONSUMPTION_COMB</th>\n",
       "      <th>FUELCONSUMPTION_COMB_MPG</th>\n",
       "      <th>CO2EMISSIONS</th>\n",
       "    </tr>\n",
       "  </thead>\n",
       "  <tbody>\n",
       "    <tr>\n",
       "      <th>count</th>\n",
       "      <td>1067.0</td>\n",
       "      <td>1067.000000</td>\n",
       "      <td>1067.000000</td>\n",
       "      <td>1067.000000</td>\n",
       "      <td>1067.000000</td>\n",
       "      <td>1067.000000</td>\n",
       "      <td>1067.000000</td>\n",
       "      <td>1067.000000</td>\n",
       "    </tr>\n",
       "    <tr>\n",
       "      <th>mean</th>\n",
       "      <td>2014.0</td>\n",
       "      <td>3.346298</td>\n",
       "      <td>5.794752</td>\n",
       "      <td>13.296532</td>\n",
       "      <td>9.474602</td>\n",
       "      <td>11.580881</td>\n",
       "      <td>26.441425</td>\n",
       "      <td>256.228679</td>\n",
       "    </tr>\n",
       "    <tr>\n",
       "      <th>std</th>\n",
       "      <td>0.0</td>\n",
       "      <td>1.415895</td>\n",
       "      <td>1.797447</td>\n",
       "      <td>4.101253</td>\n",
       "      <td>2.794510</td>\n",
       "      <td>3.485595</td>\n",
       "      <td>7.468702</td>\n",
       "      <td>63.372304</td>\n",
       "    </tr>\n",
       "    <tr>\n",
       "      <th>min</th>\n",
       "      <td>2014.0</td>\n",
       "      <td>1.000000</td>\n",
       "      <td>3.000000</td>\n",
       "      <td>4.600000</td>\n",
       "      <td>4.900000</td>\n",
       "      <td>4.700000</td>\n",
       "      <td>11.000000</td>\n",
       "      <td>108.000000</td>\n",
       "    </tr>\n",
       "    <tr>\n",
       "      <th>25%</th>\n",
       "      <td>2014.0</td>\n",
       "      <td>2.000000</td>\n",
       "      <td>4.000000</td>\n",
       "      <td>10.250000</td>\n",
       "      <td>7.500000</td>\n",
       "      <td>9.000000</td>\n",
       "      <td>21.000000</td>\n",
       "      <td>207.000000</td>\n",
       "    </tr>\n",
       "    <tr>\n",
       "      <th>50%</th>\n",
       "      <td>2014.0</td>\n",
       "      <td>3.400000</td>\n",
       "      <td>6.000000</td>\n",
       "      <td>12.600000</td>\n",
       "      <td>8.800000</td>\n",
       "      <td>10.900000</td>\n",
       "      <td>26.000000</td>\n",
       "      <td>251.000000</td>\n",
       "    </tr>\n",
       "    <tr>\n",
       "      <th>75%</th>\n",
       "      <td>2014.0</td>\n",
       "      <td>4.300000</td>\n",
       "      <td>8.000000</td>\n",
       "      <td>15.550000</td>\n",
       "      <td>10.850000</td>\n",
       "      <td>13.350000</td>\n",
       "      <td>31.000000</td>\n",
       "      <td>294.000000</td>\n",
       "    </tr>\n",
       "    <tr>\n",
       "      <th>max</th>\n",
       "      <td>2014.0</td>\n",
       "      <td>8.400000</td>\n",
       "      <td>12.000000</td>\n",
       "      <td>30.200000</td>\n",
       "      <td>20.500000</td>\n",
       "      <td>25.800000</td>\n",
       "      <td>60.000000</td>\n",
       "      <td>488.000000</td>\n",
       "    </tr>\n",
       "  </tbody>\n",
       "</table>\n",
       "</div>"
      ],
      "text/plain": [
       "       MODELYEAR   ENGINESIZE    CYLINDERS  FUELCONSUMPTION_CITY  \\\n",
       "count     1067.0  1067.000000  1067.000000           1067.000000   \n",
       "mean      2014.0     3.346298     5.794752             13.296532   \n",
       "std          0.0     1.415895     1.797447              4.101253   \n",
       "min       2014.0     1.000000     3.000000              4.600000   \n",
       "25%       2014.0     2.000000     4.000000             10.250000   \n",
       "50%       2014.0     3.400000     6.000000             12.600000   \n",
       "75%       2014.0     4.300000     8.000000             15.550000   \n",
       "max       2014.0     8.400000    12.000000             30.200000   \n",
       "\n",
       "       FUELCONSUMPTION_HWY  FUELCONSUMPTION_COMB  FUELCONSUMPTION_COMB_MPG  \\\n",
       "count          1067.000000           1067.000000               1067.000000   \n",
       "mean              9.474602             11.580881                 26.441425   \n",
       "std               2.794510              3.485595                  7.468702   \n",
       "min               4.900000              4.700000                 11.000000   \n",
       "25%               7.500000              9.000000                 21.000000   \n",
       "50%               8.800000             10.900000                 26.000000   \n",
       "75%              10.850000             13.350000                 31.000000   \n",
       "max              20.500000             25.800000                 60.000000   \n",
       "\n",
       "       CO2EMISSIONS  \n",
       "count   1067.000000  \n",
       "mean     256.228679  \n",
       "std       63.372304  \n",
       "min      108.000000  \n",
       "25%      207.000000  \n",
       "50%      251.000000  \n",
       "75%      294.000000  \n",
       "max      488.000000  "
      ]
     },
     "execution_count": 21,
     "metadata": {},
     "output_type": "execute_result"
    }
   ],
   "source": [
    "data.describe()"
   ]
  },
  {
   "cell_type": "code",
   "execution_count": 22,
   "metadata": {},
   "outputs": [
    {
     "data": {
      "text/html": [
       "<div>\n",
       "<style scoped>\n",
       "    .dataframe tbody tr th:only-of-type {\n",
       "        vertical-align: middle;\n",
       "    }\n",
       "\n",
       "    .dataframe tbody tr th {\n",
       "        vertical-align: top;\n",
       "    }\n",
       "\n",
       "    .dataframe thead th {\n",
       "        text-align: right;\n",
       "    }\n",
       "</style>\n",
       "<table border=\"1\" class=\"dataframe\">\n",
       "  <thead>\n",
       "    <tr style=\"text-align: right;\">\n",
       "      <th></th>\n",
       "      <th>MAKE</th>\n",
       "      <th>MODEL</th>\n",
       "      <th>VEHICLECLASS</th>\n",
       "      <th>TRANSMISSION</th>\n",
       "      <th>FUELTYPE</th>\n",
       "    </tr>\n",
       "  </thead>\n",
       "  <tbody>\n",
       "    <tr>\n",
       "      <th>count</th>\n",
       "      <td>1067</td>\n",
       "      <td>1067</td>\n",
       "      <td>1067</td>\n",
       "      <td>1067</td>\n",
       "      <td>1067</td>\n",
       "    </tr>\n",
       "    <tr>\n",
       "      <th>unique</th>\n",
       "      <td>39</td>\n",
       "      <td>663</td>\n",
       "      <td>16</td>\n",
       "      <td>22</td>\n",
       "      <td>4</td>\n",
       "    </tr>\n",
       "    <tr>\n",
       "      <th>top</th>\n",
       "      <td>FORD</td>\n",
       "      <td>F150 FFV</td>\n",
       "      <td>MID-SIZE</td>\n",
       "      <td>A6</td>\n",
       "      <td>X</td>\n",
       "    </tr>\n",
       "    <tr>\n",
       "      <th>freq</th>\n",
       "      <td>90</td>\n",
       "      <td>8</td>\n",
       "      <td>178</td>\n",
       "      <td>222</td>\n",
       "      <td>514</td>\n",
       "    </tr>\n",
       "  </tbody>\n",
       "</table>\n",
       "</div>"
      ],
      "text/plain": [
       "        MAKE     MODEL VEHICLECLASS TRANSMISSION FUELTYPE\n",
       "count   1067      1067         1067         1067     1067\n",
       "unique    39       663           16           22        4\n",
       "top     FORD  F150 FFV     MID-SIZE           A6        X\n",
       "freq      90         8          178          222      514"
      ]
     },
     "execution_count": 22,
     "metadata": {},
     "output_type": "execute_result"
    }
   ],
   "source": [
    "data.select_dtypes('category').describe()"
   ]
  },
  {
   "cell_type": "code",
   "execution_count": 23,
   "metadata": {},
   "outputs": [
    {
     "ename": "NameError",
     "evalue": "name 'sns' is not defined",
     "output_type": "error",
     "traceback": [
      "\u001b[1;31m---------------------------------------------------------------------------\u001b[0m",
      "\u001b[1;31mNameError\u001b[0m                                 Traceback (most recent call last)",
      "\u001b[1;32m~\\AppData\\Local\\Temp/ipykernel_4084/2046872931.py\u001b[0m in \u001b[0;36m<module>\u001b[1;34m\u001b[0m\n\u001b[1;32m----> 1\u001b[1;33m \u001b[0msns\u001b[0m\u001b[1;33m.\u001b[0m\u001b[0mhisplot\u001b[0m\u001b[1;33m(\u001b[0m\u001b[0mdata\u001b[0m\u001b[1;33m[\u001b[0m\u001b[1;34m'CO2EMISSIONS'\u001b[0m\u001b[1;33m]\u001b[0m\u001b[1;33m)\u001b[0m\u001b[1;33m\u001b[0m\u001b[1;33m\u001b[0m\u001b[0m\n\u001b[0m",
      "\u001b[1;31mNameError\u001b[0m: name 'sns' is not defined"
     ]
    }
   ],
   "source": [
    "sns.hisplot(data['CO2EMISSIONS'])"
   ]
  },
  {
   "cell_type": "code",
   "execution_count": null,
   "metadata": {
    "tags": []
   },
   "outputs": [],
   "source": []
  },
  {
   "cell_type": "code",
   "execution_count": null,
   "metadata": {},
   "outputs": [],
   "source": []
  },
  {
   "cell_type": "code",
   "execution_count": null,
   "metadata": {},
   "outputs": [],
   "source": []
  },
  {
   "cell_type": "code",
   "execution_count": null,
   "metadata": {},
   "outputs": [],
   "source": []
  },
  {
   "cell_type": "markdown",
   "metadata": {},
   "source": [
    "![](https://upload.wikimedia.org/wikipedia/commons/0/0d/Distribution_of_Annual_Household_Income_in_the_United_States_2010.png)"
   ]
  },
  {
   "cell_type": "markdown",
   "metadata": {},
   "source": [
    "https://www.youtube.com/watch?v=2oJldeE4JcU"
   ]
  },
  {
   "cell_type": "markdown",
   "metadata": {},
   "source": [
    "https://www.youtube.com/watch?v=rzFX5NWojp0m"
   ]
  },
  {
   "cell_type": "code",
   "execution_count": 30,
   "metadata": {},
   "outputs": [
    {
     "name": "stdout",
     "output_type": "stream",
     "text": [
      "Collecting package metadata (current_repodata.json): ...working... done\n",
      "Note: you may need to restart the kernel to use updated packages.\n",
      "Solving environment: ...working... done\n",
      "\n",
      "## Package Plan ##\n",
      "\n",
      "  environment location: C:\\Users\\Admin\\anaconda3\n",
      "\n",
      "  added / updated specs:\n",
      "    - matplotlib\n",
      "\n",
      "\n",
      "The following packages will be downloaded:\n",
      "\n",
      "    package                    |            build\n",
      "    ---------------------------|-----------------\n",
      "    conda-4.12.0               |   py39hcbf5309_0         1.0 MB  conda-forge\n",
      "    python_abi-3.9             |           2_cp39           4 KB  conda-forge\n",
      "    ------------------------------------------------------------\n",
      "                                           Total:         1.0 MB\n",
      "\n",
      "The following NEW packages will be INSTALLED:\n",
      "\n",
      "\n",
      "  python_abi         conda-forge/win-64::python_abi-3.9-2_cp39\n",
      "\n",
      "The following packages will be SUPERSEDED by a higher-priority channel:\n",
      "\n",
      "  conda              pkgs/main::conda-4.12.0-py39haa95532_0 --> conda-forge::conda-4.12.0-py39hcbf5309_0\n",
      "\n",
      "\n",
      "\n",
      "Downloading and Extracting Packages\n",
      "\n",
      "conda-4.12.0         | 1.0 MB    |            |   0% \n",
      "conda-4.12.0         | 1.0 MB    | 1          |   2% \n",
      "conda-4.12.0         | 1.0 MB    | ##3        |  23% \n",
      "conda-4.12.0         | 1.0 MB    | ########4  |  85% \n",
      "conda-4.12.0         | 1.0 MB    | ########## | 100% \n",
      "\n",
      "python_abi-3.9       | 4 KB      |            |   0% \n",
      "python_abi-3.9       | 4 KB      | ########## | 100% \n",
      "python_abi-3.9       | 4 KB      | ########## | 100% \n",
      "Preparing transaction: ...working... done\n",
      "Verifying transaction: ...working... done\n",
      "Executing transaction: ...working... done\n"
     ]
    }
   ],
   "source": [
    "conda install -c conda-forge matplotlib"
   ]
  },
  {
   "cell_type": "code",
   "execution_count": 34,
   "metadata": {},
   "outputs": [],
   "source": [
    "import matplotlib.pyplot as plt\n",
    "import pandas as pd\n",
    "import numpy as np\n",
    "import seaborn as sns"
   ]
  },
  {
   "cell_type": "code",
   "execution_count": 35,
   "metadata": {},
   "outputs": [
    {
     "name": "stderr",
     "output_type": "stream",
     "text": [
      "C:\\Users\\Admin\\AppData\\Local\\Temp/ipykernel_4084/2302258608.py:11: MatplotlibDeprecationWarning: Passing non-integers as three-element position specification is deprecated since 3.3 and will be removed two minor releases later.\n",
      "  ax = fig.add_subplot(nrows, ncols, i + 1)\n"
     ]
    },
    {
     "data": {
      "image/png": "[encoded data removed]",
      "text/plain": [
       "<Figure size 720x504 with 7 Axes>"
      ]
     },
     "metadata": {
      "needs_background": "light"
     },
     "output_type": "display_data"
    }
   ],
   "source": [
    "df_num = data.select_dtypes(exclude='category').drop('MODELYEAR',axis=1)\n",
    "# Figure\n",
    "fig = plt.figure(figsize=(10, 7))\n",
    "\n",
    "# Define grid\n",
    "ncols = 3\n",
    "nrows = np.ceil(df_num.shape[1] / ncols)\n",
    "\n",
    "# Add subplots\n",
    "for i, c in enumerate(df_num.columns):\n",
    "    ax = fig.add_subplot(nrows, ncols, i + 1)\n",
    "    df_num[c].plot.hist(bins=50, ax=ax)\n",
    "    ax.set_title(c)\n",
    "    ax.set_ylabel(None)\n",
    "\n",
    "# Other\n",
    "plt.tight_layout()\n",
    "plt.show()"
   ]
  },
  {
   "cell_type": "code",
   "execution_count": null,
   "metadata": {},
   "outputs": [],
   "source": []
  },
  {
   "cell_type": "code",
   "execution_count": null,
   "metadata": {},
   "outputs": [],
   "source": []
  },
  {
   "cell_type": "markdown",
   "metadata": {},
   "source": [
    "# Diagnostic Analysis"
   ]
  },
  {
   "cell_type": "markdown",
   "metadata": {},
   "source": [
    "![](https://www.statisticshowto.com/wp-content/uploads/2012/10/pearson-2-small.png)"
   ]
  },
  {
   "cell_type": "code",
   "execution_count": 36,
   "metadata": {},
   "outputs": [
    {
     "ename": "SyntaxError",
     "evalue": "invalid syntax (Temp/ipykernel_4084/1637120764.py, line 1)",
     "output_type": "error",
     "traceback": [
      "\u001b[1;36m  File \u001b[1;32m\"C:\\Users\\Admin\\AppData\\Local\\Temp/ipykernel_4084/1637120764.py\"\u001b[1;36m, line \u001b[1;32m1\u001b[0m\n\u001b[1;33m    sns.heatmap(data=data.select_dtypes(exclude='category').drop('MODELYEAR',axis=1).corr().annot=TRUE\u001b[0m\n\u001b[1;37m                                                                                                 ^\u001b[0m\n\u001b[1;31mSyntaxError\u001b[0m\u001b[1;31m:\u001b[0m invalid syntax\n"
     ]
    }
   ],
   "source": [
    "sns.heatmap(data=data.select_dtypes(exclude='category').drop('MODELYEAR',axis=1).corr().annot=TRUE"
   ]
  },
  {
   "cell_type": "code",
   "execution_count": null,
   "metadata": {},
   "outputs": [],
   "source": []
  },
  {
   "cell_type": "code",
   "execution_count": null,
   "metadata": {},
   "outputs": [],
   "source": []
  },
  {
   "cell_type": "code",
   "execution_count": null,
   "metadata": {},
   "outputs": [],
   "source": []
  },
  {
   "cell_type": "code",
   "execution_count": null,
   "metadata": {},
   "outputs": [],
   "source": []
  },
  {
   "cell_type": "markdown",
   "metadata": {},
   "source": [
    "# Feature Selection & Training"
   ]
  },
  {
   "cell_type": "raw",
   "metadata": {},
   "source": [
    "What is linear?\n",
    "Trong cách sử dụng thông thường, tuyến tính được dùng để nói lên một mối quan hệ toán học hoặc hàm có thể được biểu diễn trên đồ thị là một đường thẳng, như trong hai đại lượng tỉ lệ thuận với nhau"
   ]
  },
  {
   "cell_type": "markdown",
   "metadata": {},
   "source": [
    "![](https://i1.wp.com/cmdlinetips.com/wp-content/uploads/2020/03/Linear_Regression_fit_with_Matrix_Multiplication.jpg?fit=594%2C396&ssl=1)"
   ]
  },
  {
   "cell_type": "markdown",
   "metadata": {},
   "source": [
    "https://www.youtube.com/watch?v=iIUq0SqBSH0"
   ]
  },
  {
   "cell_type": "raw",
   "metadata": {},
   "source": []
  },
  {
   "cell_type": "markdown",
   "metadata": {},
   "source": [
    "![](https://community.cloudera.com/t5/image/serverpage/image-id/25068iFF075A5AEC3B8528/image-size/medium?v=v2&px=400)"
   ]
  },
  {
   "cell_type": "code",
   "execution_count": null,
   "metadata": {},
   "outputs": [],
   "source": [
    "mean_absolute_error, mean_squared_error, r2_score"
   ]
  },
  {
   "cell_type": "markdown",
   "metadata": {},
   "source": [
    "![](https://i.imgur.com/19LNbyQ.jpeg)"
   ]
  },
  {
   "cell_type": "markdown",
   "metadata": {},
   "source": [
    "![](https://pbs.twimg.com/media/FAX6eHvWEAIWBjB.png)"
   ]
  },
  {
   "cell_type": "markdown",
   "metadata": {},
   "source": [
    "![](https://vitalflux.com/wp-content/uploads/2019/07/R-squared-formula-function-of-SSR-and-SST.jpg)"
   ]
  },
  {
   "cell_type": "code",
   "execution_count": null,
   "metadata": {},
   "outputs": [],
   "source": []
  },
  {
   "cell_type": "code",
   "execution_count": null,
   "metadata": {},
   "outputs": [],
   "source": []
  },
  {
   "cell_type": "code",
   "execution_count": null,
   "metadata": {},
   "outputs": [],
   "source": []
  },
  {
   "cell_type": "code",
   "execution_count": null,
   "metadata": {},
   "outputs": [],
   "source": []
  },
  {
   "cell_type": "code",
   "execution_count": null,
   "metadata": {},
   "outputs": [],
   "source": []
  },
  {
   "cell_type": "code",
   "execution_count": null,
   "metadata": {},
   "outputs": [],
   "source": []
  },
  {
   "cell_type": "code",
   "execution_count": null,
   "metadata": {},
   "outputs": [],
   "source": []
  },
  {
   "cell_type": "code",
   "execution_count": null,
   "metadata": {},
   "outputs": [],
   "source": []
  },
  {
   "cell_type": "code",
   "execution_count": null,
   "metadata": {},
   "outputs": [],
   "source": []
  },
  {
   "cell_type": "code",
   "execution_count": null,
   "metadata": {},
   "outputs": [],
   "source": []
  },
  {
   "cell_type": "markdown",
   "metadata": {},
   "source": [
    "# Evaluation"
   ]
  },
  {
   "cell_type": "code",
   "execution_count": null,
   "metadata": {},
   "outputs": [],
   "source": []
  },
  {
   "cell_type": "code",
   "execution_count": null,
   "metadata": {},
   "outputs": [],
   "source": []
  },
  {
   "cell_type": "code",
   "execution_count": null,
   "metadata": {},
   "outputs": [],
   "source": []
  },
  {
   "cell_type": "markdown",
   "metadata": {},
   "source": [
    "![](https://spidec.files.wordpress.com/2017/05/fittings.jpg?w=702)"
   ]
  },
  {
   "cell_type": "code",
   "execution_count": null,
   "metadata": {},
   "outputs": [],
   "source": []
  },
  {
   "cell_type": "markdown",
   "metadata": {},
   "source": [
    "**Evaluation methods**\n",
    "- Train - test\n",
    "- Train - val - test\n",
    "-> `train_test_split()`\n",
    "- K-fold cross validation (K=5, 10, ...)\n",
    "![](https://baoboitoithuong.com/cross-validation-la-gi/imager_2_3182_700.jpg)"
   ]
  },
  {
   "cell_type": "code",
   "execution_count": null,
   "metadata": {},
   "outputs": [],
   "source": []
  }
 ],
 "metadata": {
  "kernelspec": {
   "display_name": "Python 3 (ipykernel)",
   "language": "python",
   "name": "python3"
  },
  "language_info": {
   "codemirror_mode": {
    "name": "ipython",
    "version": 3
   },
   "file_extension": ".py",
   "mimetype": "text/x-python",
   "name": "python",
   "nbconvert_exporter": "python",
   "pygments_lexer": "ipython3",
   "version": "3.9.7"
  }
 },
 "nbformat": 4,
 "nbformat_minor": 4
}
