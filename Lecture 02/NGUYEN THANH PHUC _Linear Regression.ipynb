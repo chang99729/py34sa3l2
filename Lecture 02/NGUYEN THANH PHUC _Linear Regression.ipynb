{
 "cells": [
  {
   "cell_type": "code",
   "execution_count": 1,
   "metadata": {},
   "outputs": [],
   "source": [
    "#\n",
    "# OPTIMAL LINEAR REGRESSION MODELS\n",
    "#"
   ]
  },
  {
   "cell_type": "code",
   "execution_count": 2,
   "metadata": {},
   "outputs": [],
   "source": [
    "# Part 0: IMPORTS LIBRARY\n",
    "import numpy as np\n",
    "import pandas as pd\n",
    "import seaborn as sns\n",
    "import matplotlib as mpl\n",
    "import matplotlib.pyplot as plt\n",
    "import sklearn as sklearn\n",
    "import csv"
   ]
  },
  {
   "cell_type": "code",
   "execution_count": 3,
   "metadata": {},
   "outputs": [
    {
     "name": "stdout",
     "output_type": "stream",
     "text": [
      "<class 'pandas.core.frame.DataFrame'>\n",
      "RangeIndex: 1067 entries, 0 to 1066\n",
      "Data columns (total 13 columns):\n",
      " #   Column                    Non-Null Count  Dtype  \n",
      "---  ------                    --------------  -----  \n",
      " 0   MODELYEAR                 1067 non-null   int64  \n",
      " 1   MAKE                      1067 non-null   object \n",
      " 2   MODEL                     1067 non-null   object \n",
      " 3   VEHICLECLASS              1067 non-null   object \n",
      " 4   ENGINESIZE                1067 non-null   float64\n",
      " 5   CYLINDERS                 1067 non-null   int64  \n",
      " 6   TRANSMISSION              1067 non-null   object \n",
      " 7   FUELTYPE                  1067 non-null   object \n",
      " 8   FUELCONSUMPTION_CITY      1067 non-null   float64\n",
      " 9   FUELCONSUMPTION_HWY       1067 non-null   float64\n",
      " 10  FUELCONSUMPTION_COMB      1067 non-null   float64\n",
      " 11  FUELCONSUMPTION_COMB_MPG  1067 non-null   int64  \n",
      " 12  CO2EMISSIONS              1067 non-null   int64  \n",
      "dtypes: float64(4), int64(4), object(5)\n",
      "memory usage: 108.5+ KB\n"
     ]
    }
   ],
   "source": [
    "data = pd.read_csv('FuelConsumptionCo2.csv')\n",
    "data.head()\n",
    "data.shape\n",
    "data.info()"
   ]
  },
  {
   "cell_type": "code",
   "execution_count": 4,
   "metadata": {},
   "outputs": [
    {
     "name": "stdout",
     "output_type": "stream",
     "text": [
      "----------------------------------------\n",
      "MAKE\n",
      "['ACURA' 'ASTON MARTIN' 'AUDI' 'BENTLEY' 'BMW' 'BUICK' 'CADILLAC'\n",
      " 'CHEVROLET' 'CHRYSLER' 'DODGE' 'FIAT' 'FORD' 'GMC' 'HONDA' 'HYUNDAI'\n",
      " 'INFINITI' 'JAGUAR' 'JEEP' 'KIA' 'LAMBORGHINI' 'LAND ROVER' 'LEXUS'\n",
      " 'LINCOLN' 'MASERATI' 'MAZDA' 'MERCEDES-BENZ' 'MINI' 'MITSUBISHI' 'NISSAN'\n",
      " 'PORSCHE' 'RAM' 'ROLLS-ROYCE' 'SCION' 'SMART' 'SRT' 'SUBARU' 'TOYOTA'\n",
      " 'VOLKSWAGEN' 'VOLVO']\n",
      "MODEL\n",
      "['ILX' 'ILX HYBRID' 'MDX 4WD' 'RDX AWD' 'RLX' 'TL' 'TL AWD' 'TSX' 'DB9'\n",
      " 'RAPIDE' 'V8 VANTAGE' 'V8 VANTAGE S' 'VANQUISH' 'A4' 'A4 QUATTRO'\n",
      " 'A5 CABRIOLET QUATTRO' 'A5 QUATTRO' 'A6 QUATTRO'\n",
      " 'A6 QUATTRO TDI CLEAN DIESEL' 'A7 QUATTRO' 'A7 QUATTRO TDI CLEAN DIESEL'\n",
      " 'A8' 'A8 TDI CLEAN DIESEL' 'A8L' 'A8L TDI CLEAN DIESEL' 'ALLROAD QUATTRO'\n",
      " 'Q5' 'Q5 HYBRID' 'Q5 TDI CLEAN DIESEL' 'Q7' 'Q7 TDI CLEAN DIESEL' 'R8'\n",
      " 'R8 SPYDER' 'RS5' 'RS5 CABRIOLET' 'RS7' 'S4' 'S5' 'S5 CABRIOLET' 'S6'\n",
      " 'S7' 'S8' 'SQ5' 'TT COUPE QUATTRO' 'TT ROADSTER QUATTRO'\n",
      " 'TTS COUPE QUATTRO' 'TTS ROADSTER QUATTRO' 'CONTINENTAL GT'\n",
      " 'CONTINENTAL GT CONVERTIBLE' 'CONTINENTAL GT SPEED CONVERTIBLE'\n",
      " 'CONTINENTAL GTC' 'FLYING SPUR' 'MULSANNE' '320i' '320i xDRIVE'\n",
      " '328d xDRIVE' '328d xDRIVE TOURING' '328i' '328i xDRIVE'\n",
      " '328i xDRIVE GRAN TURISMO' '328i xDRIVE TOURING' '335i' '335i xDRIVE'\n",
      " '335i xDRIVE GRAN TURISMO' '428i COUPE' '428i xDRIVE COUPE' '435i COUPE'\n",
      " '435i xDRIVE COUPE' '528i' '528i xDRIVE' '535d xDRIVE' '535i xDRIVE'\n",
      " '535i xDRIVE GRAN TURISMO' '550i xDRIVE' '550i xDRIVE GRAN TURISMO'\n",
      " '640i xDRIVE GRAN COUPE' '650i xDRIVE CABRIOLET' '650i xDRIVE COUPE'\n",
      " '650i xDRIVE GRAN COUPE' '740Li xDRIVE' '750i xDRIVE' '750Li xDRIVE'\n",
      " '760Li' 'ACTIVEHYBRID 3' 'ACTIVEHYBRID 5' 'ACTIVEHYBRID 7L'\n",
      " 'ALPINA B7 xDRIVE LWB' 'ALPINA B7 xDRIVE SWB' 'M5' 'M6' 'M6 CABRIOLET'\n",
      " 'M6 GRAN COUPE' 'X1 xDRIVE28i' 'X1 xDRIVE35i' 'X3 xDRIVE28i'\n",
      " 'X3 xDRIVE35i' 'X5 xDRIVE35i' 'X5 xDRIVE50i' 'X6 M' 'X6 xDRIVE35i'\n",
      " 'X6 xDRIVE50i' 'Z4 sDRIVE28i' 'Z4 sDRIVE35i' 'Z4 sDRIVE35is' 'ENCLAVE'\n",
      " 'ENCLAVE AWD' 'ENCORE' 'ENCORE AWD' 'LACROSSE' 'LACROSSE AWD'\n",
      " 'LACROSSE eASSIST' 'REGAL' 'REGAL AWD' 'REGAL eASSIST' 'VERANO' 'ATS'\n",
      " 'ATS AWD' 'CTS COUPE' 'CTS COUPE AWD' 'CTS SEDAN' 'CTS SEDAN AWD'\n",
      " 'CTS SEDAN Vsport' 'CTS SPORT WAGON' 'CTS SPORT WAGON AWD' 'CTS-V COUPE'\n",
      " 'CTS-V SEDAN' 'CTS-V SPORT WAGON' 'ESCALADE AWD' 'ESCALADE ESV AWD' 'SRX'\n",
      " 'SRX AWD' 'XTS' 'XTS AWD' 'XTS Vsport AWD' 'CAMARO' 'CAMARO 2LS'\n",
      " 'CAMARO SS' 'CAMARO ZL1' 'CORVETTE' 'CRUZE' 'CRUZE DIESEL' 'CRUZE ECO'\n",
      " 'EQUINOX' 'EQUINOX AWD' 'EXPRESS 1500 CARGO' 'EXPRESS 1500 CARGO AWD'\n",
      " 'EXPRESS 1500 CARGO CONV' 'EXPRESS 1500 CARGO CONV AWD'\n",
      " 'EXPRESS 1500 PASSENGER' 'EXPRESS 1500 PASSENGER AWD'\n",
      " 'EXPRESS 2500 PASSENGER' 'EXPRESS 3500 PASSENGER' 'IMPALA' 'IMPALA ECO'\n",
      " 'MALIBU' 'ORLANDO' 'SILVERADO' 'SILVERADO 4WD' 'SONIC' 'SONIC 5'\n",
      " 'SONIC 5 RS' 'SONIC RS' 'SPARK' 'SUBURBAN' 'SUBURBAN 4WD' 'TAHOE'\n",
      " 'TAHOE 4WD' 'TRAVERSE' 'TRAVERSE AWD' 'TRAX' 'TRAX AWD' '300'\n",
      " '200 CONVERTIBLE' '200 CONVERTIBLE FFV' '200 SEDAN' '200 SEDAN FFV'\n",
      " '300 (MDS)' '300 AWD' '300 AWD (MDS)' '300 AWD FFV' '300 FFV'\n",
      " '300 SRT (MDS)' 'TOWN & COUNTRY FFV' 'AVENGER' 'AVENGER FFV' 'CHALLENGER'\n",
      " 'CHALLENGER (MDS)' 'CHALLENGER SRT' 'CHALLENGER SRT (MDS)' 'CHARGER'\n",
      " 'CHARGER (MDS)' 'CHARGER AWD' 'CHARGER AWD (MDS)' 'CHARGER AWD FFV'\n",
      " 'CHARGER FFV' 'CHARGER SRT (MDS)' 'DART' 'DART FFV' 'DART GT'\n",
      " 'DART TURBO AERO' 'DURANGO AWD (MDS)' 'DURANGO AWD FFV'\n",
      " 'GRAND CARAVAN FFV' 'JOURNEY' 'JOURNEY AWD' 'JOURNEY FFV'\n",
      " '500 ABARTH CABRIO' '500 ABARTH HATCHBACK' '500 CABRIO'\n",
      " '500 CABRIO TURBO' '500 HATCHBACK' '500 HATCHBACK TURBO' '500L TURBO'\n",
      " 'C-MAX HYBRID' 'E150 VAN FFV' 'E150 WAGON FFV' 'E350 WAGON'\n",
      " 'E350 WAGON FFV' 'EDGE' 'EDGE AWD' 'ESCAPE' 'ESCAPE AWD'\n",
      " 'EXPEDITION 4X4 FFV' 'EXPLORER' 'EXPLORER AWD' 'EXPLORER FFV'\n",
      " 'EXPLORER FFV AWD' 'F150' 'F150 4X4' 'F150 FFV' 'F150 FFV 4X4'\n",
      " 'F150 RAPTOR 4X4' 'FIESTA' 'FIESTA SFE' 'FIESTA ST' 'FLEX' 'FLEX AWD'\n",
      " 'FLEX AWD (EcoBoost)' 'FOCUS' 'FOCUS FFV' 'FOCUS SFE FFV' 'FUSION'\n",
      " 'FUSION (Start/Stop)' 'FUSION AWD' 'FUSION HYBRID' 'MUSTANG'\n",
      " 'MUSTANG CONVERTIBLE' 'TAURUS' 'TAURUS AWD' 'TAURUS FFV' 'TAURUS FFV AWD'\n",
      " 'TRANSIT CONNECT' 'TRANSIT CONNECT TAXI' 'TRANSIT CONNECT WAGON' 'ACADIA'\n",
      " 'ACADIA AWD' 'SAVANA 1500 CARGO' 'SAVANA 1500 CARGO AWD'\n",
      " 'SAVANA 1500 CARGO CONV' 'SAVANA 1500 CARGO CONV AWD'\n",
      " 'SAVANA 1500 PASSENGER' 'SAVANA 1500 PASSENGER AWD'\n",
      " 'SAVANA 2500 PASSENGER' 'SAVANA 3500 PASSENGER' 'SIERRA' 'SIERRA 4WD'\n",
      " 'TERRAIN' 'TERRAIN AWD' 'YUKON' 'YUKON 4WD' 'YUKON DENALI AWD'\n",
      " 'YUKON DENALI XL AWD' 'YUKON XL' 'YUKON XL 4WD' 'ACCORD' 'ACCORD HYBRID'\n",
      " 'CIVIC' 'CROSSTOUR AWD' 'CR-V' 'CR-V AWD' 'CR-Z' 'FIT' 'ODYSSEY' 'PILOT'\n",
      " 'PILOT AWD' 'RIDGELINE AWD' 'ACCENT' 'ELANTRA GT' 'EQUUS' 'GENESIS'\n",
      " 'SANTA FE' 'SANTA FE 4WD' 'SANTA FE SPORT' 'SANTA FE SPORT 4WD' 'SONATA'\n",
      " 'SONATA HYBRID' 'SONATA HYBRID LIMITED' 'TUCSON' 'TUCSON 4WD' 'VELOSTER'\n",
      " 'VELOSTER TURBO' 'Q50' 'Q50 AWD' 'Q50 HYBRID' 'Q50 HYBRID AWD'\n",
      " 'Q60 AWD COUPE' 'Q60 CONVERTIBLE' 'Q60 COUPE' 'Q70' 'Q70 AWD'\n",
      " 'Q70 HYBRID' 'QX50 AWD' 'QX60' 'QX60 AWD' 'QX60 HYBRID AWD' 'QX70 AWD'\n",
      " 'QX80 4WD' 'F-TYPE CONVERTIBLE' 'F-TYPE S CONVERTIBLE'\n",
      " 'F-TYPE V8 S CONVERTIBLE' 'XF' 'XF 3.0L AWD' 'XFR' 'XFR-S' 'XJ AWD'\n",
      " 'XJ SUPERCHARGED' 'XJL AWD PORTFOLIO' 'XJL SUPERCHARGED' 'XJR' 'XJR LWB'\n",
      " 'XK CONVERTIBLE' 'XK COUPE' 'XKR CONVERTIBLE' 'XKR COUPE'\n",
      " 'XKR-S CONVERTIBLE' 'XKR-S COUPE' 'CHEROKEE' 'CHEROKEE 4X4'\n",
      " 'CHEROKEE 4X4 Active Drive II' 'CHEROKEE TRAILHAWK 4X4' 'COMPASS'\n",
      " 'COMPASS 4X4' 'COMPASS 4X4 TRAIL RATED' 'GRAND CHEROKEE 4X4 (MDS)'\n",
      " 'GRAND CHEROKEE 4X4 DIESEL' 'GRAND CHEROKEE 4X4 FFV'\n",
      " 'GRAND CHEROKEE 4X4 SRT (MDS)' 'PATRIOT' 'PATRIOT 4X4'\n",
      " 'PATRIOT 4X4 TRAIL RATED' 'WRANGLER 4X4 (2-DOOR)'\n",
      " 'WRANGLER UNLIMITED 4X4 (4-DOOR)' 'CADENZA' 'FORTE' 'FORTE 5'\n",
      " 'FORTE KOUP' 'OPTIMA' 'RIO' 'RIO ECO' 'RONDO' 'SEDONA' 'SORENTO'\n",
      " 'SORENTO 4WD' 'SOUL' 'SOUL ECO Dynamics' 'SPORTAGE' 'SPORTAGE AWD'\n",
      " 'AVENTADOR COUPE' 'GALLARDO COUPE' 'LR2' 'LR4' 'RANGE ROVER EVOQUE'\n",
      " 'RANGE ROVER EVOQUE COUPE' 'RANGE ROVER LWB V8 5.0 SC'\n",
      " 'RANGE ROVER LWB V8 5.0 SC FFV' 'RANGE ROVER SPORT V6 3.0 SC'\n",
      " 'RANGE ROVER SPORT V6 3.0 SC FFV' 'RANGE ROVER SPORT V8 5.0 SC'\n",
      " 'RANGE ROVER SPORT V8 5.0 SC FFV' 'RANGE ROVER V6 3.0 SC'\n",
      " 'RANGE ROVER V6 3.0 SC FFV' 'RANGE ROVER V8 5.0 SC'\n",
      " 'RANGE ROVER V8 5.0 SC FFV' 'CT 200h' 'ES 300h' 'ES 350' 'GS 350'\n",
      " 'GS 350 AWD' 'GS 450h' 'GX 460' 'IS 250' 'IS 250 AWD' 'IS 250 C' 'IS 350'\n",
      " 'IS 350 AWD' 'IS 350 C' 'IS F' 'LS 460' 'LS 460 AWD' 'LS 460 L AWD'\n",
      " 'LS 600h L' 'LX 570' 'RX 350 AWD' 'RX 450h AWD' 'MKS AWD' 'MKT AWD'\n",
      " 'MKT LIVERY' 'MKT LIVERY AWD' 'MKX AWD' 'MKZ' 'MKZ AWD' 'MKZ HYBRID'\n",
      " 'NAVIGATOR 4X4 FFV' 'GHIBLI' 'GHIBLI AWD' 'GRANTURISMO'\n",
      " 'GRANTURISMO CONVERTIBLE' 'QUATTROPORTE GTS' 'QUATTROPORTE SQ4' 'CX-5'\n",
      " 'CX-5 4WD' 'CX-9' 'CX-9 4WD' 'MAZDA2' 'MAZDA3 4-DOOR'\n",
      " 'MAZDA3 4-DOOR (i-ELOOP)' 'MAZDA3 4-DOOR (SIL)' 'MAZDA3 5-DOOR'\n",
      " 'MAZDA3 5-DOOR (i-ELOOP)' 'MAZDA3 5-DOOR (SIL)' 'MAZDA5' 'MAZDA6'\n",
      " 'MAZDA6 (i-ELOOP)' 'MX-5' 'B 250' 'C 250' 'C 250 COUPE'\n",
      " 'C 300 4MATIC FFV' 'C 350' 'C 350 4MATIC' 'C 350 4MATIC COUPE'\n",
      " 'C 350 COUPE' 'C 63 AMG' 'C 63 AMG COUPE' 'CL 550 4MATIC' 'CL 63 AMG'\n",
      " 'CLA 250' 'CLA 45 AMG 4MATIC' 'CLS 550 4MATIC' 'CLS 63 AMG 4MATIC'\n",
      " 'CLS 63 AMG S 4MATIC' 'E 250 BLUETEC 4MATIC' 'E 300 4MATIC'\n",
      " 'E 350 4MATIC' 'E 350 4MATIC COUPE' 'E 350 4MATIC WAGON'\n",
      " 'E 350 CABRIOLET' 'E 350 COUPE' 'E 400 HYBRID' 'E 550 4MATIC'\n",
      " 'E 550 CABRIOLET' 'E 550 COUPE' 'E 63 AMG 4MATIC' 'E 63 AMG 4MATIC WAGON'\n",
      " 'E 63 AMG S 4MATIC' 'E 63 AMG S 4MATIC WAGON' 'G 550' 'G 63 AMG'\n",
      " 'GL 350 BLUETEC 4MATIC' 'GL 450 4MATIC' 'GL 550 4MATIC' 'GL 63 AMG'\n",
      " 'GLK 250 BLUETEC 4MATIC' 'GLK 350 4MATIC' 'ML 350 4MATIC FFV'\n",
      " 'ML 350 BLUETEC 4MATIC' 'ML 550 4MATIC' 'ML 63 AMG 4MATIC'\n",
      " 'S 550 4MATIC LWB' 'S 550 4MATIC SWB' 'S 63 AMG 4MATIC' 'SL 550'\n",
      " 'SL 63 AMG' 'SL 65 AMG' 'SLK 250' 'SLK 350' 'SLK 55 AMG'\n",
      " 'SLS AMG BLACK SERIES COUPE' 'SLS AMG GT COUPE' 'SLS AMG ROADSTER'\n",
      " 'COOPER CLUBMAN' 'COOPER CONVERTIBLE' 'COOPER COUNTRYMAN' 'COOPER COUPE'\n",
      " 'COOPER PACEMAN' 'COOPER ROADSTER' 'COOPER S CLUBMAN'\n",
      " 'COOPER S CONVERTIBLE' 'COOPER S COUNTRYMAN ALL4' 'COOPER S COUPE'\n",
      " 'COOPER S PACEMAN ALL4' 'COOPER S ROADSTER' 'JOHN COOPER WORKS CLUBMAN'\n",
      " 'JOHN COOPER WORKS CONVERTIBLE' 'JOHN COOPER WORKS COUNTRYMAN ALL4'\n",
      " 'JOHN COOPER WORKS COUPE' 'JOHN COOPER WORKS PACEMAN ALL4'\n",
      " 'JOHN COOPER WORKS ROADSTER' 'LANCER' 'LANCER AWD' 'LANCER EVOLUTION'\n",
      " 'LANCER RALLIART' 'LANCER SPORTBACK' 'MIRAGE' 'OUTLANDER' 'OUTLANDER 4WD'\n",
      " 'RVR' 'RVR 4WD' '370Z' '370Z ROADSTER' 'ALTIMA' 'ARMADA 4WD' 'FRONTIER'\n",
      " 'FRONTIER 4WD' 'GT-R' 'JUKE' 'JUKE AWD' 'MAXIMA' 'MURANO AWD'\n",
      " 'NV200 CARGO VAN' 'PATHFINDER' 'PATHFINDER 4WD' 'PATHFINDER HYBRID 4WD'\n",
      " 'QUEST' 'ROGUE' 'ROGUE AWD' 'SENTRA' 'TITAN' 'TITAN 4WD' 'VERSA'\n",
      " 'XTERRA 4WD' '911 CARRERA' '911 CARRERA 4' '911 CARRERA 4 CABRIOLET'\n",
      " '911 CARRERA 4S' '911 CARRERA 4S CABRIOLET' '911 CARRERA CABRIOLET'\n",
      " '911 CARRERA S' '911 CARRERA S CABRIOLET' '911 GT3' '911 TURBO'\n",
      " '911 TURBO CABRIOLET' '911 TURBO S' '911 TURBO S CABRIOLET' 'BOXSTER'\n",
      " 'BOXSTER S' 'CAYENNE' 'CAYENNE DIESEL' 'CAYENNE GTS' 'CAYENNE S'\n",
      " 'CAYENNE S HYBRID' 'CAYENNE TURBO' 'CAYMAN' 'CAYMAN S' 'PANAMERA'\n",
      " 'PANAMERA 4' 'PANAMERA 4S' 'PANAMERA 4S EXECUTIVE' 'PANAMERA GTS'\n",
      " 'PANAMERA S' 'PANAMERA TURBO' 'PANAMERA TURBO EXECUTIVE' '1500 (MDS)'\n",
      " '1500 4X4 (MDS)' '1500 4X4 DIESEL' '1500 4X4 FFV' '1500 DIESEL'\n",
      " '1500 FFV' '1500 HFE' 'CARGO VAN FFV' 'GHOST' 'GHOST EWB' 'PHANTOM'\n",
      " 'PHANTOM COUPE' 'PHANTOM DROPHEAD COUPE' 'PHANTOM EWB' 'WRAITH' 'FR-S'\n",
      " 'iQ' 'tC' 'xB' 'xD' 'FORTWO CABRIOLET' 'FORTWO COUPE' 'VIPER COUPE'\n",
      " 'VIPER GTS COUPE' 'BRZ' 'FORESTER AWD' 'IMPREZA AWD' 'IMPREZA WAGON AWD'\n",
      " 'LEGACY AWD' 'OUTBACK AWD' 'TRIBECA AWD' 'XV CROSSTREK AWD'\n",
      " 'XV CROSSTREK HYBRID AWD' '4RUNNER (Part-Time 4WD)' '4RUNNER 4WD'\n",
      " 'AVALON' 'CAMRY' 'CAMRY HYBRID LE' 'CAMRY HYBRID XLE/SE' 'COROLLA'\n",
      " 'COROLLA LE ECO (1-mode)' 'COROLLA LE ECO (2-mode)' 'COROLLA MATRIX'\n",
      " 'FJ CRUISER 4WD' 'HIGHLANDER' 'HIGHLANDER AWD' 'HIGHLANDER HYBRID AWD'\n",
      " 'HIGHLANDER HYBRID AWD LE' 'PRIUS' 'PRIUS c' 'PRIUS v' 'RAV4' 'RAV4 AWD'\n",
      " 'RAV4 LIMITED AWD' 'SEQUOIA 4WD' 'SIENNA' 'SIENNA AWD' 'TACOMA'\n",
      " 'TACOMA 4WD' 'TUNDRA' 'TUNDRA 4WD' 'VENZA' 'VENZA 4WD' 'YARIS' 'BEETLE'\n",
      " 'BEETLE CONVERTIBLE' 'BEETLE TDI CLEAN DIESEL' 'CC' 'CC 4MOTION' 'EOS'\n",
      " 'GOLF WAGON' 'GOLF WAGON TDI CLEAN DIESEL' 'JETTA' 'JETTA GLI'\n",
      " 'JETTA TDI CLEAN DIESEL' 'JETTA TURBO HYBRID' 'PASSAT'\n",
      " 'PASSAT TDI CLEAN DIESEL' 'ROUTAN' 'TIGUAN' 'TIGUAN 4MOTION' 'TOUAREG'\n",
      " 'TOUAREG TDI CLEAN DIESEL' 'S60' 'S60 AWD' 'S80' 'S80 AWD' 'XC60'\n",
      " 'XC60 AWD' 'XC70 AWD' 'XC90 AWD']\n",
      "VEHICLECLASS\n",
      "['COMPACT' 'SUV - SMALL' 'MID-SIZE' 'MINICOMPACT' 'SUBCOMPACT'\n",
      " 'TWO-SEATER' 'FULL-SIZE' 'STATION WAGON - SMALL' 'SUV - STANDARD'\n",
      " 'VAN - CARGO' 'VAN - PASSENGER' 'PICKUP TRUCK - STANDARD' 'MINIVAN'\n",
      " 'SPECIAL PURPOSE VEHICLE' 'STATION WAGON - MID-SIZE'\n",
      " 'PICKUP TRUCK - SMALL']\n",
      "TRANSMISSION\n",
      "['AS5' 'M6' 'AV7' 'AS6' 'A6' 'AM7' 'AV8' 'AS8' 'A7' 'A8' 'M7' 'A4' 'M5'\n",
      " 'AV' 'A5' 'AM6' 'AS7' 'A9' 'AS9' 'AV6' 'AS4' 'AM5']\n",
      "FUELTYPE\n",
      "['Z' 'D' 'X' 'E']\n"
     ]
    }
   ],
   "source": [
    "# Part 1: DATA CLEANING\n",
    "print('----------------------------------------')\n",
    "for c in data.select_dtypes('object').columns:\n",
    "    print(c)\n",
    "    print(data[c].unique())"
   ]
  },
  {
   "cell_type": "code",
   "execution_count": 5,
   "metadata": {},
   "outputs": [
    {
     "name": "stdout",
     "output_type": "stream",
     "text": [
      "----------------------------------------\n",
      "\n",
      "Duplicated Data: 0\n"
     ]
    }
   ],
   "source": [
    "print('----------------------------------------')\n",
    "print()\n",
    "print(\"Duplicated Data:\", data.duplicated().sum())\n",
    "# If duplicated data, use: data.drop_duplicates()"
   ]
  },
  {
   "cell_type": "code",
   "execution_count": 6,
   "metadata": {},
   "outputs": [
    {
     "name": "stdout",
     "output_type": "stream",
     "text": [
      "----------------------------------------\n",
      "<class 'pandas.core.frame.DataFrame'>\n",
      "RangeIndex: 1067 entries, 0 to 1066\n",
      "Data columns (total 13 columns):\n",
      " #   Column                    Non-Null Count  Dtype   \n",
      "---  ------                    --------------  -----   \n",
      " 0   MODELYEAR                 1067 non-null   int64   \n",
      " 1   MAKE                      1067 non-null   category\n",
      " 2   MODEL                     1067 non-null   category\n",
      " 3   VEHICLECLASS              1067 non-null   category\n",
      " 4   ENGINESIZE                1067 non-null   float64 \n",
      " 5   CYLINDERS                 1067 non-null   int64   \n",
      " 6   TRANSMISSION              1067 non-null   category\n",
      " 7   FUELTYPE                  1067 non-null   category\n",
      " 8   FUELCONSUMPTION_CITY      1067 non-null   float64 \n",
      " 9   FUELCONSUMPTION_HWY       1067 non-null   float64 \n",
      " 10  FUELCONSUMPTION_COMB      1067 non-null   float64 \n",
      " 11  FUELCONSUMPTION_COMB_MPG  1067 non-null   int64   \n",
      " 12  CO2EMISSIONS              1067 non-null   int64   \n",
      "dtypes: category(5), float64(4), int64(4)\n",
      "memory usage: 97.3 KB\n"
     ]
    }
   ],
   "source": [
    "print('----------------------------------------')\n",
    "for c in data.select_dtypes('object').columns:\n",
    "    data[c]= data[c].astype('category')\n",
    "data.info()"
   ]
  },
  {
   "cell_type": "code",
   "execution_count": 7,
   "metadata": {},
   "outputs": [
    {
     "name": "stdout",
     "output_type": "stream",
     "text": [
      "----------------------------------------\n",
      "\n",
      "Data Describe\n",
      "       MODELYEAR   ENGINESIZE    CYLINDERS  FUELCONSUMPTION_CITY  \\\n",
      "count     1067.0  1067.000000  1067.000000           1067.000000   \n",
      "mean      2014.0     3.346298     5.794752             13.296532   \n",
      "std          0.0     1.415895     1.797447              4.101253   \n",
      "min       2014.0     1.000000     3.000000              4.600000   \n",
      "25%       2014.0     2.000000     4.000000             10.250000   \n",
      "50%       2014.0     3.400000     6.000000             12.600000   \n",
      "75%       2014.0     4.300000     8.000000             15.550000   \n",
      "max       2014.0     8.400000    12.000000             30.200000   \n",
      "\n",
      "       FUELCONSUMPTION_HWY  FUELCONSUMPTION_COMB  FUELCONSUMPTION_COMB_MPG  \\\n",
      "count          1067.000000           1067.000000               1067.000000   \n",
      "mean              9.474602             11.580881                 26.441425   \n",
      "std               2.794510              3.485595                  7.468702   \n",
      "min               4.900000              4.700000                 11.000000   \n",
      "25%               7.500000              9.000000                 21.000000   \n",
      "50%               8.800000             10.900000                 26.000000   \n",
      "75%              10.850000             13.350000                 31.000000   \n",
      "max              20.500000             25.800000                 60.000000   \n",
      "\n",
      "       CO2EMISSIONS  \n",
      "count   1067.000000  \n",
      "mean     256.228679  \n",
      "std       63.372304  \n",
      "min      108.000000  \n",
      "25%      207.000000  \n",
      "50%      251.000000  \n",
      "75%      294.000000  \n",
      "max      488.000000  \n"
     ]
    }
   ],
   "source": [
    "# Part 2: DESCRIPTIVE ANALYSIS\n",
    "print('----------------------------------------')\n",
    "print()\n",
    "print('Data Describe')\n",
    "print(data.describe())"
   ]
  },
  {
   "cell_type": "code",
   "execution_count": 8,
   "metadata": {},
   "outputs": [
    {
     "name": "stdout",
     "output_type": "stream",
     "text": [
      "        MAKE     MODEL VEHICLECLASS TRANSMISSION FUELTYPE\n",
      "count   1067      1067         1067         1067     1067\n",
      "unique    39       663           16           22        4\n",
      "top     FORD  F150 FFV     MID-SIZE           A6        X\n",
      "freq      90         8          178          222      514\n",
      "----------------------------------------\n"
     ]
    }
   ],
   "source": [
    "print(data.select_dtypes('category').describe())\n",
    "print('----------------------------------------')"
   ]
  },
  {
   "cell_type": "code",
   "execution_count": 9,
   "metadata": {},
   "outputs": [],
   "source": [
    "# Part 3: FEATURE SELECTION & TRAINING\n",
    "from sklearn.linear_model import LinearRegression\n",
    "from sklearn.metrics import mean_absolute_error, mean_squared_error, r2_score\n",
    "from sklearn.model_selection import train_test_split"
   ]
  },
  {
   "cell_type": "code",
   "execution_count": 10,
   "metadata": {},
   "outputs": [
    {
     "data": {
      "text/plain": [
       "LinearRegression()"
      ]
     },
     "execution_count": 10,
     "metadata": {},
     "output_type": "execute_result"
    }
   ],
   "source": [
    "model = LinearRegression()\n",
    "model.fit(data[['ENGINESIZE']],data['CO2EMISSIONS'])\n",
    "# 2 bracket [] it mean DataFrame; 1 bracket [] series"
   ]
  },
  {
   "cell_type": "code",
   "execution_count": 11,
   "metadata": {},
   "outputs": [
    {
     "data": {
      "text/plain": [
       "array([39.12519979])"
      ]
     },
     "execution_count": 11,
     "metadata": {},
     "output_type": "execute_result"
    }
   ],
   "source": [
    "model.coef_"
   ]
  },
  {
   "cell_type": "code",
   "execution_count": 12,
   "metadata": {},
   "outputs": [
    {
     "data": {
      "text/plain": [
       "125.30409949535687"
      ]
     },
     "execution_count": 12,
     "metadata": {},
     "output_type": "execute_result"
    }
   ],
   "source": [
    "model.intercept_"
   ]
  },
  {
   "cell_type": "code",
   "execution_count": 13,
   "metadata": {},
   "outputs": [
    {
     "data": {
      "text/plain": [
       "0       203.554499\n",
       "1       219.204579\n",
       "2       183.991899\n",
       "3       262.242299\n",
       "4       262.242299\n",
       "           ...    \n",
       "1062    242.679699\n",
       "1063    250.504739\n",
       "1064    242.679699\n",
       "1065    250.504739\n",
       "1066    250.504739\n",
       "Name: ENGINESIZE, Length: 1067, dtype: float64"
      ]
     },
     "execution_count": 13,
     "metadata": {},
     "output_type": "execute_result"
    }
   ],
   "source": [
    "y_manual = model.coef_ * data['ENGINESIZE'] + model.intercept_\n",
    "y_manual"
   ]
  },
  {
   "cell_type": "code",
   "execution_count": 14,
   "metadata": {},
   "outputs": [
    {
     "data": {
      "text/plain": [
       "array([203.55449907, 219.20457898, 183.99189918, ..., 242.67969886,\n",
       "       250.50473881, 250.50473881])"
      ]
     },
     "execution_count": 14,
     "metadata": {},
     "output_type": "execute_result"
    }
   ],
   "source": [
    "y_model = model.predict(data[['ENGINESIZE']])\n",
    "y_model"
   ]
  },
  {
   "cell_type": "code",
   "execution_count": 15,
   "metadata": {},
   "outputs": [
    {
     "data": {
      "text/html": [
       "<div>\n",
       "<style scoped>\n",
       "    .dataframe tbody tr th:only-of-type {\n",
       "        vertical-align: middle;\n",
       "    }\n",
       "\n",
       "    .dataframe tbody tr th {\n",
       "        vertical-align: top;\n",
       "    }\n",
       "\n",
       "    .dataframe thead th {\n",
       "        text-align: right;\n",
       "    }\n",
       "</style>\n",
       "<table border=\"1\" class=\"dataframe\">\n",
       "  <thead>\n",
       "    <tr style=\"text-align: right;\">\n",
       "      <th></th>\n",
       "      <th>y_manual</th>\n",
       "      <th>y_model</th>\n",
       "    </tr>\n",
       "  </thead>\n",
       "  <tbody>\n",
       "    <tr>\n",
       "      <th>0</th>\n",
       "      <td>203.554499</td>\n",
       "      <td>203.554499</td>\n",
       "    </tr>\n",
       "    <tr>\n",
       "      <th>1</th>\n",
       "      <td>219.204579</td>\n",
       "      <td>219.204579</td>\n",
       "    </tr>\n",
       "    <tr>\n",
       "      <th>2</th>\n",
       "      <td>183.991899</td>\n",
       "      <td>183.991899</td>\n",
       "    </tr>\n",
       "    <tr>\n",
       "      <th>3</th>\n",
       "      <td>262.242299</td>\n",
       "      <td>262.242299</td>\n",
       "    </tr>\n",
       "    <tr>\n",
       "      <th>4</th>\n",
       "      <td>262.242299</td>\n",
       "      <td>262.242299</td>\n",
       "    </tr>\n",
       "    <tr>\n",
       "      <th>...</th>\n",
       "      <td>...</td>\n",
       "      <td>...</td>\n",
       "    </tr>\n",
       "    <tr>\n",
       "      <th>1062</th>\n",
       "      <td>242.679699</td>\n",
       "      <td>242.679699</td>\n",
       "    </tr>\n",
       "    <tr>\n",
       "      <th>1063</th>\n",
       "      <td>250.504739</td>\n",
       "      <td>250.504739</td>\n",
       "    </tr>\n",
       "    <tr>\n",
       "      <th>1064</th>\n",
       "      <td>242.679699</td>\n",
       "      <td>242.679699</td>\n",
       "    </tr>\n",
       "    <tr>\n",
       "      <th>1065</th>\n",
       "      <td>250.504739</td>\n",
       "      <td>250.504739</td>\n",
       "    </tr>\n",
       "    <tr>\n",
       "      <th>1066</th>\n",
       "      <td>250.504739</td>\n",
       "      <td>250.504739</td>\n",
       "    </tr>\n",
       "  </tbody>\n",
       "</table>\n",
       "<p>1067 rows × 2 columns</p>\n",
       "</div>"
      ],
      "text/plain": [
       "        y_manual     y_model\n",
       "0     203.554499  203.554499\n",
       "1     219.204579  219.204579\n",
       "2     183.991899  183.991899\n",
       "3     262.242299  262.242299\n",
       "4     262.242299  262.242299\n",
       "...          ...         ...\n",
       "1062  242.679699  242.679699\n",
       "1063  250.504739  250.504739\n",
       "1064  242.679699  242.679699\n",
       "1065  250.504739  250.504739\n",
       "1066  250.504739  250.504739\n",
       "\n",
       "[1067 rows x 2 columns]"
      ]
     },
     "execution_count": 15,
     "metadata": {},
     "output_type": "execute_result"
    }
   ],
   "source": [
    "pd.DataFrame({'y_manual':y_manual, 'y_model': y_model})"
   ]
  },
  {
   "cell_type": "code",
   "execution_count": 16,
   "metadata": {},
   "outputs": [
    {
     "data": {
      "text/plain": [
       "[<matplotlib.lines.Line2D at 0x2061ec5d4f0>]"
      ]
     },
     "execution_count": 16,
     "metadata": {},
     "output_type": "execute_result"
    },
    {
     "data": {
      "image/png": "[encoded data removed]",
      "text/plain": [
       "<Figure size 432x288 with 1 Axes>"
      ]
     },
     "metadata": {
      "needs_background": "light"
     },
     "output_type": "display_data"
    }
   ],
   "source": [
    "sns.scatterplot(data=data,x='ENGINESIZE',y='CO2EMISSIONS')\n",
    "plt.plot(data['ENGINESIZE'], y_model, color='green')"
   ]
  },
  {
   "cell_type": "code",
   "execution_count": 17,
   "metadata": {},
   "outputs": [
    {
     "data": {
      "text/plain": [
       "23.346887834400427"
      ]
     },
     "execution_count": 17,
     "metadata": {},
     "output_type": "execute_result"
    }
   ],
   "source": [
    "mean_absolute_error(data['CO2EMISSIONS'], y_model)"
   ]
  },
  {
   "cell_type": "code",
   "execution_count": 18,
   "metadata": {},
   "outputs": [
    {
     "data": {
      "text/plain": [
       "946.3140527188748"
      ]
     },
     "execution_count": 18,
     "metadata": {},
     "output_type": "execute_result"
    }
   ],
   "source": [
    "mean_squared_error(data['CO2EMISSIONS'], y_model)"
   ]
  },
  {
   "cell_type": "code",
   "execution_count": 19,
   "metadata": {},
   "outputs": [
    {
     "data": {
      "text/plain": [
       "0.7641458597854816"
      ]
     },
     "execution_count": 19,
     "metadata": {},
     "output_type": "execute_result"
    }
   ],
   "source": [
    "r2_score(data['CO2EMISSIONS'], y_model)"
   ]
  },
  {
   "cell_type": "code",
   "execution_count": 20,
   "metadata": {},
   "outputs": [],
   "source": [
    "# Part 3: FEATURE SELECTION & TRAINING"
   ]
  },
  {
   "cell_type": "code",
   "execution_count": 21,
   "metadata": {},
   "outputs": [],
   "source": [
    "X_train, X_test, y_train, y_test=train_test_split(data[['ENGINESIZE']],data['CO2EMISSIONS'],\\\n",
    "                                                  test_size=0.2,shuffle=True,random_state=42)\n",
    "\n",
    "#test_size=0.2: it's mean 20% All_Data for test and 80% All_Data for compare\n",
    "#shuffle: mix data before random\n",
    "#random_state: ID for random. Remember the random shuffle, to recall when needed. avoid mixing again and again."
   ]
  },
  {
   "cell_type": "code",
   "execution_count": 22,
   "metadata": {},
   "outputs": [
    {
     "data": {
      "text/plain": [
       "array([203.55449907, 219.20457898, 183.99189918, ..., 242.67969886,\n",
       "       250.50473881, 250.50473881])"
      ]
     },
     "execution_count": 22,
     "metadata": {},
     "output_type": "execute_result"
    }
   ],
   "source": [
    "model=LinearRegression()\n",
    "model.fit(data[['ENGINESIZE']], data['CO2EMISSIONS'])\n",
    "y_pred=model.predict(data[['ENGINESIZE']])\n",
    "y_pred"
   ]
  },
  {
   "cell_type": "code",
   "execution_count": 23,
   "metadata": {},
   "outputs": [
    {
     "data": {
      "text/plain": [
       "23.346887834400427"
      ]
     },
     "execution_count": 23,
     "metadata": {},
     "output_type": "execute_result"
    }
   ],
   "source": [
    "mean_absolute_error(data['CO2EMISSIONS'], y_pred)"
   ]
  },
  {
   "cell_type": "code",
   "execution_count": 24,
   "metadata": {},
   "outputs": [
    {
     "data": {
      "text/plain": [
       "946.3140527188748"
      ]
     },
     "execution_count": 24,
     "metadata": {},
     "output_type": "execute_result"
    }
   ],
   "source": [
    "mean_squared_error(data['CO2EMISSIONS'], y_pred)"
   ]
  },
  {
   "cell_type": "code",
   "execution_count": 25,
   "metadata": {},
   "outputs": [
    {
     "data": {
      "text/plain": [
       "0.7641458597854816"
      ]
     },
     "execution_count": 25,
     "metadata": {},
     "output_type": "execute_result"
    }
   ],
   "source": [
    "r2_score(data['CO2EMISSIONS'], y_pred)"
   ]
  },
  {
   "cell_type": "code",
   "execution_count": 26,
   "metadata": {},
   "outputs": [],
   "source": [
    "from sklearn.model_selection import KFold, cross_val_score"
   ]
  },
  {
   "cell_type": "code",
   "execution_count": 27,
   "metadata": {},
   "outputs": [
    {
     "data": {
      "text/plain": [
       "array([0.72508571, 0.74330385, 0.78385585, 0.76907905, 0.77848554])"
      ]
     },
     "execution_count": 27,
     "metadata": {},
     "output_type": "execute_result"
    }
   ],
   "source": [
    "folds = KFold(n_splits=5, shuffle=True, random_state=42)\n",
    "cross_val_score(model, X_train, y_train, scoring='r2', cv=folds)\n",
    "#Calculator Cross Valution Score compare with R2 Score. Go to concluded: Under/ Over Fitting"
   ]
  },
  {
   "cell_type": "code",
   "execution_count": 28,
   "metadata": {},
   "outputs": [],
   "source": [
    "# OPTIMIZE MODEL\n",
    "# TUNING"
   ]
  },
  {
   "cell_type": "code",
   "execution_count": 29,
   "metadata": {},
   "outputs": [],
   "source": [
    "X_train, X_test, y_train, y_test=train_test_split(data[['ENGINESIZE','CYLINDERS','FUELCONSUMPTION_COMB']],data['CO2EMISSIONS'],\\\n",
    "                                                  test_size=0.2,shuffle=True,random_state=42)"
   ]
  },
  {
   "cell_type": "code",
   "execution_count": 30,
   "metadata": {},
   "outputs": [
    {
     "data": {
      "text/html": [
       "<div>\n",
       "<style scoped>\n",
       "    .dataframe tbody tr th:only-of-type {\n",
       "        vertical-align: middle;\n",
       "    }\n",
       "\n",
       "    .dataframe tbody tr th {\n",
       "        vertical-align: top;\n",
       "    }\n",
       "\n",
       "    .dataframe thead th {\n",
       "        text-align: right;\n",
       "    }\n",
       "</style>\n",
       "<table border=\"1\" class=\"dataframe\">\n",
       "  <thead>\n",
       "    <tr style=\"text-align: right;\">\n",
       "      <th></th>\n",
       "      <th>ENGINESIZE</th>\n",
       "      <th>CYLINDERS</th>\n",
       "      <th>FUELCONSUMPTION_COMB</th>\n",
       "    </tr>\n",
       "  </thead>\n",
       "  <tbody>\n",
       "    <tr>\n",
       "      <th>333</th>\n",
       "      <td>1.4</td>\n",
       "      <td>4</td>\n",
       "      <td>7.8</td>\n",
       "    </tr>\n",
       "    <tr>\n",
       "      <th>106</th>\n",
       "      <td>4.4</td>\n",
       "      <td>8</td>\n",
       "      <td>12.7</td>\n",
       "    </tr>\n",
       "    <tr>\n",
       "      <th>585</th>\n",
       "      <td>3.0</td>\n",
       "      <td>6</td>\n",
       "      <td>9.9</td>\n",
       "    </tr>\n",
       "    <tr>\n",
       "      <th>55</th>\n",
       "      <td>3.0</td>\n",
       "      <td>6</td>\n",
       "      <td>11.4</td>\n",
       "    </tr>\n",
       "    <tr>\n",
       "      <th>213</th>\n",
       "      <td>5.3</td>\n",
       "      <td>8</td>\n",
       "      <td>16.5</td>\n",
       "    </tr>\n",
       "  </tbody>\n",
       "</table>\n",
       "</div>"
      ],
      "text/plain": [
       "     ENGINESIZE  CYLINDERS  FUELCONSUMPTION_COMB\n",
       "333         1.4          4                   7.8\n",
       "106         4.4          8                  12.7\n",
       "585         3.0          6                   9.9\n",
       "55          3.0          6                  11.4\n",
       "213         5.3          8                  16.5"
      ]
     },
     "execution_count": 30,
     "metadata": {},
     "output_type": "execute_result"
    }
   ],
   "source": [
    "X_train.head()"
   ]
  },
  {
   "cell_type": "code",
   "execution_count": 31,
   "metadata": {},
   "outputs": [
    {
     "data": {
      "text/plain": [
       "array([302.95237705, 240.91489956, 272.50244127, 235.31017981,\n",
       "       204.07702562, 245.78307279, 304.87320139, 283.65078533,\n",
       "       309.17145244, 307.72944493, 287.73574015, 391.1248773 ,\n",
       "       252.78536659, 251.38779254, 262.02954829, 255.19611726,\n",
       "       210.0661428 , 250.60457413, 190.07243802, 307.77387839,\n",
       "       318.69226424, 205.64346244, 256.59369131, 248.86927454,\n",
       "       261.96845285, 197.07473182, 205.0291068 , 186.2641133 ,\n",
       "       309.06368511, 248.97704187, 390.77380382, 203.80039551,\n",
       "       205.64346244, 327.26099486, 238.16642335, 286.76699699,\n",
       "       277.01622698, 399.17367168, 199.31661972, 204.92133946,\n",
       "       176.7433015 , 187.21619448, 186.87846894, 209.68174536,\n",
       "       279.84246061, 199.59324982, 244.83099161, 259.11220931,\n",
       "       192.65205146, 362.85573398, 315.0061304 , 278.21492835,\n",
       "       211.69367506, 267.91089814, 264.82469639, 315.39052783,\n",
       "       388.70077869, 322.73054717, 191.69997028, 278.44488656,\n",
       "       301.77033767, 270.82823712, 290.0687334 , 254.41289885,\n",
       "       192.92868156, 246.45852387, 185.92638776, 300.26499628,\n",
       "       254.35180341, 263.15049224, 347.25469964, 196.46037618,\n",
       "       259.00444198, 207.88535034, 213.59783742, 291.54406487,\n",
       "       341.09671969, 350.23313406, 334.99983518, 253.2919549 ,\n",
       "       199.99207079, 191.36224474, 230.01317568, 271.38149732,\n",
       "       192.92868156, 241.97474807, 222.93312447, 185.03540201,\n",
       "       329.39511543, 186.93956437, 228.13902324, 340.19131041,\n",
       "       221.87327596, 180.88935176, 187.89164555, 198.36453854,\n",
       "       216.17745085, 227.58576304, 272.50244127, 335.89082092,\n",
       "       337.85607872, 209.68174536, 270.59827891, 228.5545062 ,\n",
       "       286.78365897, 170.0176378 , 238.16642335, 205.0291068 ,\n",
       "       216.17745085, 210.74159388, 189.90357525, 285.66271502,\n",
       "       264.88579183, 234.8035915 , 319.92097552, 258.22122357,\n",
       "       268.86297932, 349.77321764, 272.50244127, 199.59324982,\n",
       "       254.24403608, 172.76611401, 223.34860742, 169.46437759,\n",
       "       240.07058571, 205.70455787, 270.59827891, 183.13123965,\n",
       "       310.35349183, 202.17286326, 194.83284392, 206.25781808,\n",
       "       371.79327566, 189.45808238, 277.0939844 , 250.54347869,\n",
       "       250.54347869, 309.06368511, 201.22078208, 289.39328233,\n",
       "       313.20973537, 259.00444198, 190.07243802, 254.41289885,\n",
       "       185.92638776, 255.19611726, 310.58568847, 161.84772815,\n",
       "       327.95310792, 346.67035392, 215.50199978, 254.24403608,\n",
       "       255.64161013, 261.96845285, 264.82469639, 302.24691606,\n",
       "       309.17145244, 219.12479975, 188.5060012 , 254.41289885,\n",
       "       327.72091128, 314.77617219, 234.54362338, 282.97533425,\n",
       "       218.08161321, 272.50244127, 224.3006886 , 325.58679071,\n",
       "       216.45408096, 197.35136192, 216.45408096, 334.99983518,\n",
       "       367.876108  , 266.17559855, 412.67167097, 190.41016356,\n",
       "       250.43571136, 205.0291068 , 305.24093685, 253.39972223,\n",
       "       199.93097536, 175.51459021, 241.02266689, 399.34253444,\n",
       "       193.4963653 , 300.60272182, 341.09671969, 175.11576924,\n",
       "       188.16827566, 168.95778929, 196.35260884, 192.31432592,\n",
       "       202.06509592, 190.07243802, 202.44949336, 192.31432592,\n",
       "       250.43571136, 197.41245736, 266.17559855, 206.93326916,\n",
       "       370.10464796, 157.53281513, 312.30432608, 198.08790843,\n",
       "       329.39511543, 436.5347959 , 209.51288259, 211.69367506,\n",
       "       315.39052783, 205.98118798, 218.08161321, 219.03369439,\n",
       "       251.49555987, 393.96553447])"
      ]
     },
     "execution_count": 31,
     "metadata": {},
     "output_type": "execute_result"
    }
   ],
   "source": [
    "model=LinearRegression()\n",
    "model.fit(X_train, y_train)\n",
    "y_pred2=model.predict(X_test)\n",
    "y_pred2"
   ]
  },
  {
   "cell_type": "code",
   "execution_count": 32,
   "metadata": {},
   "outputs": [
    {
     "data": {
      "text/plain": [
       "16.721593983516495"
      ]
     },
     "execution_count": 32,
     "metadata": {},
     "output_type": "execute_result"
    }
   ],
   "source": [
    "mean_absolute_error(y_test, y_pred2)"
   ]
  },
  {
   "cell_type": "code",
   "execution_count": 33,
   "metadata": {},
   "outputs": [
    {
     "data": {
      "text/plain": [
       "512.8551370148305"
      ]
     },
     "execution_count": 33,
     "metadata": {},
     "output_type": "execute_result"
    }
   ],
   "source": [
    "mean_squared_error(y_test, y_pred2)"
   ]
  },
  {
   "cell_type": "code",
   "execution_count": 57,
   "metadata": {},
   "outputs": [
    {
     "data": {
      "text/plain": [
       "0.8759705206914069"
      ]
     },
     "execution_count": 57,
     "metadata": {},
     "output_type": "execute_result"
    }
   ],
   "source": [
    "r2_score(y_test, y_pred2)"
   ]
  },
  {
   "cell_type": "code",
   "execution_count": 89,
   "metadata": {},
   "outputs": [],
   "source": [
    "from sklearn.feature_selection import RFE # Returns Feature Elimination\n",
    "from sklearn.model_selection import GridSearchCV\n",
    "#\n",
    "X_train, X_test, y_train, y_test=train_test_split(data.select_dtypes(exclude='category').\\\n",
    "                                                  drop(['MODELYEAR','CO2EMISSIONS'], axis=1),\\\n",
    "                                                  data['CO2EMISSIONS'], test_size=0.2,shuffle=True,random_state=42)\n",
    "# Because 1 year, We must drop 2 columns \"Model Year\" and \"CO2 Emissions\" into \"CO2 Emissions\""
   ]
  },
  {
   "cell_type": "code",
   "execution_count": 90,
   "metadata": {
    "collapsed": true
   },
   "outputs": [
    {
     "data": {
      "text/html": [
       "<div>\n",
       "<style scoped>\n",
       "    .dataframe tbody tr th:only-of-type {\n",
       "        vertical-align: middle;\n",
       "    }\n",
       "\n",
       "    .dataframe tbody tr th {\n",
       "        vertical-align: top;\n",
       "    }\n",
       "\n",
       "    .dataframe thead th {\n",
       "        text-align: right;\n",
       "    }\n",
       "</style>\n",
       "<table border=\"1\" class=\"dataframe\">\n",
       "  <thead>\n",
       "    <tr style=\"text-align: right;\">\n",
       "      <th></th>\n",
       "      <th>ENGINESIZE</th>\n",
       "      <th>CYLINDERS</th>\n",
       "      <th>FUELCONSUMPTION_CITY</th>\n",
       "      <th>FUELCONSUMPTION_HWY</th>\n",
       "      <th>FUELCONSUMPTION_COMB</th>\n",
       "      <th>FUELCONSUMPTION_COMB_MPG</th>\n",
       "    </tr>\n",
       "  </thead>\n",
       "  <tbody>\n",
       "    <tr>\n",
       "      <th>333</th>\n",
       "      <td>1.4</td>\n",
       "      <td>4</td>\n",
       "      <td>8.5</td>\n",
       "      <td>6.9</td>\n",
       "      <td>7.8</td>\n",
       "      <td>36</td>\n",
       "    </tr>\n",
       "    <tr>\n",
       "      <th>106</th>\n",
       "      <td>4.4</td>\n",
       "      <td>8</td>\n",
       "      <td>15.0</td>\n",
       "      <td>9.8</td>\n",
       "      <td>12.7</td>\n",
       "      <td>22</td>\n",
       "    </tr>\n",
       "    <tr>\n",
       "      <th>585</th>\n",
       "      <td>3.0</td>\n",
       "      <td>6</td>\n",
       "      <td>11.2</td>\n",
       "      <td>8.4</td>\n",
       "      <td>9.9</td>\n",
       "      <td>29</td>\n",
       "    </tr>\n",
       "    <tr>\n",
       "      <th>55</th>\n",
       "      <td>3.0</td>\n",
       "      <td>6</td>\n",
       "      <td>13.2</td>\n",
       "      <td>9.2</td>\n",
       "      <td>11.4</td>\n",
       "      <td>25</td>\n",
       "    </tr>\n",
       "    <tr>\n",
       "      <th>213</th>\n",
       "      <td>5.3</td>\n",
       "      <td>8</td>\n",
       "      <td>18.3</td>\n",
       "      <td>14.2</td>\n",
       "      <td>16.5</td>\n",
       "      <td>17</td>\n",
       "    </tr>\n",
       "  </tbody>\n",
       "</table>\n",
       "</div>"
      ],
      "text/plain": [
       "     ENGINESIZE  CYLINDERS  FUELCONSUMPTION_CITY  FUELCONSUMPTION_HWY  \\\n",
       "333         1.4          4                   8.5                  6.9   \n",
       "106         4.4          8                  15.0                  9.8   \n",
       "585         3.0          6                  11.2                  8.4   \n",
       "55          3.0          6                  13.2                  9.2   \n",
       "213         5.3          8                  18.3                 14.2   \n",
       "\n",
       "     FUELCONSUMPTION_COMB  FUELCONSUMPTION_COMB_MPG  \n",
       "333                   7.8                        36  \n",
       "106                  12.7                        22  \n",
       "585                   9.9                        29  \n",
       "55                   11.4                        25  \n",
       "213                  16.5                        17  "
      ]
     },
     "execution_count": 90,
     "metadata": {},
     "output_type": "execute_result"
    }
   ],
   "source": [
    "X_train.head()"
   ]
  },
  {
   "cell_type": "code",
   "execution_count": 91,
   "metadata": {
    "collapsed": true
   },
   "outputs": [
    {
     "data": {
      "text/plain": [
       "GridSearchCV(cv=KFold(n_splits=5, random_state=42, shuffle=True),\n",
       "             estimator=RFE(estimator=LinearRegression()),\n",
       "             param_grid={'n_features_to_select': [1, 2, 3, 4, 5, 6, 7, 8, 9]},\n",
       "             return_train_score=True, scoring='r2')"
      ]
     },
     "execution_count": 91,
     "metadata": {},
     "output_type": "execute_result"
    }
   ],
   "source": [
    "param={'n_features_to_select':list(range(1,10))}\n",
    "# Because We have 9 feature format number, must have random 9 feature with together\n",
    "#\n",
    "lm=LinearRegression()\n",
    "lm.fit(X_train, y_train)\n",
    "rfe=RFE(ln)\n",
    "#\n",
    "model_cv=GridSearchCV(estimator=rfe, param_grid=param, scoring='r2', cv=folds, return_train_score=True)\n",
    "# param_grid = param (9 cases happen), cv: cross valuation; folds: Kfold=5;\n",
    "#\n",
    "model_cv.fit(X_train, y_train)\n",
    "# Put GridSearchCV into Train file: \"fit\""
   ]
  },
  {
   "cell_type": "code",
   "execution_count": 92,
   "metadata": {
    "collapsed": true
   },
   "outputs": [
    {
     "data": {
      "text/html": [
       "<div>\n",
       "<style scoped>\n",
       "    .dataframe tbody tr th:only-of-type {\n",
       "        vertical-align: middle;\n",
       "    }\n",
       "\n",
       "    .dataframe tbody tr th {\n",
       "        vertical-align: top;\n",
       "    }\n",
       "\n",
       "    .dataframe thead th {\n",
       "        text-align: right;\n",
       "    }\n",
       "</style>\n",
       "<table border=\"1\" class=\"dataframe\">\n",
       "  <thead>\n",
       "    <tr style=\"text-align: right;\">\n",
       "      <th></th>\n",
       "      <th>mean_fit_time</th>\n",
       "      <th>std_fit_time</th>\n",
       "      <th>mean_score_time</th>\n",
       "      <th>std_score_time</th>\n",
       "      <th>param_n_features_to_select</th>\n",
       "      <th>params</th>\n",
       "      <th>split0_test_score</th>\n",
       "      <th>split1_test_score</th>\n",
       "      <th>split2_test_score</th>\n",
       "      <th>split3_test_score</th>\n",
       "      <th>...</th>\n",
       "      <th>mean_test_score</th>\n",
       "      <th>std_test_score</th>\n",
       "      <th>rank_test_score</th>\n",
       "      <th>split0_train_score</th>\n",
       "      <th>split1_train_score</th>\n",
       "      <th>split2_train_score</th>\n",
       "      <th>split3_train_score</th>\n",
       "      <th>split4_train_score</th>\n",
       "      <th>mean_train_score</th>\n",
       "      <th>std_train_score</th>\n",
       "    </tr>\n",
       "  </thead>\n",
       "  <tbody>\n",
       "    <tr>\n",
       "      <th>0</th>\n",
       "      <td>0.013156</td>\n",
       "      <td>0.004567</td>\n",
       "      <td>0.005296</td>\n",
       "      <td>0.002179</td>\n",
       "      <td>1</td>\n",
       "      <td>{'n_features_to_select': 1}</td>\n",
       "      <td>0.725086</td>\n",
       "      <td>0.743304</td>\n",
       "      <td>0.783856</td>\n",
       "      <td>0.769079</td>\n",
       "      <td>...</td>\n",
       "      <td>0.759962</td>\n",
       "      <td>0.022320</td>\n",
       "      <td>9</td>\n",
       "      <td>0.771172</td>\n",
       "      <td>0.769215</td>\n",
       "      <td>0.759192</td>\n",
       "      <td>0.762272</td>\n",
       "      <td>0.760187</td>\n",
       "      <td>0.764408</td>\n",
       "      <td>0.004867</td>\n",
       "    </tr>\n",
       "    <tr>\n",
       "      <th>1</th>\n",
       "      <td>0.012308</td>\n",
       "      <td>0.000469</td>\n",
       "      <td>0.004469</td>\n",
       "      <td>0.000902</td>\n",
       "      <td>2</td>\n",
       "      <td>{'n_features_to_select': 2}</td>\n",
       "      <td>0.824826</td>\n",
       "      <td>0.849626</td>\n",
       "      <td>0.857822</td>\n",
       "      <td>0.860602</td>\n",
       "      <td>...</td>\n",
       "      <td>0.852395</td>\n",
       "      <td>0.015123</td>\n",
       "      <td>8</td>\n",
       "      <td>0.860673</td>\n",
       "      <td>0.856333</td>\n",
       "      <td>0.854544</td>\n",
       "      <td>0.853243</td>\n",
       "      <td>0.851463</td>\n",
       "      <td>0.855251</td>\n",
       "      <td>0.003145</td>\n",
       "    </tr>\n",
       "    <tr>\n",
       "      <th>2</th>\n",
       "      <td>0.009520</td>\n",
       "      <td>0.000508</td>\n",
       "      <td>0.003729</td>\n",
       "      <td>0.000642</td>\n",
       "      <td>3</td>\n",
       "      <td>{'n_features_to_select': 3}</td>\n",
       "      <td>0.826566</td>\n",
       "      <td>0.849762</td>\n",
       "      <td>0.860875</td>\n",
       "      <td>0.867154</td>\n",
       "      <td>...</td>\n",
       "      <td>0.854484</td>\n",
       "      <td>0.015411</td>\n",
       "      <td>6</td>\n",
       "      <td>0.861043</td>\n",
       "      <td>0.857068</td>\n",
       "      <td>0.860448</td>\n",
       "      <td>0.858146</td>\n",
       "      <td>0.858240</td>\n",
       "      <td>0.858989</td>\n",
       "      <td>0.001504</td>\n",
       "    </tr>\n",
       "    <tr>\n",
       "      <th>3</th>\n",
       "      <td>0.007964</td>\n",
       "      <td>0.001381</td>\n",
       "      <td>0.003631</td>\n",
       "      <td>0.000985</td>\n",
       "      <td>4</td>\n",
       "      <td>{'n_features_to_select': 4}</td>\n",
       "      <td>0.826286</td>\n",
       "      <td>0.848690</td>\n",
       "      <td>0.857495</td>\n",
       "      <td>0.865247</td>\n",
       "      <td>...</td>\n",
       "      <td>0.853125</td>\n",
       "      <td>0.014997</td>\n",
       "      <td>7</td>\n",
       "      <td>0.861120</td>\n",
       "      <td>0.857275</td>\n",
       "      <td>0.860968</td>\n",
       "      <td>0.858326</td>\n",
       "      <td>0.858297</td>\n",
       "      <td>0.859197</td>\n",
       "      <td>0.001555</td>\n",
       "    </tr>\n",
       "    <tr>\n",
       "      <th>4</th>\n",
       "      <td>0.007652</td>\n",
       "      <td>0.000352</td>\n",
       "      <td>0.004144</td>\n",
       "      <td>0.000373</td>\n",
       "      <td>5</td>\n",
       "      <td>{'n_features_to_select': 5}</td>\n",
       "      <td>0.829856</td>\n",
       "      <td>0.858337</td>\n",
       "      <td>0.881529</td>\n",
       "      <td>0.865378</td>\n",
       "      <td>...</td>\n",
       "      <td>0.864338</td>\n",
       "      <td>0.020084</td>\n",
       "      <td>5</td>\n",
       "      <td>0.866031</td>\n",
       "      <td>0.860698</td>\n",
       "      <td>0.886114</td>\n",
       "      <td>0.858336</td>\n",
       "      <td>0.884493</td>\n",
       "      <td>0.871134</td>\n",
       "      <td>0.011846</td>\n",
       "    </tr>\n",
       "    <tr>\n",
       "      <th>5</th>\n",
       "      <td>0.008189</td>\n",
       "      <td>0.005324</td>\n",
       "      <td>0.001649</td>\n",
       "      <td>0.002020</td>\n",
       "      <td>6</td>\n",
       "      <td>{'n_features_to_select': 6}</td>\n",
       "      <td>0.855050</td>\n",
       "      <td>0.890515</td>\n",
       "      <td>0.881600</td>\n",
       "      <td>0.893757</td>\n",
       "      <td>...</td>\n",
       "      <td>0.881518</td>\n",
       "      <td>0.013841</td>\n",
       "      <td>1</td>\n",
       "      <td>0.890660</td>\n",
       "      <td>0.883614</td>\n",
       "      <td>0.886118</td>\n",
       "      <td>0.882343</td>\n",
       "      <td>0.884504</td>\n",
       "      <td>0.885448</td>\n",
       "      <td>0.002881</td>\n",
       "    </tr>\n",
       "    <tr>\n",
       "      <th>6</th>\n",
       "      <td>0.010127</td>\n",
       "      <td>0.008297</td>\n",
       "      <td>0.007209</td>\n",
       "      <td>0.007114</td>\n",
       "      <td>7</td>\n",
       "      <td>{'n_features_to_select': 7}</td>\n",
       "      <td>0.855050</td>\n",
       "      <td>0.890515</td>\n",
       "      <td>0.881600</td>\n",
       "      <td>0.893757</td>\n",
       "      <td>...</td>\n",
       "      <td>0.881518</td>\n",
       "      <td>0.013841</td>\n",
       "      <td>1</td>\n",
       "      <td>0.890660</td>\n",
       "      <td>0.883614</td>\n",
       "      <td>0.886118</td>\n",
       "      <td>0.882343</td>\n",
       "      <td>0.884504</td>\n",
       "      <td>0.885448</td>\n",
       "      <td>0.002881</td>\n",
       "    </tr>\n",
       "    <tr>\n",
       "      <th>7</th>\n",
       "      <td>0.002591</td>\n",
       "      <td>0.003174</td>\n",
       "      <td>0.007227</td>\n",
       "      <td>0.006581</td>\n",
       "      <td>8</td>\n",
       "      <td>{'n_features_to_select': 8}</td>\n",
       "      <td>0.855050</td>\n",
       "      <td>0.890515</td>\n",
       "      <td>0.881600</td>\n",
       "      <td>0.893757</td>\n",
       "      <td>...</td>\n",
       "      <td>0.881518</td>\n",
       "      <td>0.013841</td>\n",
       "      <td>1</td>\n",
       "      <td>0.890660</td>\n",
       "      <td>0.883614</td>\n",
       "      <td>0.886118</td>\n",
       "      <td>0.882343</td>\n",
       "      <td>0.884504</td>\n",
       "      <td>0.885448</td>\n",
       "      <td>0.002881</td>\n",
       "    </tr>\n",
       "    <tr>\n",
       "      <th>8</th>\n",
       "      <td>0.003276</td>\n",
       "      <td>0.003416</td>\n",
       "      <td>0.001639</td>\n",
       "      <td>0.002007</td>\n",
       "      <td>9</td>\n",
       "      <td>{'n_features_to_select': 9}</td>\n",
       "      <td>0.855050</td>\n",
       "      <td>0.890515</td>\n",
       "      <td>0.881600</td>\n",
       "      <td>0.893757</td>\n",
       "      <td>...</td>\n",
       "      <td>0.881518</td>\n",
       "      <td>0.013841</td>\n",
       "      <td>1</td>\n",
       "      <td>0.890660</td>\n",
       "      <td>0.883614</td>\n",
       "      <td>0.886118</td>\n",
       "      <td>0.882343</td>\n",
       "      <td>0.884504</td>\n",
       "      <td>0.885448</td>\n",
       "      <td>0.002881</td>\n",
       "    </tr>\n",
       "  </tbody>\n",
       "</table>\n",
       "<p>9 rows × 21 columns</p>\n",
       "</div>"
      ],
      "text/plain": [
       "   mean_fit_time  std_fit_time  mean_score_time  std_score_time  \\\n",
       "0       0.013156      0.004567         0.005296        0.002179   \n",
       "1       0.012308      0.000469         0.004469        0.000902   \n",
       "2       0.009520      0.000508         0.003729        0.000642   \n",
       "3       0.007964      0.001381         0.003631        0.000985   \n",
       "4       0.007652      0.000352         0.004144        0.000373   \n",
       "5       0.008189      0.005324         0.001649        0.002020   \n",
       "6       0.010127      0.008297         0.007209        0.007114   \n",
       "7       0.002591      0.003174         0.007227        0.006581   \n",
       "8       0.003276      0.003416         0.001639        0.002007   \n",
       "\n",
       "  param_n_features_to_select                       params  split0_test_score  \\\n",
       "0                          1  {'n_features_to_select': 1}           0.725086   \n",
       "1                          2  {'n_features_to_select': 2}           0.824826   \n",
       "2                          3  {'n_features_to_select': 3}           0.826566   \n",
       "3                          4  {'n_features_to_select': 4}           0.826286   \n",
       "4                          5  {'n_features_to_select': 5}           0.829856   \n",
       "5                          6  {'n_features_to_select': 6}           0.855050   \n",
       "6                          7  {'n_features_to_select': 7}           0.855050   \n",
       "7                          8  {'n_features_to_select': 8}           0.855050   \n",
       "8                          9  {'n_features_to_select': 9}           0.855050   \n",
       "\n",
       "   split1_test_score  split2_test_score  split3_test_score  ...  \\\n",
       "0           0.743304           0.783856           0.769079  ...   \n",
       "1           0.849626           0.857822           0.860602  ...   \n",
       "2           0.849762           0.860875           0.867154  ...   \n",
       "3           0.848690           0.857495           0.865247  ...   \n",
       "4           0.858337           0.881529           0.865378  ...   \n",
       "5           0.890515           0.881600           0.893757  ...   \n",
       "6           0.890515           0.881600           0.893757  ...   \n",
       "7           0.890515           0.881600           0.893757  ...   \n",
       "8           0.890515           0.881600           0.893757  ...   \n",
       "\n",
       "   mean_test_score  std_test_score  rank_test_score  split0_train_score  \\\n",
       "0         0.759962        0.022320                9            0.771172   \n",
       "1         0.852395        0.015123                8            0.860673   \n",
       "2         0.854484        0.015411                6            0.861043   \n",
       "3         0.853125        0.014997                7            0.861120   \n",
       "4         0.864338        0.020084                5            0.866031   \n",
       "5         0.881518        0.013841                1            0.890660   \n",
       "6         0.881518        0.013841                1            0.890660   \n",
       "7         0.881518        0.013841                1            0.890660   \n",
       "8         0.881518        0.013841                1            0.890660   \n",
       "\n",
       "   split1_train_score  split2_train_score  split3_train_score  \\\n",
       "0            0.769215            0.759192            0.762272   \n",
       "1            0.856333            0.854544            0.853243   \n",
       "2            0.857068            0.860448            0.858146   \n",
       "3            0.857275            0.860968            0.858326   \n",
       "4            0.860698            0.886114            0.858336   \n",
       "5            0.883614            0.886118            0.882343   \n",
       "6            0.883614            0.886118            0.882343   \n",
       "7            0.883614            0.886118            0.882343   \n",
       "8            0.883614            0.886118            0.882343   \n",
       "\n",
       "   split4_train_score  mean_train_score  std_train_score  \n",
       "0            0.760187          0.764408         0.004867  \n",
       "1            0.851463          0.855251         0.003145  \n",
       "2            0.858240          0.858989         0.001504  \n",
       "3            0.858297          0.859197         0.001555  \n",
       "4            0.884493          0.871134         0.011846  \n",
       "5            0.884504          0.885448         0.002881  \n",
       "6            0.884504          0.885448         0.002881  \n",
       "7            0.884504          0.885448         0.002881  \n",
       "8            0.884504          0.885448         0.002881  \n",
       "\n",
       "[9 rows x 21 columns]"
      ]
     },
     "execution_count": 92,
     "metadata": {},
     "output_type": "execute_result"
    }
   ],
   "source": [
    "pd.DataFrame(model_cv.cv_results_)"
   ]
  },
  {
   "cell_type": "code",
   "execution_count": 93,
   "metadata": {
    "collapsed": true
   },
   "outputs": [
    {
     "data": {
      "text/plain": [
       "Index(['mean_fit_time', 'std_fit_time', 'mean_score_time', 'std_score_time',\n",
       "       'param_n_features_to_select', 'params', 'split0_test_score',\n",
       "       'split1_test_score', 'split2_test_score', 'split3_test_score',\n",
       "       'split4_test_score', 'mean_test_score', 'std_test_score',\n",
       "       'rank_test_score', 'split0_train_score', 'split1_train_score',\n",
       "       'split2_train_score', 'split3_train_score', 'split4_train_score',\n",
       "       'mean_train_score', 'std_train_score'],\n",
       "      dtype='object')"
      ]
     },
     "execution_count": 93,
     "metadata": {},
     "output_type": "execute_result"
    }
   ],
   "source": [
    "pd.DataFrame(model_cv.cv_results_).columns\n",
    "# Care about: param_n_features_to_select"
   ]
  },
  {
   "cell_type": "code",
   "execution_count": 95,
   "metadata": {
    "scrolled": true
   },
   "outputs": [
    {
     "data": {
      "text/plain": [
       "Text(0, 0.5, 'r2_score')"
      ]
     },
     "execution_count": 95,
     "metadata": {},
     "output_type": "execute_result"
    },
    {
     "data": {
      "image/png": "[encoded data removed]",
      "text/plain": [
       "<Figure size 432x288 with 1 Axes>"
      ]
     },
     "metadata": {
      "needs_background": "light"
     },
     "output_type": "display_data"
    }
   ],
   "source": [
    "cv_results=pd.DataFrame(model_cv.cv_results_)\n",
    "plt.plot(cv_results['param_n_features_to_select'],cv_results['mean_train_score'])\n",
    "plt.plot(cv_results['param_n_features_to_select'],cv_results['mean_test_score'])\n",
    "plt.legend(['Train_score', 'Test_score'], loc='lower right')\n",
    "plt.xlabel('param_n_features_to_select')\n",
    "plt.ylabel('r2_score')"
   ]
  },
  {
   "cell_type": "code",
   "execution_count": 106,
   "metadata": {},
   "outputs": [],
   "source": [
    "lm=LinearRegression()\n",
    "lm.fit(X_train, y_train)\n",
    "rfe= RFE(estimator=lm, n_features_to_select=6)\n",
    "#\n",
    "rfe.fit(X_train, y_train)\n",
    "y_pred3= rfe.predict(X_test)"
   ]
  },
  {
   "cell_type": "code",
   "execution_count": 102,
   "metadata": {},
   "outputs": [
    {
     "name": "stdout",
     "output_type": "stream",
     "text": [
      "0.8759705206914069\n",
      "0.9034041224574011\n"
     ]
    }
   ],
   "source": [
    "print(r2_score(y_test, y_pred2))\n",
    "print(r2_score(y_test, y_pred3))"
   ]
  },
  {
   "cell_type": "code",
   "execution_count": null,
   "metadata": {},
   "outputs": [],
   "source": []
  }
 ],
 "metadata": {
  "celltoolbar": "Format de la Cellule Texte Brut",
  "kernelspec": {
   "display_name": "Python 3 (ipykernel)",
   "language": "python",
   "name": "python3"
  },
  "language_info": {
   "codemirror_mode": {
    "name": "ipython",
    "version": 3
   },
   "file_extension": ".py",
   "mimetype": "text/x-python",
   "name": "python",
   "nbconvert_exporter": "python",
   "pygments_lexer": "ipython3",
   "version": "3.9.12"
  }
 },
 "nbformat": 4,
 "nbformat_minor": 4
}
