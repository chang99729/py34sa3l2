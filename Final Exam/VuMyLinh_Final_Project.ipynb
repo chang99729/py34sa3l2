{
 "cells": [
  {
   "cell_type": "code",
   "execution_count": 1,
   "id": "6074f950-aa25-4495-9c67-c62fc32c3d7e",
   "metadata": {},
   "outputs": [],
   "source": [
    "import pandas as pd\n",
    "import numpy as np\n",
    "import matplotlib.pyplot as plt\n",
    "import seaborn as sns"
   ]
  },
  {
   "cell_type": "code",
   "execution_count": 2,
   "id": "8d3af1d8-912e-4d24-aefb-74c20cde08a4",
   "metadata": {},
   "outputs": [],
   "source": [
    "df1 = pd.read_excel (\"online_retail.xlsx\",sheet_name = \"Year 2009-2010\") \n"
   ]
  },
  {
   "cell_type": "code",
   "execution_count": 3,
   "id": "106cf6e5-dafa-4e6f-907a-493f6cb564ca",
   "metadata": {},
   "outputs": [],
   "source": [
    "df2 = pd.read_excel(\"online_retail.xlsx\",sheet_name = \"Year 2010-2011\") "
   ]
  },
  {
   "cell_type": "code",
   "execution_count": 4,
   "id": "9b32d921-e8a2-4321-9358-fefb22698ae3",
   "metadata": {},
   "outputs": [
    {
     "data": {
      "text/html": [
       "<div>\n",
       "<style scoped>\n",
       "    .dataframe tbody tr th:only-of-type {\n",
       "        vertical-align: middle;\n",
       "    }\n",
       "\n",
       "    .dataframe tbody tr th {\n",
       "        vertical-align: top;\n",
       "    }\n",
       "\n",
       "    .dataframe thead th {\n",
       "        text-align: right;\n",
       "    }\n",
       "</style>\n",
       "<table border=\"1\" class=\"dataframe\">\n",
       "  <thead>\n",
       "    <tr style=\"text-align: right;\">\n",
       "      <th></th>\n",
       "      <th>Invoice</th>\n",
       "      <th>StockCode</th>\n",
       "      <th>Description</th>\n",
       "      <th>Quantity</th>\n",
       "      <th>InvoiceDate</th>\n",
       "      <th>Price</th>\n",
       "      <th>Customer ID</th>\n",
       "      <th>Country</th>\n",
       "    </tr>\n",
       "  </thead>\n",
       "  <tbody>\n",
       "    <tr>\n",
       "      <th>0</th>\n",
       "      <td>489434</td>\n",
       "      <td>85048</td>\n",
       "      <td>15CM CHRISTMAS GLASS BALL 20 LIGHTS</td>\n",
       "      <td>12</td>\n",
       "      <td>2009-12-01 07:45:00</td>\n",
       "      <td>6.95</td>\n",
       "      <td>13085.0</td>\n",
       "      <td>United Kingdom</td>\n",
       "    </tr>\n",
       "    <tr>\n",
       "      <th>1</th>\n",
       "      <td>489434</td>\n",
       "      <td>79323P</td>\n",
       "      <td>PINK CHERRY LIGHTS</td>\n",
       "      <td>12</td>\n",
       "      <td>2009-12-01 07:45:00</td>\n",
       "      <td>6.75</td>\n",
       "      <td>13085.0</td>\n",
       "      <td>United Kingdom</td>\n",
       "    </tr>\n",
       "    <tr>\n",
       "      <th>2</th>\n",
       "      <td>489434</td>\n",
       "      <td>79323W</td>\n",
       "      <td>WHITE CHERRY LIGHTS</td>\n",
       "      <td>12</td>\n",
       "      <td>2009-12-01 07:45:00</td>\n",
       "      <td>6.75</td>\n",
       "      <td>13085.0</td>\n",
       "      <td>United Kingdom</td>\n",
       "    </tr>\n",
       "    <tr>\n",
       "      <th>3</th>\n",
       "      <td>489434</td>\n",
       "      <td>22041</td>\n",
       "      <td>RECORD FRAME 7\" SINGLE SIZE</td>\n",
       "      <td>48</td>\n",
       "      <td>2009-12-01 07:45:00</td>\n",
       "      <td>2.10</td>\n",
       "      <td>13085.0</td>\n",
       "      <td>United Kingdom</td>\n",
       "    </tr>\n",
       "    <tr>\n",
       "      <th>4</th>\n",
       "      <td>489434</td>\n",
       "      <td>21232</td>\n",
       "      <td>STRAWBERRY CERAMIC TRINKET BOX</td>\n",
       "      <td>24</td>\n",
       "      <td>2009-12-01 07:45:00</td>\n",
       "      <td>1.25</td>\n",
       "      <td>13085.0</td>\n",
       "      <td>United Kingdom</td>\n",
       "    </tr>\n",
       "  </tbody>\n",
       "</table>\n",
       "</div>"
      ],
      "text/plain": [
       "  Invoice StockCode                          Description  Quantity  \\\n",
       "0  489434     85048  15CM CHRISTMAS GLASS BALL 20 LIGHTS        12   \n",
       "1  489434    79323P                   PINK CHERRY LIGHTS        12   \n",
       "2  489434    79323W                  WHITE CHERRY LIGHTS        12   \n",
       "3  489434     22041         RECORD FRAME 7\" SINGLE SIZE         48   \n",
       "4  489434     21232       STRAWBERRY CERAMIC TRINKET BOX        24   \n",
       "\n",
       "          InvoiceDate  Price  Customer ID         Country  \n",
       "0 2009-12-01 07:45:00   6.95      13085.0  United Kingdom  \n",
       "1 2009-12-01 07:45:00   6.75      13085.0  United Kingdom  \n",
       "2 2009-12-01 07:45:00   6.75      13085.0  United Kingdom  \n",
       "3 2009-12-01 07:45:00   2.10      13085.0  United Kingdom  \n",
       "4 2009-12-01 07:45:00   1.25      13085.0  United Kingdom  "
      ]
     },
     "execution_count": 4,
     "metadata": {},
     "output_type": "execute_result"
    }
   ],
   "source": [
    "df= pd.concat([df1,df2],ignore_index=True)\n",
    "df.head()"
   ]
  },
  {
   "cell_type": "code",
   "execution_count": 5,
   "id": "7b68e0e0-ff74-40a9-bd6e-500b8b2784e3",
   "metadata": {},
   "outputs": [
    {
     "data": {
      "text/html": [
       "<div>\n",
       "<style scoped>\n",
       "    .dataframe tbody tr th:only-of-type {\n",
       "        vertical-align: middle;\n",
       "    }\n",
       "\n",
       "    .dataframe tbody tr th {\n",
       "        vertical-align: top;\n",
       "    }\n",
       "\n",
       "    .dataframe thead th {\n",
       "        text-align: right;\n",
       "    }\n",
       "</style>\n",
       "<table border=\"1\" class=\"dataframe\">\n",
       "  <thead>\n",
       "    <tr style=\"text-align: right;\">\n",
       "      <th></th>\n",
       "      <th>Invoice</th>\n",
       "      <th>StockCode</th>\n",
       "      <th>Description</th>\n",
       "      <th>Quantity</th>\n",
       "      <th>InvoiceDate</th>\n",
       "      <th>Price</th>\n",
       "      <th>Customer ID</th>\n",
       "      <th>Country</th>\n",
       "    </tr>\n",
       "  </thead>\n",
       "  <tbody>\n",
       "    <tr>\n",
       "      <th>1067366</th>\n",
       "      <td>581587</td>\n",
       "      <td>22899</td>\n",
       "      <td>CHILDREN'S APRON DOLLY GIRL</td>\n",
       "      <td>6</td>\n",
       "      <td>2011-12-09 12:50:00</td>\n",
       "      <td>2.10</td>\n",
       "      <td>12680.0</td>\n",
       "      <td>France</td>\n",
       "    </tr>\n",
       "    <tr>\n",
       "      <th>1067367</th>\n",
       "      <td>581587</td>\n",
       "      <td>23254</td>\n",
       "      <td>CHILDRENS CUTLERY DOLLY GIRL</td>\n",
       "      <td>4</td>\n",
       "      <td>2011-12-09 12:50:00</td>\n",
       "      <td>4.15</td>\n",
       "      <td>12680.0</td>\n",
       "      <td>France</td>\n",
       "    </tr>\n",
       "    <tr>\n",
       "      <th>1067368</th>\n",
       "      <td>581587</td>\n",
       "      <td>23255</td>\n",
       "      <td>CHILDRENS CUTLERY CIRCUS PARADE</td>\n",
       "      <td>4</td>\n",
       "      <td>2011-12-09 12:50:00</td>\n",
       "      <td>4.15</td>\n",
       "      <td>12680.0</td>\n",
       "      <td>France</td>\n",
       "    </tr>\n",
       "    <tr>\n",
       "      <th>1067369</th>\n",
       "      <td>581587</td>\n",
       "      <td>22138</td>\n",
       "      <td>BAKING SET 9 PIECE RETROSPOT</td>\n",
       "      <td>3</td>\n",
       "      <td>2011-12-09 12:50:00</td>\n",
       "      <td>4.95</td>\n",
       "      <td>12680.0</td>\n",
       "      <td>France</td>\n",
       "    </tr>\n",
       "    <tr>\n",
       "      <th>1067370</th>\n",
       "      <td>581587</td>\n",
       "      <td>POST</td>\n",
       "      <td>POSTAGE</td>\n",
       "      <td>1</td>\n",
       "      <td>2011-12-09 12:50:00</td>\n",
       "      <td>18.00</td>\n",
       "      <td>12680.0</td>\n",
       "      <td>France</td>\n",
       "    </tr>\n",
       "  </tbody>\n",
       "</table>\n",
       "</div>"
      ],
      "text/plain": [
       "        Invoice StockCode                      Description  Quantity  \\\n",
       "1067366  581587     22899     CHILDREN'S APRON DOLLY GIRL          6   \n",
       "1067367  581587     23254    CHILDRENS CUTLERY DOLLY GIRL          4   \n",
       "1067368  581587     23255  CHILDRENS CUTLERY CIRCUS PARADE         4   \n",
       "1067369  581587     22138    BAKING SET 9 PIECE RETROSPOT          3   \n",
       "1067370  581587      POST                          POSTAGE         1   \n",
       "\n",
       "                InvoiceDate  Price  Customer ID Country  \n",
       "1067366 2011-12-09 12:50:00   2.10      12680.0  France  \n",
       "1067367 2011-12-09 12:50:00   4.15      12680.0  France  \n",
       "1067368 2011-12-09 12:50:00   4.15      12680.0  France  \n",
       "1067369 2011-12-09 12:50:00   4.95      12680.0  France  \n",
       "1067370 2011-12-09 12:50:00  18.00      12680.0  France  "
      ]
     },
     "execution_count": 5,
     "metadata": {},
     "output_type": "execute_result"
    }
   ],
   "source": [
    "df.tail()"
   ]
  },
  {
   "cell_type": "code",
   "execution_count": 6,
   "id": "e226ae74-5aeb-41ef-b0bd-946d367a94a2",
   "metadata": {},
   "outputs": [
    {
     "data": {
      "text/plain": [
       "5942"
      ]
     },
     "execution_count": 6,
     "metadata": {},
     "output_type": "execute_result"
    }
   ],
   "source": [
    "df['Customer ID'].nunique()"
   ]
  },
  {
   "cell_type": "code",
   "execution_count": 7,
   "id": "97e07626-0846-4cb1-8afd-f9c93e150424",
   "metadata": {},
   "outputs": [
    {
     "data": {
      "text/plain": [
       "Invoice        53628\n",
       "StockCode       5305\n",
       "Description     5698\n",
       "Quantity        1057\n",
       "InvoiceDate    47635\n",
       "Price           2807\n",
       "Customer ID     5942\n",
       "Country           43\n",
       "dtype: int64"
      ]
     },
     "execution_count": 7,
     "metadata": {},
     "output_type": "execute_result"
    }
   ],
   "source": [
    "df.nunique(axis=0)"
   ]
  },
  {
   "cell_type": "code",
   "execution_count": 8,
   "id": "aea3639f-c527-43e4-91ce-00894fb6c4c4",
   "metadata": {},
   "outputs": [
    {
     "data": {
      "text/html": [
       "<div>\n",
       "<style scoped>\n",
       "    .dataframe tbody tr th:only-of-type {\n",
       "        vertical-align: middle;\n",
       "    }\n",
       "\n",
       "    .dataframe tbody tr th {\n",
       "        vertical-align: top;\n",
       "    }\n",
       "\n",
       "    .dataframe thead th {\n",
       "        text-align: right;\n",
       "    }\n",
       "</style>\n",
       "<table border=\"1\" class=\"dataframe\">\n",
       "  <thead>\n",
       "    <tr style=\"text-align: right;\">\n",
       "      <th></th>\n",
       "      <th>Quantity</th>\n",
       "      <th>Price</th>\n",
       "      <th>Customer ID</th>\n",
       "    </tr>\n",
       "  </thead>\n",
       "  <tbody>\n",
       "    <tr>\n",
       "      <th>count</th>\n",
       "      <td>1.067371e+06</td>\n",
       "      <td>1.067371e+06</td>\n",
       "      <td>824364.000000</td>\n",
       "    </tr>\n",
       "    <tr>\n",
       "      <th>mean</th>\n",
       "      <td>9.938898e+00</td>\n",
       "      <td>4.649388e+00</td>\n",
       "      <td>15324.638504</td>\n",
       "    </tr>\n",
       "    <tr>\n",
       "      <th>std</th>\n",
       "      <td>1.727058e+02</td>\n",
       "      <td>1.235531e+02</td>\n",
       "      <td>1697.464450</td>\n",
       "    </tr>\n",
       "    <tr>\n",
       "      <th>min</th>\n",
       "      <td>-8.099500e+04</td>\n",
       "      <td>-5.359436e+04</td>\n",
       "      <td>12346.000000</td>\n",
       "    </tr>\n",
       "    <tr>\n",
       "      <th>25%</th>\n",
       "      <td>1.000000e+00</td>\n",
       "      <td>1.250000e+00</td>\n",
       "      <td>13975.000000</td>\n",
       "    </tr>\n",
       "    <tr>\n",
       "      <th>50%</th>\n",
       "      <td>3.000000e+00</td>\n",
       "      <td>2.100000e+00</td>\n",
       "      <td>15255.000000</td>\n",
       "    </tr>\n",
       "    <tr>\n",
       "      <th>75%</th>\n",
       "      <td>1.000000e+01</td>\n",
       "      <td>4.150000e+00</td>\n",
       "      <td>16797.000000</td>\n",
       "    </tr>\n",
       "    <tr>\n",
       "      <th>max</th>\n",
       "      <td>8.099500e+04</td>\n",
       "      <td>3.897000e+04</td>\n",
       "      <td>18287.000000</td>\n",
       "    </tr>\n",
       "  </tbody>\n",
       "</table>\n",
       "</div>"
      ],
      "text/plain": [
       "           Quantity         Price    Customer ID\n",
       "count  1.067371e+06  1.067371e+06  824364.000000\n",
       "mean   9.938898e+00  4.649388e+00   15324.638504\n",
       "std    1.727058e+02  1.235531e+02    1697.464450\n",
       "min   -8.099500e+04 -5.359436e+04   12346.000000\n",
       "25%    1.000000e+00  1.250000e+00   13975.000000\n",
       "50%    3.000000e+00  2.100000e+00   15255.000000\n",
       "75%    1.000000e+01  4.150000e+00   16797.000000\n",
       "max    8.099500e+04  3.897000e+04   18287.000000"
      ]
     },
     "execution_count": 8,
     "metadata": {},
     "output_type": "execute_result"
    }
   ],
   "source": [
    "df.describe()"
   ]
  },
  {
   "cell_type": "code",
   "execution_count": 9,
   "id": "4adf1fc8-8017-42a4-9bf8-212a5bc40418",
   "metadata": {},
   "outputs": [
    {
     "name": "stdout",
     "output_type": "stream",
     "text": [
      "<class 'pandas.core.frame.DataFrame'>\n",
      "RangeIndex: 1067371 entries, 0 to 1067370\n",
      "Data columns (total 8 columns):\n",
      " #   Column       Non-Null Count    Dtype         \n",
      "---  ------       --------------    -----         \n",
      " 0   Invoice      1067371 non-null  object        \n",
      " 1   StockCode    1067371 non-null  object        \n",
      " 2   Description  1062989 non-null  object        \n",
      " 3   Quantity     1067371 non-null  int64         \n",
      " 4   InvoiceDate  1067371 non-null  datetime64[ns]\n",
      " 5   Price        1067371 non-null  float64       \n",
      " 6   Customer ID  824364 non-null   float64       \n",
      " 7   Country      1067371 non-null  object        \n",
      "dtypes: datetime64[ns](1), float64(2), int64(1), object(4)\n",
      "memory usage: 65.1+ MB\n"
     ]
    }
   ],
   "source": [
    "df.info()"
   ]
  },
  {
   "cell_type": "code",
   "execution_count": 10,
   "id": "5a400c22-0d2e-4b45-9857-41d9f63faad5",
   "metadata": {},
   "outputs": [
    {
     "data": {
      "text/html": [
       "<div>\n",
       "<style scoped>\n",
       "    .dataframe tbody tr th:only-of-type {\n",
       "        vertical-align: middle;\n",
       "    }\n",
       "\n",
       "    .dataframe tbody tr th {\n",
       "        vertical-align: top;\n",
       "    }\n",
       "\n",
       "    .dataframe thead th {\n",
       "        text-align: right;\n",
       "    }\n",
       "</style>\n",
       "<table border=\"1\" class=\"dataframe\">\n",
       "  <thead>\n",
       "    <tr style=\"text-align: right;\">\n",
       "      <th></th>\n",
       "      <th>Invoice</th>\n",
       "      <th>StockCode</th>\n",
       "      <th>Description</th>\n",
       "      <th>Quantity</th>\n",
       "      <th>InvoiceDate</th>\n",
       "      <th>Price</th>\n",
       "      <th>Customer ID</th>\n",
       "      <th>Country</th>\n",
       "    </tr>\n",
       "  </thead>\n",
       "  <tbody>\n",
       "    <tr>\n",
       "      <th>0</th>\n",
       "      <td>0.0</td>\n",
       "      <td>0.0</td>\n",
       "      <td>0.004105</td>\n",
       "      <td>0.0</td>\n",
       "      <td>0.0</td>\n",
       "      <td>0.0</td>\n",
       "      <td>0.227669</td>\n",
       "      <td>0.0</td>\n",
       "    </tr>\n",
       "  </tbody>\n",
       "</table>\n",
       "</div>"
      ],
      "text/plain": [
       "   Invoice  StockCode  Description  Quantity  InvoiceDate  Price  Customer ID  \\\n",
       "0      0.0        0.0     0.004105       0.0          0.0    0.0     0.227669   \n",
       "\n",
       "   Country  \n",
       "0      0.0  "
      ]
     },
     "execution_count": 10,
     "metadata": {},
     "output_type": "execute_result"
    }
   ],
   "source": [
    "pd.DataFrame(df.isna().sum()/len(df)).T"
   ]
  },
  {
   "cell_type": "code",
   "execution_count": 11,
   "id": "6cef386e-5db2-4d54-8990-b81efcf446cd",
   "metadata": {},
   "outputs": [
    {
     "ename": "SyntaxError",
     "evalue": "invalid syntax (Temp/ipykernel_11864/1409413578.py, line 1)",
     "output_type": "error",
     "traceback": [
      "\u001b[1;36m  File \u001b[1;32m\"C:\\Users\\Admin\\AppData\\Local\\Temp/ipykernel_11864/1409413578.py\"\u001b[1;36m, line \u001b[1;32m1\u001b[0m\n\u001b[1;33m    >>>Problem 1: Datatype 'Customer ID', Missing value 'description', 'customer ID'\u001b[0m\n\u001b[1;37m     ^\u001b[0m\n\u001b[1;31mSyntaxError\u001b[0m\u001b[1;31m:\u001b[0m invalid syntax\n"
     ]
    }
   ],
   "source": [
    ">>>Problem 1: Datatype 'Customer ID', Missing value 'description', 'customer ID'"
   ]
  },
  {
   "cell_type": "code",
   "execution_count": 12,
   "id": "786e4e31-001f-497d-9747-feb8d2e97790",
   "metadata": {},
   "outputs": [
    {
     "data": {
      "text/plain": [
       "<AxesSubplot:>"
      ]
     },
     "execution_count": 12,
     "metadata": {},
     "output_type": "execute_result"
    },
    {
     "data": {
      "image/png": "[encoded data removed]",
      "text/plain": [
       "<Figure size 432x288 with 1 Axes>"
      ]
     },
     "metadata": {
      "needs_background": "light"
     },
     "output_type": "display_data"
    }
   ],
   "source": [
    "sns.boxplot(data=df[['Quantity','Price']])"
   ]
  },
  {
   "cell_type": "code",
   "execution_count": null,
   "id": "e9ca5eb1-b793-46f9-abe5-7854567bd99e",
   "metadata": {},
   "outputs": [],
   "source": [
    ">>>Problem 2: Outliers 'Quantity' as Quantity < 0, 'Price'"
   ]
  },
  {
   "cell_type": "code",
   "execution_count": 13,
   "id": "b77b3e49-c448-4b65-80bc-d8b6e1e7ed1f",
   "metadata": {},
   "outputs": [
    {
     "data": {
      "text/plain": [
       "34335"
      ]
     },
     "execution_count": 13,
     "metadata": {},
     "output_type": "execute_result"
    }
   ],
   "source": [
    "df.duplicated().sum()"
   ]
  },
  {
   "cell_type": "code",
   "execution_count": null,
   "id": "fe73c9ec-82d7-44f9-8a05-ab7c3ad2548a",
   "metadata": {},
   "outputs": [],
   "source": [
    ">>>Problem 3: duplicated value"
   ]
  },
  {
   "cell_type": "markdown",
   "id": "067a886c-c223-43f4-ad17-b7a26f2f41aa",
   "metadata": {},
   "source": [
    "Data Cleaning and Processing"
   ]
  },
  {
   "cell_type": "code",
   "execution_count": null,
   "id": "caf0a154-1491-4340-a403-4f78e341161c",
   "metadata": {},
   "outputs": [],
   "source": [
    ">>>Remove outlier 'Quantity'"
   ]
  },
  {
   "cell_type": "code",
   "execution_count": 14,
   "id": "be0830ab-4fa0-4034-b721-62a9649767b9",
   "metadata": {},
   "outputs": [],
   "source": [
    "q1 = df['Quantity'].quantile(0.25)\n",
    "q3 = df['Quantity'].quantile(0.75)\n",
    "IQL = q3-q1\n",
    "upper_limit = q3+1.5*IQL\n",
    "lower_limit = q1-1.5*IQL"
   ]
  },
  {
   "cell_type": "code",
   "execution_count": 15,
   "id": "8bce6a26-e77f-44f9-92d4-f1803fb2c59b",
   "metadata": {},
   "outputs": [
    {
     "data": {
      "text/plain": [
       "-12.5"
      ]
     },
     "execution_count": 15,
     "metadata": {},
     "output_type": "execute_result"
    }
   ],
   "source": [
    "lower_limit"
   ]
  },
  {
   "cell_type": "code",
   "execution_count": 16,
   "id": "0b2aa22f-dce1-47a5-a1db-54aac7ed0468",
   "metadata": {},
   "outputs": [],
   "source": [
    "df['Quantity_RO']=pd.DataFrame(np.where(df['Quantity']  > upper_limit, upper_limit,\n",
    "                            np.where(df['Quantity'] < lower_limit, lower_limit,df['Quantity'])))"
   ]
  },
  {
   "cell_type": "code",
   "execution_count": 17,
   "id": "a9f2a8c9-206c-4ead-ad31-3229b9f73815",
   "metadata": {},
   "outputs": [
    {
     "data": {
      "text/html": [
       "<div>\n",
       "<style scoped>\n",
       "    .dataframe tbody tr th:only-of-type {\n",
       "        vertical-align: middle;\n",
       "    }\n",
       "\n",
       "    .dataframe tbody tr th {\n",
       "        vertical-align: top;\n",
       "    }\n",
       "\n",
       "    .dataframe thead th {\n",
       "        text-align: right;\n",
       "    }\n",
       "</style>\n",
       "<table border=\"1\" class=\"dataframe\">\n",
       "  <thead>\n",
       "    <tr style=\"text-align: right;\">\n",
       "      <th></th>\n",
       "      <th>Invoice</th>\n",
       "      <th>StockCode</th>\n",
       "      <th>Description</th>\n",
       "      <th>Quantity</th>\n",
       "      <th>InvoiceDate</th>\n",
       "      <th>Price</th>\n",
       "      <th>Customer ID</th>\n",
       "      <th>Country</th>\n",
       "      <th>Quantity_RO</th>\n",
       "    </tr>\n",
       "  </thead>\n",
       "  <tbody>\n",
       "    <tr>\n",
       "      <th>0</th>\n",
       "      <td>489434</td>\n",
       "      <td>85048</td>\n",
       "      <td>15CM CHRISTMAS GLASS BALL 20 LIGHTS</td>\n",
       "      <td>12</td>\n",
       "      <td>2009-12-01 07:45:00</td>\n",
       "      <td>6.95</td>\n",
       "      <td>13085.0</td>\n",
       "      <td>United Kingdom</td>\n",
       "      <td>12.0</td>\n",
       "    </tr>\n",
       "    <tr>\n",
       "      <th>1</th>\n",
       "      <td>489434</td>\n",
       "      <td>79323P</td>\n",
       "      <td>PINK CHERRY LIGHTS</td>\n",
       "      <td>12</td>\n",
       "      <td>2009-12-01 07:45:00</td>\n",
       "      <td>6.75</td>\n",
       "      <td>13085.0</td>\n",
       "      <td>United Kingdom</td>\n",
       "      <td>12.0</td>\n",
       "    </tr>\n",
       "    <tr>\n",
       "      <th>2</th>\n",
       "      <td>489434</td>\n",
       "      <td>79323W</td>\n",
       "      <td>WHITE CHERRY LIGHTS</td>\n",
       "      <td>12</td>\n",
       "      <td>2009-12-01 07:45:00</td>\n",
       "      <td>6.75</td>\n",
       "      <td>13085.0</td>\n",
       "      <td>United Kingdom</td>\n",
       "      <td>12.0</td>\n",
       "    </tr>\n",
       "    <tr>\n",
       "      <th>3</th>\n",
       "      <td>489434</td>\n",
       "      <td>22041</td>\n",
       "      <td>RECORD FRAME 7\" SINGLE SIZE</td>\n",
       "      <td>48</td>\n",
       "      <td>2009-12-01 07:45:00</td>\n",
       "      <td>2.10</td>\n",
       "      <td>13085.0</td>\n",
       "      <td>United Kingdom</td>\n",
       "      <td>23.5</td>\n",
       "    </tr>\n",
       "    <tr>\n",
       "      <th>4</th>\n",
       "      <td>489434</td>\n",
       "      <td>21232</td>\n",
       "      <td>STRAWBERRY CERAMIC TRINKET BOX</td>\n",
       "      <td>24</td>\n",
       "      <td>2009-12-01 07:45:00</td>\n",
       "      <td>1.25</td>\n",
       "      <td>13085.0</td>\n",
       "      <td>United Kingdom</td>\n",
       "      <td>23.5</td>\n",
       "    </tr>\n",
       "  </tbody>\n",
       "</table>\n",
       "</div>"
      ],
      "text/plain": [
       "  Invoice StockCode                          Description  Quantity  \\\n",
       "0  489434     85048  15CM CHRISTMAS GLASS BALL 20 LIGHTS        12   \n",
       "1  489434    79323P                   PINK CHERRY LIGHTS        12   \n",
       "2  489434    79323W                  WHITE CHERRY LIGHTS        12   \n",
       "3  489434     22041         RECORD FRAME 7\" SINGLE SIZE         48   \n",
       "4  489434     21232       STRAWBERRY CERAMIC TRINKET BOX        24   \n",
       "\n",
       "          InvoiceDate  Price  Customer ID         Country  Quantity_RO  \n",
       "0 2009-12-01 07:45:00   6.95      13085.0  United Kingdom         12.0  \n",
       "1 2009-12-01 07:45:00   6.75      13085.0  United Kingdom         12.0  \n",
       "2 2009-12-01 07:45:00   6.75      13085.0  United Kingdom         12.0  \n",
       "3 2009-12-01 07:45:00   2.10      13085.0  United Kingdom         23.5  \n",
       "4 2009-12-01 07:45:00   1.25      13085.0  United Kingdom         23.5  "
      ]
     },
     "execution_count": 17,
     "metadata": {},
     "output_type": "execute_result"
    }
   ],
   "source": [
    "df.head()"
   ]
  },
  {
   "cell_type": "code",
   "execution_count": 18,
   "id": "42662092-c45a-466f-ad8a-a6d1632dedf3",
   "metadata": {},
   "outputs": [
    {
     "data": {
      "text/plain": [
       "<AxesSubplot:>"
      ]
     },
     "execution_count": 18,
     "metadata": {},
     "output_type": "execute_result"
    },
    {
     "data": {
      "image/png": "[encoded data removed]",
      "text/plain": [
       "<Figure size 432x288 with 1 Axes>"
      ]
     },
     "metadata": {
      "needs_background": "light"
     },
     "output_type": "display_data"
    }
   ],
   "source": [
    "sns.boxplot(data=df[['Quantity','Quantity_RO']])"
   ]
  },
  {
   "cell_type": "code",
   "execution_count": 19,
   "id": "37772187-26f0-4b3f-b50a-7f7105d8aad7",
   "metadata": {},
   "outputs": [
    {
     "data": {
      "text/plain": [
       "<AxesSubplot:>"
      ]
     },
     "execution_count": 19,
     "metadata": {},
     "output_type": "execute_result"
    },
    {
     "data": {
      "image/png": "[encoded data removed]",
      "text/plain": [
       "<Figure size 432x288 with 1 Axes>"
      ]
     },
     "metadata": {
      "needs_background": "light"
     },
     "output_type": "display_data"
    }
   ],
   "source": [
    "sns.boxplot(data=df['Quantity_RO'])"
   ]
  },
  {
   "cell_type": "code",
   "execution_count": 20,
   "id": "49b915a1-8fa7-4f3e-9c75-6dea59a0c3fb",
   "metadata": {},
   "outputs": [],
   "source": [
    "q1_p = df['Price'].quantile(0.25)\n",
    "q3_p = df['Price'].quantile(0.75)\n",
    "IQL_p = q3_p - q1_p\n",
    "upper_limit_p = q3_p + 1.5*IQL_p\n",
    "lower_limit_p = q1_p - 1.5*IQL_p"
   ]
  },
  {
   "cell_type": "code",
   "execution_count": 21,
   "id": "0a23244a-8214-4059-b943-322e7aff8c40",
   "metadata": {},
   "outputs": [],
   "source": [
    "df['Price_RO']=pd.DataFrame(np.where(df['Price']  > upper_limit_p, upper_limit_p,\n",
    "                            np.where(df['Price'] < lower_limit_p, lower_limit_p,df['Price'])))"
   ]
  },
  {
   "cell_type": "code",
   "execution_count": 22,
   "id": "e76bbbfd-4130-4159-adca-6238efac6b7e",
   "metadata": {},
   "outputs": [
    {
     "data": {
      "text/html": [
       "<div>\n",
       "<style scoped>\n",
       "    .dataframe tbody tr th:only-of-type {\n",
       "        vertical-align: middle;\n",
       "    }\n",
       "\n",
       "    .dataframe tbody tr th {\n",
       "        vertical-align: top;\n",
       "    }\n",
       "\n",
       "    .dataframe thead th {\n",
       "        text-align: right;\n",
       "    }\n",
       "</style>\n",
       "<table border=\"1\" class=\"dataframe\">\n",
       "  <thead>\n",
       "    <tr style=\"text-align: right;\">\n",
       "      <th></th>\n",
       "      <th>Invoice</th>\n",
       "      <th>StockCode</th>\n",
       "      <th>Description</th>\n",
       "      <th>Quantity</th>\n",
       "      <th>InvoiceDate</th>\n",
       "      <th>Price</th>\n",
       "      <th>Customer ID</th>\n",
       "      <th>Country</th>\n",
       "      <th>Quantity_RO</th>\n",
       "      <th>Price_RO</th>\n",
       "    </tr>\n",
       "  </thead>\n",
       "  <tbody>\n",
       "    <tr>\n",
       "      <th>0</th>\n",
       "      <td>489434</td>\n",
       "      <td>85048</td>\n",
       "      <td>15CM CHRISTMAS GLASS BALL 20 LIGHTS</td>\n",
       "      <td>12</td>\n",
       "      <td>2009-12-01 07:45:00</td>\n",
       "      <td>6.95</td>\n",
       "      <td>13085.0</td>\n",
       "      <td>United Kingdom</td>\n",
       "      <td>12.0</td>\n",
       "      <td>6.95</td>\n",
       "    </tr>\n",
       "    <tr>\n",
       "      <th>1</th>\n",
       "      <td>489434</td>\n",
       "      <td>79323P</td>\n",
       "      <td>PINK CHERRY LIGHTS</td>\n",
       "      <td>12</td>\n",
       "      <td>2009-12-01 07:45:00</td>\n",
       "      <td>6.75</td>\n",
       "      <td>13085.0</td>\n",
       "      <td>United Kingdom</td>\n",
       "      <td>12.0</td>\n",
       "      <td>6.75</td>\n",
       "    </tr>\n",
       "    <tr>\n",
       "      <th>2</th>\n",
       "      <td>489434</td>\n",
       "      <td>79323W</td>\n",
       "      <td>WHITE CHERRY LIGHTS</td>\n",
       "      <td>12</td>\n",
       "      <td>2009-12-01 07:45:00</td>\n",
       "      <td>6.75</td>\n",
       "      <td>13085.0</td>\n",
       "      <td>United Kingdom</td>\n",
       "      <td>12.0</td>\n",
       "      <td>6.75</td>\n",
       "    </tr>\n",
       "    <tr>\n",
       "      <th>3</th>\n",
       "      <td>489434</td>\n",
       "      <td>22041</td>\n",
       "      <td>RECORD FRAME 7\" SINGLE SIZE</td>\n",
       "      <td>48</td>\n",
       "      <td>2009-12-01 07:45:00</td>\n",
       "      <td>2.10</td>\n",
       "      <td>13085.0</td>\n",
       "      <td>United Kingdom</td>\n",
       "      <td>23.5</td>\n",
       "      <td>2.10</td>\n",
       "    </tr>\n",
       "    <tr>\n",
       "      <th>4</th>\n",
       "      <td>489434</td>\n",
       "      <td>21232</td>\n",
       "      <td>STRAWBERRY CERAMIC TRINKET BOX</td>\n",
       "      <td>24</td>\n",
       "      <td>2009-12-01 07:45:00</td>\n",
       "      <td>1.25</td>\n",
       "      <td>13085.0</td>\n",
       "      <td>United Kingdom</td>\n",
       "      <td>23.5</td>\n",
       "      <td>1.25</td>\n",
       "    </tr>\n",
       "  </tbody>\n",
       "</table>\n",
       "</div>"
      ],
      "text/plain": [
       "  Invoice StockCode                          Description  Quantity  \\\n",
       "0  489434     85048  15CM CHRISTMAS GLASS BALL 20 LIGHTS        12   \n",
       "1  489434    79323P                   PINK CHERRY LIGHTS        12   \n",
       "2  489434    79323W                  WHITE CHERRY LIGHTS        12   \n",
       "3  489434     22041         RECORD FRAME 7\" SINGLE SIZE         48   \n",
       "4  489434     21232       STRAWBERRY CERAMIC TRINKET BOX        24   \n",
       "\n",
       "          InvoiceDate  Price  Customer ID         Country  Quantity_RO  \\\n",
       "0 2009-12-01 07:45:00   6.95      13085.0  United Kingdom         12.0   \n",
       "1 2009-12-01 07:45:00   6.75      13085.0  United Kingdom         12.0   \n",
       "2 2009-12-01 07:45:00   6.75      13085.0  United Kingdom         12.0   \n",
       "3 2009-12-01 07:45:00   2.10      13085.0  United Kingdom         23.5   \n",
       "4 2009-12-01 07:45:00   1.25      13085.0  United Kingdom         23.5   \n",
       "\n",
       "   Price_RO  \n",
       "0      6.95  \n",
       "1      6.75  \n",
       "2      6.75  \n",
       "3      2.10  \n",
       "4      1.25  "
      ]
     },
     "execution_count": 22,
     "metadata": {},
     "output_type": "execute_result"
    }
   ],
   "source": [
    "df.head()"
   ]
  },
  {
   "cell_type": "code",
   "execution_count": 23,
   "id": "d67795d8-485f-400c-90e7-dc5842411c22",
   "metadata": {},
   "outputs": [
    {
     "data": {
      "text/plain": [
       "<AxesSubplot:>"
      ]
     },
     "execution_count": 23,
     "metadata": {},
     "output_type": "execute_result"
    },
    {
     "data": {
      "image/png": "[encoded data removed]",
      "text/plain": [
       "<Figure size 432x288 with 1 Axes>"
      ]
     },
     "metadata": {
      "needs_background": "light"
     },
     "output_type": "display_data"
    }
   ],
   "source": [
    "sns.boxplot(data=df[['Price','Price_RO']])"
   ]
  },
  {
   "cell_type": "code",
   "execution_count": 24,
   "id": "ba61393f-9650-4369-96cb-628439811022",
   "metadata": {},
   "outputs": [
    {
     "data": {
      "text/plain": [
       "<AxesSubplot:>"
      ]
     },
     "execution_count": 24,
     "metadata": {},
     "output_type": "execute_result"
    },
    {
     "data": {
      "image/png": "[encoded data removed]",
      "text/plain": [
       "<Figure size 432x288 with 1 Axes>"
      ]
     },
     "metadata": {
      "needs_background": "light"
     },
     "output_type": "display_data"
    }
   ],
   "source": [
    "sns.boxplot(data=df['Quantity_RO'])"
   ]
  },
  {
   "cell_type": "code",
   "execution_count": null,
   "id": "bc182681-bdfc-44f8-8974-8abe626fdeed",
   "metadata": {},
   "outputs": [],
   "source": [
    ">>> Missing value,negative, duplicates"
   ]
  },
  {
   "cell_type": "code",
   "execution_count": 25,
   "id": "b2225e7f-7cab-4fab-9e5b-421a1ee42f8a",
   "metadata": {},
   "outputs": [
    {
     "data": {
      "text/html": [
       "<div>\n",
       "<style scoped>\n",
       "    .dataframe tbody tr th:only-of-type {\n",
       "        vertical-align: middle;\n",
       "    }\n",
       "\n",
       "    .dataframe tbody tr th {\n",
       "        vertical-align: top;\n",
       "    }\n",
       "\n",
       "    .dataframe thead th {\n",
       "        text-align: right;\n",
       "    }\n",
       "</style>\n",
       "<table border=\"1\" class=\"dataframe\">\n",
       "  <thead>\n",
       "    <tr style=\"text-align: right;\">\n",
       "      <th></th>\n",
       "      <th>Quantity</th>\n",
       "      <th>Price</th>\n",
       "      <th>Customer ID</th>\n",
       "      <th>Quantity_RO</th>\n",
       "      <th>Price_RO</th>\n",
       "    </tr>\n",
       "  </thead>\n",
       "  <tbody>\n",
       "    <tr>\n",
       "      <th>count</th>\n",
       "      <td>1.067371e+06</td>\n",
       "      <td>1.067371e+06</td>\n",
       "      <td>824364.000000</td>\n",
       "      <td>1.067371e+06</td>\n",
       "      <td>1.067371e+06</td>\n",
       "    </tr>\n",
       "    <tr>\n",
       "      <th>mean</th>\n",
       "      <td>9.938898e+00</td>\n",
       "      <td>4.649388e+00</td>\n",
       "      <td>15324.638504</td>\n",
       "      <td>6.450242e+00</td>\n",
       "      <td>3.007218e+00</td>\n",
       "    </tr>\n",
       "    <tr>\n",
       "      <th>std</th>\n",
       "      <td>1.727058e+02</td>\n",
       "      <td>1.235531e+02</td>\n",
       "      <td>1697.464450</td>\n",
       "      <td>7.313627e+00</td>\n",
       "      <td>2.429471e+00</td>\n",
       "    </tr>\n",
       "    <tr>\n",
       "      <th>min</th>\n",
       "      <td>-8.099500e+04</td>\n",
       "      <td>-5.359436e+04</td>\n",
       "      <td>12346.000000</td>\n",
       "      <td>-1.250000e+01</td>\n",
       "      <td>-3.100000e+00</td>\n",
       "    </tr>\n",
       "    <tr>\n",
       "      <th>25%</th>\n",
       "      <td>1.000000e+00</td>\n",
       "      <td>1.250000e+00</td>\n",
       "      <td>13975.000000</td>\n",
       "      <td>1.000000e+00</td>\n",
       "      <td>1.250000e+00</td>\n",
       "    </tr>\n",
       "    <tr>\n",
       "      <th>50%</th>\n",
       "      <td>3.000000e+00</td>\n",
       "      <td>2.100000e+00</td>\n",
       "      <td>15255.000000</td>\n",
       "      <td>3.000000e+00</td>\n",
       "      <td>2.100000e+00</td>\n",
       "    </tr>\n",
       "    <tr>\n",
       "      <th>75%</th>\n",
       "      <td>1.000000e+01</td>\n",
       "      <td>4.150000e+00</td>\n",
       "      <td>16797.000000</td>\n",
       "      <td>1.000000e+01</td>\n",
       "      <td>4.150000e+00</td>\n",
       "    </tr>\n",
       "    <tr>\n",
       "      <th>max</th>\n",
       "      <td>8.099500e+04</td>\n",
       "      <td>3.897000e+04</td>\n",
       "      <td>18287.000000</td>\n",
       "      <td>2.350000e+01</td>\n",
       "      <td>8.500000e+00</td>\n",
       "    </tr>\n",
       "  </tbody>\n",
       "</table>\n",
       "</div>"
      ],
      "text/plain": [
       "           Quantity         Price    Customer ID   Quantity_RO      Price_RO\n",
       "count  1.067371e+06  1.067371e+06  824364.000000  1.067371e+06  1.067371e+06\n",
       "mean   9.938898e+00  4.649388e+00   15324.638504  6.450242e+00  3.007218e+00\n",
       "std    1.727058e+02  1.235531e+02    1697.464450  7.313627e+00  2.429471e+00\n",
       "min   -8.099500e+04 -5.359436e+04   12346.000000 -1.250000e+01 -3.100000e+00\n",
       "25%    1.000000e+00  1.250000e+00   13975.000000  1.000000e+00  1.250000e+00\n",
       "50%    3.000000e+00  2.100000e+00   15255.000000  3.000000e+00  2.100000e+00\n",
       "75%    1.000000e+01  4.150000e+00   16797.000000  1.000000e+01  4.150000e+00\n",
       "max    8.099500e+04  3.897000e+04   18287.000000  2.350000e+01  8.500000e+00"
      ]
     },
     "execution_count": 25,
     "metadata": {},
     "output_type": "execute_result"
    }
   ],
   "source": [
    "df.describe()"
   ]
  },
  {
   "cell_type": "code",
   "execution_count": 26,
   "id": "579c893f-cbdc-42e2-bc05-97b18abd74a4",
   "metadata": {},
   "outputs": [
    {
     "data": {
      "text/plain": [
       "<AxesSubplot:>"
      ]
     },
     "execution_count": 26,
     "metadata": {},
     "output_type": "execute_result"
    },
    {
     "data": {
      "image/png": "[encoded data removed]",
      "text/plain": [
       "<Figure size 432x288 with 1 Axes>"
      ]
     },
     "metadata": {
      "needs_background": "light"
     },
     "output_type": "display_data"
    }
   ],
   "source": [
    "sns.boxplot(data=df[['Quantity_RO','Price_RO']])"
   ]
  },
  {
   "cell_type": "code",
   "execution_count": 27,
   "id": "9bc448b1-3610-42c4-9ca6-d217110200a3",
   "metadata": {},
   "outputs": [],
   "source": [
    "df = df.dropna(axis=0, subset=['Customer ID'])"
   ]
  },
  {
   "cell_type": "code",
   "execution_count": 28,
   "id": "99f09445-4b94-4630-83fb-26d08b0ac2e6",
   "metadata": {},
   "outputs": [
    {
     "name": "stdout",
     "output_type": "stream",
     "text": [
      "<class 'pandas.core.frame.DataFrame'>\n",
      "Int64Index: 824364 entries, 0 to 1067370\n",
      "Data columns (total 10 columns):\n",
      " #   Column       Non-Null Count   Dtype         \n",
      "---  ------       --------------   -----         \n",
      " 0   Invoice      824364 non-null  object        \n",
      " 1   StockCode    824364 non-null  object        \n",
      " 2   Description  824364 non-null  object        \n",
      " 3   Quantity     824364 non-null  int64         \n",
      " 4   InvoiceDate  824364 non-null  datetime64[ns]\n",
      " 5   Price        824364 non-null  float64       \n",
      " 6   Customer ID  824364 non-null  float64       \n",
      " 7   Country      824364 non-null  object        \n",
      " 8   Quantity_RO  824364 non-null  float64       \n",
      " 9   Price_RO     824364 non-null  float64       \n",
      "dtypes: datetime64[ns](1), float64(4), int64(1), object(4)\n",
      "memory usage: 69.2+ MB\n"
     ]
    }
   ],
   "source": [
    "df.info()"
   ]
  },
  {
   "cell_type": "code",
   "execution_count": 29,
   "id": "8680a741-b61e-45df-9839-2852dbf29382",
   "metadata": {},
   "outputs": [
    {
     "data": {
      "text/html": [
       "<div>\n",
       "<style scoped>\n",
       "    .dataframe tbody tr th:only-of-type {\n",
       "        vertical-align: middle;\n",
       "    }\n",
       "\n",
       "    .dataframe tbody tr th {\n",
       "        vertical-align: top;\n",
       "    }\n",
       "\n",
       "    .dataframe thead th {\n",
       "        text-align: right;\n",
       "    }\n",
       "</style>\n",
       "<table border=\"1\" class=\"dataframe\">\n",
       "  <thead>\n",
       "    <tr style=\"text-align: right;\">\n",
       "      <th></th>\n",
       "      <th>Quantity</th>\n",
       "      <th>Price</th>\n",
       "      <th>Customer ID</th>\n",
       "      <th>Quantity_RO</th>\n",
       "      <th>Price_RO</th>\n",
       "    </tr>\n",
       "  </thead>\n",
       "  <tbody>\n",
       "    <tr>\n",
       "      <th>count</th>\n",
       "      <td>824364.000000</td>\n",
       "      <td>824364.000000</td>\n",
       "      <td>824364.000000</td>\n",
       "      <td>824364.000000</td>\n",
       "      <td>824364.000000</td>\n",
       "    </tr>\n",
       "    <tr>\n",
       "      <th>mean</th>\n",
       "      <td>12.414574</td>\n",
       "      <td>3.676800</td>\n",
       "      <td>15324.638504</td>\n",
       "      <td>7.636836</td>\n",
       "      <td>2.749455</td>\n",
       "    </tr>\n",
       "    <tr>\n",
       "      <th>std</th>\n",
       "      <td>188.976099</td>\n",
       "      <td>70.241388</td>\n",
       "      <td>1697.464450</td>\n",
       "      <td>7.622244</td>\n",
       "      <td>2.306330</td>\n",
       "    </tr>\n",
       "    <tr>\n",
       "      <th>min</th>\n",
       "      <td>-80995.000000</td>\n",
       "      <td>0.000000</td>\n",
       "      <td>12346.000000</td>\n",
       "      <td>-12.500000</td>\n",
       "      <td>0.000000</td>\n",
       "    </tr>\n",
       "    <tr>\n",
       "      <th>25%</th>\n",
       "      <td>2.000000</td>\n",
       "      <td>1.250000</td>\n",
       "      <td>13975.000000</td>\n",
       "      <td>2.000000</td>\n",
       "      <td>1.250000</td>\n",
       "    </tr>\n",
       "    <tr>\n",
       "      <th>50%</th>\n",
       "      <td>5.000000</td>\n",
       "      <td>1.950000</td>\n",
       "      <td>15255.000000</td>\n",
       "      <td>5.000000</td>\n",
       "      <td>1.950000</td>\n",
       "    </tr>\n",
       "    <tr>\n",
       "      <th>75%</th>\n",
       "      <td>12.000000</td>\n",
       "      <td>3.750000</td>\n",
       "      <td>16797.000000</td>\n",
       "      <td>12.000000</td>\n",
       "      <td>3.750000</td>\n",
       "    </tr>\n",
       "    <tr>\n",
       "      <th>max</th>\n",
       "      <td>80995.000000</td>\n",
       "      <td>38970.000000</td>\n",
       "      <td>18287.000000</td>\n",
       "      <td>23.500000</td>\n",
       "      <td>8.500000</td>\n",
       "    </tr>\n",
       "  </tbody>\n",
       "</table>\n",
       "</div>"
      ],
      "text/plain": [
       "            Quantity          Price    Customer ID    Quantity_RO  \\\n",
       "count  824364.000000  824364.000000  824364.000000  824364.000000   \n",
       "mean       12.414574       3.676800   15324.638504       7.636836   \n",
       "std       188.976099      70.241388    1697.464450       7.622244   \n",
       "min    -80995.000000       0.000000   12346.000000     -12.500000   \n",
       "25%         2.000000       1.250000   13975.000000       2.000000   \n",
       "50%         5.000000       1.950000   15255.000000       5.000000   \n",
       "75%        12.000000       3.750000   16797.000000      12.000000   \n",
       "max     80995.000000   38970.000000   18287.000000      23.500000   \n",
       "\n",
       "            Price_RO  \n",
       "count  824364.000000  \n",
       "mean        2.749455  \n",
       "std         2.306330  \n",
       "min         0.000000  \n",
       "25%         1.250000  \n",
       "50%         1.950000  \n",
       "75%         3.750000  \n",
       "max         8.500000  "
      ]
     },
     "execution_count": 29,
     "metadata": {},
     "output_type": "execute_result"
    }
   ],
   "source": [
    "df.describe()"
   ]
  },
  {
   "cell_type": "code",
   "execution_count": 30,
   "id": "92984dca-b63c-4a35-a628-4abae5ad5f9c",
   "metadata": {},
   "outputs": [],
   "source": [
    "df = df[~df['StockCode'].isin(['TEST','M'])]"
   ]
  },
  {
   "cell_type": "code",
   "execution_count": 31,
   "id": "ebcbaefe-96b9-4b2a-86e4-c4ebdaec2c11",
   "metadata": {},
   "outputs": [],
   "source": [
    "df = df.drop_duplicates(keep='first').reset_index(drop=True)"
   ]
  },
  {
   "cell_type": "code",
   "execution_count": 32,
   "id": "923e68e8-13c7-4fe0-bffb-d91d5f45edaa",
   "metadata": {},
   "outputs": [],
   "source": [
    "df.columns = df.columns.str.replace(' ','_')"
   ]
  },
  {
   "cell_type": "code",
   "execution_count": 33,
   "id": "a0e741c6-3003-4a9a-9c04-7d082d8c4d00",
   "metadata": {},
   "outputs": [],
   "source": [
    "df.Customer_ID = df.Customer_ID.astype('int64')"
   ]
  },
  {
   "cell_type": "code",
   "execution_count": 34,
   "id": "d16000d5-5e3c-4ea7-be29-ecd805e05865",
   "metadata": {},
   "outputs": [
    {
     "name": "stdout",
     "output_type": "stream",
     "text": [
      "<class 'pandas.core.frame.DataFrame'>\n",
      "RangeIndex: 796800 entries, 0 to 796799\n",
      "Data columns (total 10 columns):\n",
      " #   Column       Non-Null Count   Dtype         \n",
      "---  ------       --------------   -----         \n",
      " 0   Invoice      796800 non-null  object        \n",
      " 1   StockCode    796800 non-null  object        \n",
      " 2   Description  796800 non-null  object        \n",
      " 3   Quantity     796800 non-null  int64         \n",
      " 4   InvoiceDate  796800 non-null  datetime64[ns]\n",
      " 5   Price        796800 non-null  float64       \n",
      " 6   Customer_ID  796800 non-null  int64         \n",
      " 7   Country      796800 non-null  object        \n",
      " 8   Quantity_RO  796800 non-null  float64       \n",
      " 9   Price_RO     796800 non-null  float64       \n",
      "dtypes: datetime64[ns](1), float64(3), int64(2), object(4)\n",
      "memory usage: 60.8+ MB\n"
     ]
    }
   ],
   "source": [
    "df.info()"
   ]
  },
  {
   "cell_type": "code",
   "execution_count": 35,
   "id": "caed4142-2eb7-442d-ae0b-86f7e2a88379",
   "metadata": {},
   "outputs": [
    {
     "data": {
      "text/html": [
       "<div>\n",
       "<style scoped>\n",
       "    .dataframe tbody tr th:only-of-type {\n",
       "        vertical-align: middle;\n",
       "    }\n",
       "\n",
       "    .dataframe tbody tr th {\n",
       "        vertical-align: top;\n",
       "    }\n",
       "\n",
       "    .dataframe thead th {\n",
       "        text-align: right;\n",
       "    }\n",
       "</style>\n",
       "<table border=\"1\" class=\"dataframe\">\n",
       "  <thead>\n",
       "    <tr style=\"text-align: right;\">\n",
       "      <th></th>\n",
       "      <th>Invoice</th>\n",
       "      <th>StockCode</th>\n",
       "      <th>Description</th>\n",
       "      <th>Quantity</th>\n",
       "      <th>InvoiceDate</th>\n",
       "      <th>Price</th>\n",
       "      <th>Customer_ID</th>\n",
       "      <th>Country</th>\n",
       "      <th>Quantity_RO</th>\n",
       "      <th>Price_RO</th>\n",
       "    </tr>\n",
       "  </thead>\n",
       "  <tbody>\n",
       "  </tbody>\n",
       "</table>\n",
       "</div>"
      ],
      "text/plain": [
       "Empty DataFrame\n",
       "Columns: [Invoice, StockCode, Description, Quantity, InvoiceDate, Price, Customer_ID, Country, Quantity_RO, Price_RO]\n",
       "Index: []"
      ]
     },
     "execution_count": 35,
     "metadata": {},
     "output_type": "execute_result"
    }
   ],
   "source": [
    "df[df['Price']<0]"
   ]
  },
  {
   "cell_type": "code",
   "execution_count": 36,
   "id": "4a62cc88-2ba9-4be9-8797-f24d160b7cb0",
   "metadata": {},
   "outputs": [
    {
     "data": {
      "text/html": [
       "<div>\n",
       "<style scoped>\n",
       "    .dataframe tbody tr th:only-of-type {\n",
       "        vertical-align: middle;\n",
       "    }\n",
       "\n",
       "    .dataframe tbody tr th {\n",
       "        vertical-align: top;\n",
       "    }\n",
       "\n",
       "    .dataframe thead th {\n",
       "        text-align: right;\n",
       "    }\n",
       "</style>\n",
       "<table border=\"1\" class=\"dataframe\">\n",
       "  <thead>\n",
       "    <tr style=\"text-align: right;\">\n",
       "      <th></th>\n",
       "      <th>Invoice</th>\n",
       "      <th>StockCode</th>\n",
       "      <th>Description</th>\n",
       "      <th>Quantity</th>\n",
       "      <th>InvoiceDate</th>\n",
       "      <th>Price</th>\n",
       "      <th>Customer_ID</th>\n",
       "      <th>Country</th>\n",
       "      <th>Quantity_RO</th>\n",
       "      <th>Price_RO</th>\n",
       "    </tr>\n",
       "  </thead>\n",
       "  <tbody>\n",
       "    <tr>\n",
       "      <th>178</th>\n",
       "      <td>C489449</td>\n",
       "      <td>22087</td>\n",
       "      <td>PAPER BUNTING WHITE LACE</td>\n",
       "      <td>-12</td>\n",
       "      <td>2009-12-01 10:33:00</td>\n",
       "      <td>2.95</td>\n",
       "      <td>16321</td>\n",
       "      <td>Australia</td>\n",
       "      <td>-12.0</td>\n",
       "      <td>2.95</td>\n",
       "    </tr>\n",
       "    <tr>\n",
       "      <th>179</th>\n",
       "      <td>C489449</td>\n",
       "      <td>85206A</td>\n",
       "      <td>CREAM FELT EASTER EGG BASKET</td>\n",
       "      <td>-6</td>\n",
       "      <td>2009-12-01 10:33:00</td>\n",
       "      <td>1.65</td>\n",
       "      <td>16321</td>\n",
       "      <td>Australia</td>\n",
       "      <td>-6.0</td>\n",
       "      <td>1.65</td>\n",
       "    </tr>\n",
       "    <tr>\n",
       "      <th>180</th>\n",
       "      <td>C489449</td>\n",
       "      <td>21895</td>\n",
       "      <td>POTTING SHED SOW 'N' GROW SET</td>\n",
       "      <td>-4</td>\n",
       "      <td>2009-12-01 10:33:00</td>\n",
       "      <td>4.25</td>\n",
       "      <td>16321</td>\n",
       "      <td>Australia</td>\n",
       "      <td>-4.0</td>\n",
       "      <td>4.25</td>\n",
       "    </tr>\n",
       "    <tr>\n",
       "      <th>181</th>\n",
       "      <td>C489449</td>\n",
       "      <td>21896</td>\n",
       "      <td>POTTING SHED TWINE</td>\n",
       "      <td>-6</td>\n",
       "      <td>2009-12-01 10:33:00</td>\n",
       "      <td>2.10</td>\n",
       "      <td>16321</td>\n",
       "      <td>Australia</td>\n",
       "      <td>-6.0</td>\n",
       "      <td>2.10</td>\n",
       "    </tr>\n",
       "    <tr>\n",
       "      <th>182</th>\n",
       "      <td>C489449</td>\n",
       "      <td>22083</td>\n",
       "      <td>PAPER CHAIN KIT RETRO SPOT</td>\n",
       "      <td>-12</td>\n",
       "      <td>2009-12-01 10:33:00</td>\n",
       "      <td>2.95</td>\n",
       "      <td>16321</td>\n",
       "      <td>Australia</td>\n",
       "      <td>-12.0</td>\n",
       "      <td>2.95</td>\n",
       "    </tr>\n",
       "    <tr>\n",
       "      <th>...</th>\n",
       "      <td>...</td>\n",
       "      <td>...</td>\n",
       "      <td>...</td>\n",
       "      <td>...</td>\n",
       "      <td>...</td>\n",
       "      <td>...</td>\n",
       "      <td>...</td>\n",
       "      <td>...</td>\n",
       "      <td>...</td>\n",
       "      <td>...</td>\n",
       "    </tr>\n",
       "    <tr>\n",
       "      <th>796354</th>\n",
       "      <td>C581490</td>\n",
       "      <td>22178</td>\n",
       "      <td>VICTORIAN GLASS HANGING T-LIGHT</td>\n",
       "      <td>-12</td>\n",
       "      <td>2011-12-09 09:57:00</td>\n",
       "      <td>1.95</td>\n",
       "      <td>14397</td>\n",
       "      <td>United Kingdom</td>\n",
       "      <td>-12.0</td>\n",
       "      <td>1.95</td>\n",
       "    </tr>\n",
       "    <tr>\n",
       "      <th>796355</th>\n",
       "      <td>C581490</td>\n",
       "      <td>23144</td>\n",
       "      <td>ZINC T-LIGHT HOLDER STARS SMALL</td>\n",
       "      <td>-11</td>\n",
       "      <td>2011-12-09 09:57:00</td>\n",
       "      <td>0.83</td>\n",
       "      <td>14397</td>\n",
       "      <td>United Kingdom</td>\n",
       "      <td>-11.0</td>\n",
       "      <td>0.83</td>\n",
       "    </tr>\n",
       "    <tr>\n",
       "      <th>796605</th>\n",
       "      <td>C581568</td>\n",
       "      <td>21258</td>\n",
       "      <td>VICTORIAN SEWING BOX LARGE</td>\n",
       "      <td>-5</td>\n",
       "      <td>2011-12-09 11:57:00</td>\n",
       "      <td>10.95</td>\n",
       "      <td>15311</td>\n",
       "      <td>United Kingdom</td>\n",
       "      <td>-5.0</td>\n",
       "      <td>8.50</td>\n",
       "    </tr>\n",
       "    <tr>\n",
       "      <th>796606</th>\n",
       "      <td>C581569</td>\n",
       "      <td>84978</td>\n",
       "      <td>HANGING HEART JAR T-LIGHT HOLDER</td>\n",
       "      <td>-1</td>\n",
       "      <td>2011-12-09 11:58:00</td>\n",
       "      <td>1.25</td>\n",
       "      <td>17315</td>\n",
       "      <td>United Kingdom</td>\n",
       "      <td>-1.0</td>\n",
       "      <td>1.25</td>\n",
       "    </tr>\n",
       "    <tr>\n",
       "      <th>796607</th>\n",
       "      <td>C581569</td>\n",
       "      <td>20979</td>\n",
       "      <td>36 PENCILS TUBE RED RETROSPOT</td>\n",
       "      <td>-5</td>\n",
       "      <td>2011-12-09 11:58:00</td>\n",
       "      <td>1.25</td>\n",
       "      <td>17315</td>\n",
       "      <td>United Kingdom</td>\n",
       "      <td>-5.0</td>\n",
       "      <td>1.25</td>\n",
       "    </tr>\n",
       "  </tbody>\n",
       "</table>\n",
       "<p>17993 rows × 10 columns</p>\n",
       "</div>"
      ],
      "text/plain": [
       "        Invoice StockCode                       Description  Quantity  \\\n",
       "178     C489449     22087          PAPER BUNTING WHITE LACE       -12   \n",
       "179     C489449    85206A      CREAM FELT EASTER EGG BASKET        -6   \n",
       "180     C489449     21895     POTTING SHED SOW 'N' GROW SET        -4   \n",
       "181     C489449     21896                POTTING SHED TWINE        -6   \n",
       "182     C489449     22083        PAPER CHAIN KIT RETRO SPOT       -12   \n",
       "...         ...       ...                               ...       ...   \n",
       "796354  C581490     22178   VICTORIAN GLASS HANGING T-LIGHT       -12   \n",
       "796355  C581490     23144   ZINC T-LIGHT HOLDER STARS SMALL       -11   \n",
       "796605  C581568     21258        VICTORIAN SEWING BOX LARGE        -5   \n",
       "796606  C581569     84978  HANGING HEART JAR T-LIGHT HOLDER        -1   \n",
       "796607  C581569     20979     36 PENCILS TUBE RED RETROSPOT        -5   \n",
       "\n",
       "               InvoiceDate  Price  Customer_ID         Country  Quantity_RO  \\\n",
       "178    2009-12-01 10:33:00   2.95        16321       Australia        -12.0   \n",
       "179    2009-12-01 10:33:00   1.65        16321       Australia         -6.0   \n",
       "180    2009-12-01 10:33:00   4.25        16321       Australia         -4.0   \n",
       "181    2009-12-01 10:33:00   2.10        16321       Australia         -6.0   \n",
       "182    2009-12-01 10:33:00   2.95        16321       Australia        -12.0   \n",
       "...                    ...    ...          ...             ...          ...   \n",
       "796354 2011-12-09 09:57:00   1.95        14397  United Kingdom        -12.0   \n",
       "796355 2011-12-09 09:57:00   0.83        14397  United Kingdom        -11.0   \n",
       "796605 2011-12-09 11:57:00  10.95        15311  United Kingdom         -5.0   \n",
       "796606 2011-12-09 11:58:00   1.25        17315  United Kingdom         -1.0   \n",
       "796607 2011-12-09 11:58:00   1.25        17315  United Kingdom         -5.0   \n",
       "\n",
       "        Price_RO  \n",
       "178         2.95  \n",
       "179         1.65  \n",
       "180         4.25  \n",
       "181         2.10  \n",
       "182         2.95  \n",
       "...          ...  \n",
       "796354      1.95  \n",
       "796355      0.83  \n",
       "796605      8.50  \n",
       "796606      1.25  \n",
       "796607      1.25  \n",
       "\n",
       "[17993 rows x 10 columns]"
      ]
     },
     "execution_count": 36,
     "metadata": {},
     "output_type": "execute_result"
    }
   ],
   "source": [
    "df[df['Quantity']<0]"
   ]
  },
  {
   "cell_type": "code",
   "execution_count": 37,
   "id": "61614f7c-ed37-4a82-ba27-793eaf8a9874",
   "metadata": {},
   "outputs": [],
   "source": [
    "df = df.drop(df[df.Quantity < 0].index)"
   ]
  },
  {
   "cell_type": "code",
   "execution_count": 38,
   "id": "1a0372e0-20f0-4806-aea6-88da32bdae73",
   "metadata": {},
   "outputs": [
    {
     "data": {
      "text/html": [
       "<div>\n",
       "<style scoped>\n",
       "    .dataframe tbody tr th:only-of-type {\n",
       "        vertical-align: middle;\n",
       "    }\n",
       "\n",
       "    .dataframe tbody tr th {\n",
       "        vertical-align: top;\n",
       "    }\n",
       "\n",
       "    .dataframe thead th {\n",
       "        text-align: right;\n",
       "    }\n",
       "</style>\n",
       "<table border=\"1\" class=\"dataframe\">\n",
       "  <thead>\n",
       "    <tr style=\"text-align: right;\">\n",
       "      <th></th>\n",
       "      <th>Quantity</th>\n",
       "      <th>Price</th>\n",
       "      <th>Customer_ID</th>\n",
       "      <th>Quantity_RO</th>\n",
       "      <th>Price_RO</th>\n",
       "    </tr>\n",
       "  </thead>\n",
       "  <tbody>\n",
       "    <tr>\n",
       "      <th>count</th>\n",
       "      <td>778807.000000</td>\n",
       "      <td>778807.000000</td>\n",
       "      <td>778807.000000</td>\n",
       "      <td>778807.000000</td>\n",
       "      <td>778807.000000</td>\n",
       "    </tr>\n",
       "    <tr>\n",
       "      <th>mean</th>\n",
       "      <td>13.506959</td>\n",
       "      <td>3.033230</td>\n",
       "      <td>15320.186808</td>\n",
       "      <td>8.011227</td>\n",
       "      <td>2.725074</td>\n",
       "    </tr>\n",
       "    <tr>\n",
       "      <th>std</th>\n",
       "      <td>146.580138</td>\n",
       "      <td>11.279049</td>\n",
       "      <td>1695.659254</td>\n",
       "      <td>7.481025</td>\n",
       "      <td>2.290553</td>\n",
       "    </tr>\n",
       "    <tr>\n",
       "      <th>min</th>\n",
       "      <td>1.000000</td>\n",
       "      <td>0.000000</td>\n",
       "      <td>12346.000000</td>\n",
       "      <td>1.000000</td>\n",
       "      <td>0.000000</td>\n",
       "    </tr>\n",
       "    <tr>\n",
       "      <th>25%</th>\n",
       "      <td>2.000000</td>\n",
       "      <td>1.250000</td>\n",
       "      <td>13971.000000</td>\n",
       "      <td>2.000000</td>\n",
       "      <td>1.250000</td>\n",
       "    </tr>\n",
       "    <tr>\n",
       "      <th>50%</th>\n",
       "      <td>6.000000</td>\n",
       "      <td>1.950000</td>\n",
       "      <td>15246.000000</td>\n",
       "      <td>6.000000</td>\n",
       "      <td>1.950000</td>\n",
       "    </tr>\n",
       "    <tr>\n",
       "      <th>75%</th>\n",
       "      <td>12.000000</td>\n",
       "      <td>3.750000</td>\n",
       "      <td>16794.000000</td>\n",
       "      <td>12.000000</td>\n",
       "      <td>3.750000</td>\n",
       "    </tr>\n",
       "    <tr>\n",
       "      <th>max</th>\n",
       "      <td>80995.000000</td>\n",
       "      <td>8142.750000</td>\n",
       "      <td>18287.000000</td>\n",
       "      <td>23.500000</td>\n",
       "      <td>8.500000</td>\n",
       "    </tr>\n",
       "  </tbody>\n",
       "</table>\n",
       "</div>"
      ],
      "text/plain": [
       "            Quantity          Price    Customer_ID    Quantity_RO  \\\n",
       "count  778807.000000  778807.000000  778807.000000  778807.000000   \n",
       "mean       13.506959       3.033230   15320.186808       8.011227   \n",
       "std       146.580138      11.279049    1695.659254       7.481025   \n",
       "min         1.000000       0.000000   12346.000000       1.000000   \n",
       "25%         2.000000       1.250000   13971.000000       2.000000   \n",
       "50%         6.000000       1.950000   15246.000000       6.000000   \n",
       "75%        12.000000       3.750000   16794.000000      12.000000   \n",
       "max     80995.000000    8142.750000   18287.000000      23.500000   \n",
       "\n",
       "            Price_RO  \n",
       "count  778807.000000  \n",
       "mean        2.725074  \n",
       "std         2.290553  \n",
       "min         0.000000  \n",
       "25%         1.250000  \n",
       "50%         1.950000  \n",
       "75%         3.750000  \n",
       "max         8.500000  "
      ]
     },
     "execution_count": 38,
     "metadata": {},
     "output_type": "execute_result"
    }
   ],
   "source": [
    "df.describe()"
   ]
  },
  {
   "cell_type": "code",
   "execution_count": 40,
   "id": "9528a512-c174-41c1-9317-4f0daca54ddd",
   "metadata": {},
   "outputs": [
    {
     "name": "stdout",
     "output_type": "stream",
     "text": [
      "<class 'pandas.core.frame.DataFrame'>\n",
      "Int64Index: 778807 entries, 0 to 796799\n",
      "Data columns (total 10 columns):\n",
      " #   Column       Non-Null Count   Dtype         \n",
      "---  ------       --------------   -----         \n",
      " 0   Invoice      778807 non-null  object        \n",
      " 1   StockCode    778807 non-null  object        \n",
      " 2   Description  778807 non-null  object        \n",
      " 3   Quantity     778807 non-null  int64         \n",
      " 4   InvoiceDate  778807 non-null  datetime64[ns]\n",
      " 5   Price        778807 non-null  float64       \n",
      " 6   Customer_ID  778807 non-null  int64         \n",
      " 7   Country      778807 non-null  object        \n",
      " 8   Quantity_RO  778807 non-null  float64       \n",
      " 9   Price_RO     778807 non-null  float64       \n",
      "dtypes: datetime64[ns](1), float64(3), int64(2), object(4)\n",
      "memory usage: 65.4+ MB\n"
     ]
    }
   ],
   "source": [
    "df.info()"
   ]
  },
  {
   "cell_type": "markdown",
   "id": "a9d2b62a-6047-4ef2-84e5-558b61452988",
   "metadata": {},
   "source": [
    "Feature Creation"
   ]
  },
  {
   "cell_type": "code",
   "execution_count": 46,
   "id": "0150b5b4-a6fb-40bf-9b10-76272acb34f6",
   "metadata": {},
   "outputs": [
    {
     "data": {
      "text/html": [
       "<div>\n",
       "<style scoped>\n",
       "    .dataframe tbody tr th:only-of-type {\n",
       "        vertical-align: middle;\n",
       "    }\n",
       "\n",
       "    .dataframe tbody tr th {\n",
       "        vertical-align: top;\n",
       "    }\n",
       "\n",
       "    .dataframe thead th {\n",
       "        text-align: right;\n",
       "    }\n",
       "</style>\n",
       "<table border=\"1\" class=\"dataframe\">\n",
       "  <thead>\n",
       "    <tr style=\"text-align: right;\">\n",
       "      <th></th>\n",
       "      <th>Invoice</th>\n",
       "      <th>StockCode</th>\n",
       "      <th>Description</th>\n",
       "      <th>InvoiceDate</th>\n",
       "      <th>Customer_ID</th>\n",
       "      <th>Country</th>\n",
       "      <th>Quantity_RO</th>\n",
       "      <th>Price_RO</th>\n",
       "    </tr>\n",
       "  </thead>\n",
       "  <tbody>\n",
       "    <tr>\n",
       "      <th>0</th>\n",
       "      <td>489434</td>\n",
       "      <td>85048</td>\n",
       "      <td>15CM CHRISTMAS GLASS BALL 20 LIGHTS</td>\n",
       "      <td>2009-12-01 07:45:00</td>\n",
       "      <td>13085</td>\n",
       "      <td>United Kingdom</td>\n",
       "      <td>12.0</td>\n",
       "      <td>6.95</td>\n",
       "    </tr>\n",
       "    <tr>\n",
       "      <th>1</th>\n",
       "      <td>489434</td>\n",
       "      <td>79323P</td>\n",
       "      <td>PINK CHERRY LIGHTS</td>\n",
       "      <td>2009-12-01 07:45:00</td>\n",
       "      <td>13085</td>\n",
       "      <td>United Kingdom</td>\n",
       "      <td>12.0</td>\n",
       "      <td>6.75</td>\n",
       "    </tr>\n",
       "    <tr>\n",
       "      <th>2</th>\n",
       "      <td>489434</td>\n",
       "      <td>79323W</td>\n",
       "      <td>WHITE CHERRY LIGHTS</td>\n",
       "      <td>2009-12-01 07:45:00</td>\n",
       "      <td>13085</td>\n",
       "      <td>United Kingdom</td>\n",
       "      <td>12.0</td>\n",
       "      <td>6.75</td>\n",
       "    </tr>\n",
       "    <tr>\n",
       "      <th>3</th>\n",
       "      <td>489434</td>\n",
       "      <td>22041</td>\n",
       "      <td>RECORD FRAME 7\" SINGLE SIZE</td>\n",
       "      <td>2009-12-01 07:45:00</td>\n",
       "      <td>13085</td>\n",
       "      <td>United Kingdom</td>\n",
       "      <td>23.5</td>\n",
       "      <td>2.10</td>\n",
       "    </tr>\n",
       "    <tr>\n",
       "      <th>4</th>\n",
       "      <td>489434</td>\n",
       "      <td>21232</td>\n",
       "      <td>STRAWBERRY CERAMIC TRINKET BOX</td>\n",
       "      <td>2009-12-01 07:45:00</td>\n",
       "      <td>13085</td>\n",
       "      <td>United Kingdom</td>\n",
       "      <td>23.5</td>\n",
       "      <td>1.25</td>\n",
       "    </tr>\n",
       "  </tbody>\n",
       "</table>\n",
       "</div>"
      ],
      "text/plain": [
       "  Invoice StockCode                          Description         InvoiceDate  \\\n",
       "0  489434     85048  15CM CHRISTMAS GLASS BALL 20 LIGHTS 2009-12-01 07:45:00   \n",
       "1  489434    79323P                   PINK CHERRY LIGHTS 2009-12-01 07:45:00   \n",
       "2  489434    79323W                  WHITE CHERRY LIGHTS 2009-12-01 07:45:00   \n",
       "3  489434     22041         RECORD FRAME 7\" SINGLE SIZE  2009-12-01 07:45:00   \n",
       "4  489434     21232       STRAWBERRY CERAMIC TRINKET BOX 2009-12-01 07:45:00   \n",
       "\n",
       "   Customer_ID         Country  Quantity_RO  Price_RO  \n",
       "0        13085  United Kingdom         12.0      6.95  \n",
       "1        13085  United Kingdom         12.0      6.75  \n",
       "2        13085  United Kingdom         12.0      6.75  \n",
       "3        13085  United Kingdom         23.5      2.10  \n",
       "4        13085  United Kingdom         23.5      1.25  "
      ]
     },
     "execution_count": 46,
     "metadata": {},
     "output_type": "execute_result"
    }
   ],
   "source": [
    "df.head()\n"
   ]
  },
  {
   "cell_type": "code",
   "execution_count": 47,
   "id": "bc569816-3101-4544-bd24-31e60b586e0c",
   "metadata": {},
   "outputs": [],
   "source": [
    "df['StockValue'] = df['Quantity_RO']*df['Price_RO']"
   ]
  },
  {
   "cell_type": "code",
   "execution_count": 49,
   "id": "1f78e25e-e825-4ab7-8d69-d99e716e86a6",
   "metadata": {},
   "outputs": [
    {
     "data": {
      "text/html": [
       "<div>\n",
       "<style scoped>\n",
       "    .dataframe tbody tr th:only-of-type {\n",
       "        vertical-align: middle;\n",
       "    }\n",
       "\n",
       "    .dataframe tbody tr th {\n",
       "        vertical-align: top;\n",
       "    }\n",
       "\n",
       "    .dataframe thead th {\n",
       "        text-align: right;\n",
       "    }\n",
       "</style>\n",
       "<table border=\"1\" class=\"dataframe\">\n",
       "  <thead>\n",
       "    <tr style=\"text-align: right;\">\n",
       "      <th></th>\n",
       "      <th>Invoice</th>\n",
       "      <th>StockCode</th>\n",
       "      <th>Description</th>\n",
       "      <th>InvoiceDate</th>\n",
       "      <th>Customer_ID</th>\n",
       "      <th>Country</th>\n",
       "      <th>Quantity_RO</th>\n",
       "      <th>Price_RO</th>\n",
       "      <th>StockValue</th>\n",
       "    </tr>\n",
       "  </thead>\n",
       "  <tbody>\n",
       "    <tr>\n",
       "      <th>0</th>\n",
       "      <td>489434</td>\n",
       "      <td>85048</td>\n",
       "      <td>15CM CHRISTMAS GLASS BALL 20 LIGHTS</td>\n",
       "      <td>2009-12-01 07:45:00</td>\n",
       "      <td>13085</td>\n",
       "      <td>United Kingdom</td>\n",
       "      <td>12.0</td>\n",
       "      <td>6.95</td>\n",
       "      <td>83.400</td>\n",
       "    </tr>\n",
       "    <tr>\n",
       "      <th>1</th>\n",
       "      <td>489434</td>\n",
       "      <td>79323P</td>\n",
       "      <td>PINK CHERRY LIGHTS</td>\n",
       "      <td>2009-12-01 07:45:00</td>\n",
       "      <td>13085</td>\n",
       "      <td>United Kingdom</td>\n",
       "      <td>12.0</td>\n",
       "      <td>6.75</td>\n",
       "      <td>81.000</td>\n",
       "    </tr>\n",
       "    <tr>\n",
       "      <th>2</th>\n",
       "      <td>489434</td>\n",
       "      <td>79323W</td>\n",
       "      <td>WHITE CHERRY LIGHTS</td>\n",
       "      <td>2009-12-01 07:45:00</td>\n",
       "      <td>13085</td>\n",
       "      <td>United Kingdom</td>\n",
       "      <td>12.0</td>\n",
       "      <td>6.75</td>\n",
       "      <td>81.000</td>\n",
       "    </tr>\n",
       "    <tr>\n",
       "      <th>3</th>\n",
       "      <td>489434</td>\n",
       "      <td>22041</td>\n",
       "      <td>RECORD FRAME 7\" SINGLE SIZE</td>\n",
       "      <td>2009-12-01 07:45:00</td>\n",
       "      <td>13085</td>\n",
       "      <td>United Kingdom</td>\n",
       "      <td>23.5</td>\n",
       "      <td>2.10</td>\n",
       "      <td>49.350</td>\n",
       "    </tr>\n",
       "    <tr>\n",
       "      <th>4</th>\n",
       "      <td>489434</td>\n",
       "      <td>21232</td>\n",
       "      <td>STRAWBERRY CERAMIC TRINKET BOX</td>\n",
       "      <td>2009-12-01 07:45:00</td>\n",
       "      <td>13085</td>\n",
       "      <td>United Kingdom</td>\n",
       "      <td>23.5</td>\n",
       "      <td>1.25</td>\n",
       "      <td>29.375</td>\n",
       "    </tr>\n",
       "    <tr>\n",
       "      <th>...</th>\n",
       "      <td>...</td>\n",
       "      <td>...</td>\n",
       "      <td>...</td>\n",
       "      <td>...</td>\n",
       "      <td>...</td>\n",
       "      <td>...</td>\n",
       "      <td>...</td>\n",
       "      <td>...</td>\n",
       "      <td>...</td>\n",
       "    </tr>\n",
       "    <tr>\n",
       "      <th>796795</th>\n",
       "      <td>581587</td>\n",
       "      <td>22899</td>\n",
       "      <td>CHILDREN'S APRON DOLLY GIRL</td>\n",
       "      <td>2011-12-09 12:50:00</td>\n",
       "      <td>12680</td>\n",
       "      <td>France</td>\n",
       "      <td>6.0</td>\n",
       "      <td>2.10</td>\n",
       "      <td>12.600</td>\n",
       "    </tr>\n",
       "    <tr>\n",
       "      <th>796796</th>\n",
       "      <td>581587</td>\n",
       "      <td>23254</td>\n",
       "      <td>CHILDRENS CUTLERY DOLLY GIRL</td>\n",
       "      <td>2011-12-09 12:50:00</td>\n",
       "      <td>12680</td>\n",
       "      <td>France</td>\n",
       "      <td>4.0</td>\n",
       "      <td>4.15</td>\n",
       "      <td>16.600</td>\n",
       "    </tr>\n",
       "    <tr>\n",
       "      <th>796797</th>\n",
       "      <td>581587</td>\n",
       "      <td>23255</td>\n",
       "      <td>CHILDRENS CUTLERY CIRCUS PARADE</td>\n",
       "      <td>2011-12-09 12:50:00</td>\n",
       "      <td>12680</td>\n",
       "      <td>France</td>\n",
       "      <td>4.0</td>\n",
       "      <td>4.15</td>\n",
       "      <td>16.600</td>\n",
       "    </tr>\n",
       "    <tr>\n",
       "      <th>796798</th>\n",
       "      <td>581587</td>\n",
       "      <td>22138</td>\n",
       "      <td>BAKING SET 9 PIECE RETROSPOT</td>\n",
       "      <td>2011-12-09 12:50:00</td>\n",
       "      <td>12680</td>\n",
       "      <td>France</td>\n",
       "      <td>3.0</td>\n",
       "      <td>4.95</td>\n",
       "      <td>14.850</td>\n",
       "    </tr>\n",
       "    <tr>\n",
       "      <th>796799</th>\n",
       "      <td>581587</td>\n",
       "      <td>POST</td>\n",
       "      <td>POSTAGE</td>\n",
       "      <td>2011-12-09 12:50:00</td>\n",
       "      <td>12680</td>\n",
       "      <td>France</td>\n",
       "      <td>1.0</td>\n",
       "      <td>8.50</td>\n",
       "      <td>8.500</td>\n",
       "    </tr>\n",
       "  </tbody>\n",
       "</table>\n",
       "<p>778807 rows × 9 columns</p>\n",
       "</div>"
      ],
      "text/plain": [
       "       Invoice StockCode                          Description  \\\n",
       "0       489434     85048  15CM CHRISTMAS GLASS BALL 20 LIGHTS   \n",
       "1       489434    79323P                   PINK CHERRY LIGHTS   \n",
       "2       489434    79323W                  WHITE CHERRY LIGHTS   \n",
       "3       489434     22041         RECORD FRAME 7\" SINGLE SIZE    \n",
       "4       489434     21232       STRAWBERRY CERAMIC TRINKET BOX   \n",
       "...        ...       ...                                  ...   \n",
       "796795  581587     22899         CHILDREN'S APRON DOLLY GIRL    \n",
       "796796  581587     23254        CHILDRENS CUTLERY DOLLY GIRL    \n",
       "796797  581587     23255      CHILDRENS CUTLERY CIRCUS PARADE   \n",
       "796798  581587     22138        BAKING SET 9 PIECE RETROSPOT    \n",
       "796799  581587      POST                              POSTAGE   \n",
       "\n",
       "               InvoiceDate  Customer_ID         Country  Quantity_RO  \\\n",
       "0      2009-12-01 07:45:00        13085  United Kingdom         12.0   \n",
       "1      2009-12-01 07:45:00        13085  United Kingdom         12.0   \n",
       "2      2009-12-01 07:45:00        13085  United Kingdom         12.0   \n",
       "3      2009-12-01 07:45:00        13085  United Kingdom         23.5   \n",
       "4      2009-12-01 07:45:00        13085  United Kingdom         23.5   \n",
       "...                    ...          ...             ...          ...   \n",
       "796795 2011-12-09 12:50:00        12680          France          6.0   \n",
       "796796 2011-12-09 12:50:00        12680          France          4.0   \n",
       "796797 2011-12-09 12:50:00        12680          France          4.0   \n",
       "796798 2011-12-09 12:50:00        12680          France          3.0   \n",
       "796799 2011-12-09 12:50:00        12680          France          1.0   \n",
       "\n",
       "        Price_RO  StockValue  \n",
       "0           6.95      83.400  \n",
       "1           6.75      81.000  \n",
       "2           6.75      81.000  \n",
       "3           2.10      49.350  \n",
       "4           1.25      29.375  \n",
       "...          ...         ...  \n",
       "796795      2.10      12.600  \n",
       "796796      4.15      16.600  \n",
       "796797      4.15      16.600  \n",
       "796798      4.95      14.850  \n",
       "796799      8.50       8.500  \n",
       "\n",
       "[778807 rows x 9 columns]"
      ]
     },
     "execution_count": 49,
     "metadata": {},
     "output_type": "execute_result"
    }
   ],
   "source": [
    "df"
   ]
  },
  {
   "cell_type": "code",
   "execution_count": 51,
   "id": "54d0edf5-c7fe-43da-b7b9-5a076dff536b",
   "metadata": {},
   "outputs": [],
   "source": [
    "m = df.groupby('Customer_ID')['StockValue'].sum()\n",
    "m = pd.DataFrame(m).reset_index()"
   ]
  },
  {
   "cell_type": "code",
   "execution_count": 52,
   "id": "aca33649-e367-4d08-ac63-77b93b81a6b7",
   "metadata": {},
   "outputs": [
    {
     "data": {
      "text/html": [
       "<div>\n",
       "<style scoped>\n",
       "    .dataframe tbody tr th:only-of-type {\n",
       "        vertical-align: middle;\n",
       "    }\n",
       "\n",
       "    .dataframe tbody tr th {\n",
       "        vertical-align: top;\n",
       "    }\n",
       "\n",
       "    .dataframe thead th {\n",
       "        text-align: right;\n",
       "    }\n",
       "</style>\n",
       "<table border=\"1\" class=\"dataframe\">\n",
       "  <thead>\n",
       "    <tr style=\"text-align: right;\">\n",
       "      <th></th>\n",
       "      <th>Customer_ID</th>\n",
       "      <th>StockValue</th>\n",
       "    </tr>\n",
       "  </thead>\n",
       "  <tbody>\n",
       "    <tr>\n",
       "      <th>0</th>\n",
       "      <td>12346</td>\n",
       "      <td>397.300</td>\n",
       "    </tr>\n",
       "    <tr>\n",
       "      <th>1</th>\n",
       "      <td>12347</td>\n",
       "      <td>4445.300</td>\n",
       "    </tr>\n",
       "    <tr>\n",
       "      <th>2</th>\n",
       "      <td>12348</td>\n",
       "      <td>732.850</td>\n",
       "    </tr>\n",
       "    <tr>\n",
       "      <th>3</th>\n",
       "      <td>12349</td>\n",
       "      <td>3393.565</td>\n",
       "    </tr>\n",
       "    <tr>\n",
       "      <th>4</th>\n",
       "      <td>12350</td>\n",
       "      <td>302.475</td>\n",
       "    </tr>\n",
       "    <tr>\n",
       "      <th>...</th>\n",
       "      <td>...</td>\n",
       "      <td>...</td>\n",
       "    </tr>\n",
       "    <tr>\n",
       "      <th>5861</th>\n",
       "      <td>18283</td>\n",
       "      <td>2638.550</td>\n",
       "    </tr>\n",
       "    <tr>\n",
       "      <th>5862</th>\n",
       "      <td>18284</td>\n",
       "      <td>363.440</td>\n",
       "    </tr>\n",
       "    <tr>\n",
       "      <th>5863</th>\n",
       "      <td>18285</td>\n",
       "      <td>228.525</td>\n",
       "    </tr>\n",
       "    <tr>\n",
       "      <th>5864</th>\n",
       "      <td>18286</td>\n",
       "      <td>1169.345</td>\n",
       "    </tr>\n",
       "    <tr>\n",
       "      <th>5865</th>\n",
       "      <td>18287</td>\n",
       "      <td>3258.375</td>\n",
       "    </tr>\n",
       "  </tbody>\n",
       "</table>\n",
       "<p>5866 rows × 2 columns</p>\n",
       "</div>"
      ],
      "text/plain": [
       "      Customer_ID  StockValue\n",
       "0           12346     397.300\n",
       "1           12347    4445.300\n",
       "2           12348     732.850\n",
       "3           12349    3393.565\n",
       "4           12350     302.475\n",
       "...           ...         ...\n",
       "5861        18283    2638.550\n",
       "5862        18284     363.440\n",
       "5863        18285     228.525\n",
       "5864        18286    1169.345\n",
       "5865        18287    3258.375\n",
       "\n",
       "[5866 rows x 2 columns]"
      ]
     },
     "execution_count": 52,
     "metadata": {},
     "output_type": "execute_result"
    }
   ],
   "source": [
    "m"
   ]
  },
  {
   "cell_type": "code",
   "execution_count": 53,
   "id": "16631dfb-8949-45d3-aaeb-a9f7e59d2918",
   "metadata": {},
   "outputs": [],
   "source": [
    "freq = df.groupby('Customer_ID')['InvoiceDate'].count()\n",
    "f = pd.DataFrame(freq).reset_index()"
   ]
  },
  {
   "cell_type": "code",
   "execution_count": 54,
   "id": "05c3f61e-13ab-458d-aec1-35132632953a",
   "metadata": {},
   "outputs": [
    {
     "data": {
      "text/html": [
       "<div>\n",
       "<style scoped>\n",
       "    .dataframe tbody tr th:only-of-type {\n",
       "        vertical-align: middle;\n",
       "    }\n",
       "\n",
       "    .dataframe tbody tr th {\n",
       "        vertical-align: top;\n",
       "    }\n",
       "\n",
       "    .dataframe thead th {\n",
       "        text-align: right;\n",
       "    }\n",
       "</style>\n",
       "<table border=\"1\" class=\"dataframe\">\n",
       "  <thead>\n",
       "    <tr style=\"text-align: right;\">\n",
       "      <th></th>\n",
       "      <th>Customer_ID</th>\n",
       "      <th>InvoiceDate</th>\n",
       "    </tr>\n",
       "  </thead>\n",
       "  <tbody>\n",
       "    <tr>\n",
       "      <th>0</th>\n",
       "      <td>12346</td>\n",
       "      <td>34</td>\n",
       "    </tr>\n",
       "    <tr>\n",
       "      <th>1</th>\n",
       "      <td>12347</td>\n",
       "      <td>222</td>\n",
       "    </tr>\n",
       "    <tr>\n",
       "      <th>2</th>\n",
       "      <td>12348</td>\n",
       "      <td>51</td>\n",
       "    </tr>\n",
       "    <tr>\n",
       "      <th>3</th>\n",
       "      <td>12349</td>\n",
       "      <td>175</td>\n",
       "    </tr>\n",
       "    <tr>\n",
       "      <th>4</th>\n",
       "      <td>12350</td>\n",
       "      <td>17</td>\n",
       "    </tr>\n",
       "    <tr>\n",
       "      <th>...</th>\n",
       "      <td>...</td>\n",
       "      <td>...</td>\n",
       "    </tr>\n",
       "    <tr>\n",
       "      <th>5861</th>\n",
       "      <td>18283</td>\n",
       "      <td>936</td>\n",
       "    </tr>\n",
       "    <tr>\n",
       "      <th>5862</th>\n",
       "      <td>18284</td>\n",
       "      <td>28</td>\n",
       "    </tr>\n",
       "    <tr>\n",
       "      <th>5863</th>\n",
       "      <td>18285</td>\n",
       "      <td>12</td>\n",
       "    </tr>\n",
       "    <tr>\n",
       "      <th>5864</th>\n",
       "      <td>18286</td>\n",
       "      <td>67</td>\n",
       "    </tr>\n",
       "    <tr>\n",
       "      <th>5865</th>\n",
       "      <td>18287</td>\n",
       "      <td>155</td>\n",
       "    </tr>\n",
       "  </tbody>\n",
       "</table>\n",
       "<p>5866 rows × 2 columns</p>\n",
       "</div>"
      ],
      "text/plain": [
       "      Customer_ID  InvoiceDate\n",
       "0           12346           34\n",
       "1           12347          222\n",
       "2           12348           51\n",
       "3           12349          175\n",
       "4           12350           17\n",
       "...           ...          ...\n",
       "5861        18283          936\n",
       "5862        18284           28\n",
       "5863        18285           12\n",
       "5864        18286           67\n",
       "5865        18287          155\n",
       "\n",
       "[5866 rows x 2 columns]"
      ]
     },
     "execution_count": 54,
     "metadata": {},
     "output_type": "execute_result"
    }
   ],
   "source": [
    "f"
   ]
  },
  {
   "cell_type": "code",
   "execution_count": 55,
   "id": "12558496-e388-4a55-b231-4fd307d29699",
   "metadata": {},
   "outputs": [
    {
     "data": {
      "text/plain": [
       "(Timestamp('2009-12-01 07:45:00'), Timestamp('2011-12-09 12:50:00'))"
      ]
     },
     "execution_count": 55,
     "metadata": {},
     "output_type": "execute_result"
    }
   ],
   "source": [
    "df['InvoiceDate'].min(),df['InvoiceDate'].max()"
   ]
  },
  {
   "cell_type": "code",
   "execution_count": 57,
   "id": "029b7280-275e-457b-8211-231db5f67c88",
   "metadata": {},
   "outputs": [],
   "source": [
    "import datetime as dt"
   ]
  },
  {
   "cell_type": "code",
   "execution_count": 59,
   "id": "769202cf-e873-4b7d-8e7d-7405a780c222",
   "metadata": {},
   "outputs": [
    {
     "data": {
      "text/plain": [
       "datetime.datetime(2011, 12, 10, 0, 0)"
      ]
     },
     "execution_count": 59,
     "metadata": {},
     "output_type": "execute_result"
    }
   ],
   "source": [
    "PRESENT = dt.datetime(2011,12,10)\n",
    "PRESENT"
   ]
  },
  {
   "cell_type": "code",
   "execution_count": 62,
   "id": "2e2759fd-ee49-4d15-9411-51d9f36c782a",
   "metadata": {},
   "outputs": [],
   "source": [
    "r = df.groupby('Customer_ID').agg({'InvoiceDate': lambda date: (PRESENT - date.max()).days})"
   ]
  },
  {
   "cell_type": "code",
   "execution_count": 63,
   "id": "01e0995f-8138-41f8-bd90-c2d2cdc4e879",
   "metadata": {},
   "outputs": [
    {
     "data": {
      "text/html": [
       "<div>\n",
       "<style scoped>\n",
       "    .dataframe tbody tr th:only-of-type {\n",
       "        vertical-align: middle;\n",
       "    }\n",
       "\n",
       "    .dataframe tbody tr th {\n",
       "        vertical-align: top;\n",
       "    }\n",
       "\n",
       "    .dataframe thead th {\n",
       "        text-align: right;\n",
       "    }\n",
       "</style>\n",
       "<table border=\"1\" class=\"dataframe\">\n",
       "  <thead>\n",
       "    <tr style=\"text-align: right;\">\n",
       "      <th></th>\n",
       "      <th>InvoiceDate</th>\n",
       "    </tr>\n",
       "    <tr>\n",
       "      <th>Customer_ID</th>\n",
       "      <th></th>\n",
       "    </tr>\n",
       "  </thead>\n",
       "  <tbody>\n",
       "    <tr>\n",
       "      <th>12346</th>\n",
       "      <td>325</td>\n",
       "    </tr>\n",
       "    <tr>\n",
       "      <th>12347</th>\n",
       "      <td>2</td>\n",
       "    </tr>\n",
       "    <tr>\n",
       "      <th>12348</th>\n",
       "      <td>75</td>\n",
       "    </tr>\n",
       "    <tr>\n",
       "      <th>12349</th>\n",
       "      <td>18</td>\n",
       "    </tr>\n",
       "    <tr>\n",
       "      <th>12350</th>\n",
       "      <td>310</td>\n",
       "    </tr>\n",
       "    <tr>\n",
       "      <th>...</th>\n",
       "      <td>...</td>\n",
       "    </tr>\n",
       "    <tr>\n",
       "      <th>18283</th>\n",
       "      <td>3</td>\n",
       "    </tr>\n",
       "    <tr>\n",
       "      <th>18284</th>\n",
       "      <td>431</td>\n",
       "    </tr>\n",
       "    <tr>\n",
       "      <th>18285</th>\n",
       "      <td>660</td>\n",
       "    </tr>\n",
       "    <tr>\n",
       "      <th>18286</th>\n",
       "      <td>476</td>\n",
       "    </tr>\n",
       "    <tr>\n",
       "      <th>18287</th>\n",
       "      <td>42</td>\n",
       "    </tr>\n",
       "  </tbody>\n",
       "</table>\n",
       "<p>5866 rows × 1 columns</p>\n",
       "</div>"
      ],
      "text/plain": [
       "             InvoiceDate\n",
       "Customer_ID             \n",
       "12346                325\n",
       "12347                  2\n",
       "12348                 75\n",
       "12349                 18\n",
       "12350                310\n",
       "...                  ...\n",
       "18283                  3\n",
       "18284                431\n",
       "18285                660\n",
       "18286                476\n",
       "18287                 42\n",
       "\n",
       "[5866 rows x 1 columns]"
      ]
     },
     "execution_count": 63,
     "metadata": {},
     "output_type": "execute_result"
    }
   ],
   "source": [
    "r"
   ]
  },
  {
   "cell_type": "code",
   "execution_count": 64,
   "id": "bd77eea7-1f80-4392-99c9-e9624221a813",
   "metadata": {},
   "outputs": [],
   "source": [
    "rmf = r.merge(m,on='Customer_ID').merge(f,on='Customer_ID')"
   ]
  },
  {
   "cell_type": "code",
   "execution_count": 65,
   "id": "d856bed8-cc27-44a2-b65b-ac64804618c2",
   "metadata": {},
   "outputs": [
    {
     "data": {
      "text/html": [
       "<div>\n",
       "<style scoped>\n",
       "    .dataframe tbody tr th:only-of-type {\n",
       "        vertical-align: middle;\n",
       "    }\n",
       "\n",
       "    .dataframe tbody tr th {\n",
       "        vertical-align: top;\n",
       "    }\n",
       "\n",
       "    .dataframe thead th {\n",
       "        text-align: right;\n",
       "    }\n",
       "</style>\n",
       "<table border=\"1\" class=\"dataframe\">\n",
       "  <thead>\n",
       "    <tr style=\"text-align: right;\">\n",
       "      <th></th>\n",
       "      <th>Customer_ID</th>\n",
       "      <th>InvoiceDate_x</th>\n",
       "      <th>StockValue</th>\n",
       "      <th>InvoiceDate_y</th>\n",
       "    </tr>\n",
       "  </thead>\n",
       "  <tbody>\n",
       "    <tr>\n",
       "      <th>0</th>\n",
       "      <td>12346</td>\n",
       "      <td>325</td>\n",
       "      <td>397.300</td>\n",
       "      <td>34</td>\n",
       "    </tr>\n",
       "    <tr>\n",
       "      <th>1</th>\n",
       "      <td>12347</td>\n",
       "      <td>2</td>\n",
       "      <td>4445.300</td>\n",
       "      <td>222</td>\n",
       "    </tr>\n",
       "    <tr>\n",
       "      <th>2</th>\n",
       "      <td>12348</td>\n",
       "      <td>75</td>\n",
       "      <td>732.850</td>\n",
       "      <td>51</td>\n",
       "    </tr>\n",
       "    <tr>\n",
       "      <th>3</th>\n",
       "      <td>12349</td>\n",
       "      <td>18</td>\n",
       "      <td>3393.565</td>\n",
       "      <td>175</td>\n",
       "    </tr>\n",
       "    <tr>\n",
       "      <th>4</th>\n",
       "      <td>12350</td>\n",
       "      <td>310</td>\n",
       "      <td>302.475</td>\n",
       "      <td>17</td>\n",
       "    </tr>\n",
       "    <tr>\n",
       "      <th>...</th>\n",
       "      <td>...</td>\n",
       "      <td>...</td>\n",
       "      <td>...</td>\n",
       "      <td>...</td>\n",
       "    </tr>\n",
       "    <tr>\n",
       "      <th>5861</th>\n",
       "      <td>18283</td>\n",
       "      <td>3</td>\n",
       "      <td>2638.550</td>\n",
       "      <td>936</td>\n",
       "    </tr>\n",
       "    <tr>\n",
       "      <th>5862</th>\n",
       "      <td>18284</td>\n",
       "      <td>431</td>\n",
       "      <td>363.440</td>\n",
       "      <td>28</td>\n",
       "    </tr>\n",
       "    <tr>\n",
       "      <th>5863</th>\n",
       "      <td>18285</td>\n",
       "      <td>660</td>\n",
       "      <td>228.525</td>\n",
       "      <td>12</td>\n",
       "    </tr>\n",
       "    <tr>\n",
       "      <th>5864</th>\n",
       "      <td>18286</td>\n",
       "      <td>476</td>\n",
       "      <td>1169.345</td>\n",
       "      <td>67</td>\n",
       "    </tr>\n",
       "    <tr>\n",
       "      <th>5865</th>\n",
       "      <td>18287</td>\n",
       "      <td>42</td>\n",
       "      <td>3258.375</td>\n",
       "      <td>155</td>\n",
       "    </tr>\n",
       "  </tbody>\n",
       "</table>\n",
       "<p>5866 rows × 4 columns</p>\n",
       "</div>"
      ],
      "text/plain": [
       "      Customer_ID  InvoiceDate_x  StockValue  InvoiceDate_y\n",
       "0           12346            325     397.300             34\n",
       "1           12347              2    4445.300            222\n",
       "2           12348             75     732.850             51\n",
       "3           12349             18    3393.565            175\n",
       "4           12350            310     302.475             17\n",
       "...           ...            ...         ...            ...\n",
       "5861        18283              3    2638.550            936\n",
       "5862        18284            431     363.440             28\n",
       "5863        18285            660     228.525             12\n",
       "5864        18286            476    1169.345             67\n",
       "5865        18287             42    3258.375            155\n",
       "\n",
       "[5866 rows x 4 columns]"
      ]
     },
     "execution_count": 65,
     "metadata": {},
     "output_type": "execute_result"
    }
   ],
   "source": [
    "rmf"
   ]
  },
  {
   "cell_type": "code",
   "execution_count": 67,
   "id": "f5a3dcf2-4c54-4da5-b354-91c0fafdd39e",
   "metadata": {},
   "outputs": [
    {
     "data": {
      "text/plain": [
       "Index(['Customer_ID', 'InvoiceDate_x', 'StockValue', 'InvoiceDate_y'], dtype='object')"
      ]
     },
     "execution_count": 67,
     "metadata": {},
     "output_type": "execute_result"
    }
   ],
   "source": [
    "rmf.columns"
   ]
  },
  {
   "cell_type": "code",
   "execution_count": 70,
   "id": "6ec8b9fd-7719-4737-a7f1-2c02f741cafe",
   "metadata": {},
   "outputs": [],
   "source": [
    "rmf = rmf.rename({'InvoiceDate_x': 'Rencency', 'StockValue': 'Monetary', 'InvoiceDate_y':'Frequency'}, axis=1)"
   ]
  },
  {
   "cell_type": "code",
   "execution_count": 71,
   "id": "3b0c5956-3687-4c44-a313-359cabf36ec0",
   "metadata": {},
   "outputs": [
    {
     "data": {
      "text/html": [
       "<div>\n",
       "<style scoped>\n",
       "    .dataframe tbody tr th:only-of-type {\n",
       "        vertical-align: middle;\n",
       "    }\n",
       "\n",
       "    .dataframe tbody tr th {\n",
       "        vertical-align: top;\n",
       "    }\n",
       "\n",
       "    .dataframe thead th {\n",
       "        text-align: right;\n",
       "    }\n",
       "</style>\n",
       "<table border=\"1\" class=\"dataframe\">\n",
       "  <thead>\n",
       "    <tr style=\"text-align: right;\">\n",
       "      <th></th>\n",
       "      <th>Customer_ID</th>\n",
       "      <th>Rencency</th>\n",
       "      <th>Monetary</th>\n",
       "      <th>Frequency</th>\n",
       "    </tr>\n",
       "  </thead>\n",
       "  <tbody>\n",
       "    <tr>\n",
       "      <th>0</th>\n",
       "      <td>12346</td>\n",
       "      <td>325</td>\n",
       "      <td>397.300</td>\n",
       "      <td>34</td>\n",
       "    </tr>\n",
       "    <tr>\n",
       "      <th>1</th>\n",
       "      <td>12347</td>\n",
       "      <td>2</td>\n",
       "      <td>4445.300</td>\n",
       "      <td>222</td>\n",
       "    </tr>\n",
       "    <tr>\n",
       "      <th>2</th>\n",
       "      <td>12348</td>\n",
       "      <td>75</td>\n",
       "      <td>732.850</td>\n",
       "      <td>51</td>\n",
       "    </tr>\n",
       "    <tr>\n",
       "      <th>3</th>\n",
       "      <td>12349</td>\n",
       "      <td>18</td>\n",
       "      <td>3393.565</td>\n",
       "      <td>175</td>\n",
       "    </tr>\n",
       "    <tr>\n",
       "      <th>4</th>\n",
       "      <td>12350</td>\n",
       "      <td>310</td>\n",
       "      <td>302.475</td>\n",
       "      <td>17</td>\n",
       "    </tr>\n",
       "    <tr>\n",
       "      <th>...</th>\n",
       "      <td>...</td>\n",
       "      <td>...</td>\n",
       "      <td>...</td>\n",
       "      <td>...</td>\n",
       "    </tr>\n",
       "    <tr>\n",
       "      <th>5861</th>\n",
       "      <td>18283</td>\n",
       "      <td>3</td>\n",
       "      <td>2638.550</td>\n",
       "      <td>936</td>\n",
       "    </tr>\n",
       "    <tr>\n",
       "      <th>5862</th>\n",
       "      <td>18284</td>\n",
       "      <td>431</td>\n",
       "      <td>363.440</td>\n",
       "      <td>28</td>\n",
       "    </tr>\n",
       "    <tr>\n",
       "      <th>5863</th>\n",
       "      <td>18285</td>\n",
       "      <td>660</td>\n",
       "      <td>228.525</td>\n",
       "      <td>12</td>\n",
       "    </tr>\n",
       "    <tr>\n",
       "      <th>5864</th>\n",
       "      <td>18286</td>\n",
       "      <td>476</td>\n",
       "      <td>1169.345</td>\n",
       "      <td>67</td>\n",
       "    </tr>\n",
       "    <tr>\n",
       "      <th>5865</th>\n",
       "      <td>18287</td>\n",
       "      <td>42</td>\n",
       "      <td>3258.375</td>\n",
       "      <td>155</td>\n",
       "    </tr>\n",
       "  </tbody>\n",
       "</table>\n",
       "<p>5866 rows × 4 columns</p>\n",
       "</div>"
      ],
      "text/plain": [
       "      Customer_ID  Rencency  Monetary  Frequency\n",
       "0           12346       325   397.300         34\n",
       "1           12347         2  4445.300        222\n",
       "2           12348        75   732.850         51\n",
       "3           12349        18  3393.565        175\n",
       "4           12350       310   302.475         17\n",
       "...           ...       ...       ...        ...\n",
       "5861        18283         3  2638.550        936\n",
       "5862        18284       431   363.440         28\n",
       "5863        18285       660   228.525         12\n",
       "5864        18286       476  1169.345         67\n",
       "5865        18287        42  3258.375        155\n",
       "\n",
       "[5866 rows x 4 columns]"
      ]
     },
     "execution_count": 71,
     "metadata": {},
     "output_type": "execute_result"
    }
   ],
   "source": [
    "rmf"
   ]
  },
  {
   "cell_type": "code",
   "execution_count": 72,
   "id": "63bcedc7-5228-4a60-810f-134d4cc65230",
   "metadata": {},
   "outputs": [],
   "source": [
    "from sklearn.cluster import KMeans"
   ]
  },
  {
   "cell_type": "code",
   "execution_count": 79,
   "id": "e8742909-2394-4d71-ac57-8e0181e0ec38",
   "metadata": {},
   "outputs": [
    {
     "data": {
      "text/plain": [
       "<AxesSubplot:>"
      ]
     },
     "execution_count": 79,
     "metadata": {},
     "output_type": "execute_result"
    },
    {
     "data": {
      "image/png": "[encoded data removed]",
      "text/plain": [
       "<Figure size 432x288 with 1 Axes>"
      ]
     },
     "metadata": {
      "needs_background": "light"
     },
     "output_type": "display_data"
    }
   ],
   "source": [
    "sns.boxplot(data=rmf[['Rencency','Frequency','Monetary']])"
   ]
  },
  {
   "cell_type": "code",
   "execution_count": 81,
   "id": "a544aa58-5941-4d59-acc6-d0070db87bb8",
   "metadata": {},
   "outputs": [],
   "source": [
    "from sklearn.preprocessing import StandardScaler"
   ]
  },
  {
   "cell_type": "code",
   "execution_count": 88,
   "id": "3f8a93f6-67fe-4f65-b4c2-3c3ef0bebdde",
   "metadata": {},
   "outputs": [
    {
     "data": {
      "text/plain": [
       "<AxesSubplot:title={'center':'Frequency distribution'}, xlabel='Frequency', ylabel='Density'>"
      ]
     },
     "execution_count": 88,
     "metadata": {},
     "output_type": "execute_result"
    },
    {
     "data": {
      "image/png": "[encoded data removed]",
      "text/plain": [
       "<Figure size 1080x432 with 3 Axes>"
      ]
     },
     "metadata": {
      "needs_background": "light"
     },
     "output_type": "display_data"
    }
   ],
   "source": [
    "plt.figure(figsize=(15,6))\n",
    "\n",
    "plt.subplot(1,3,1)\n",
    "plt.title('Recency distribution')\n",
    "sns.kdeplot(data=rmf['Rencency'])\n",
    "\n",
    "plt.subplot(1,3,2)\n",
    "plt.title('Monetary distribution')\n",
    "sns.kdeplot(data=rmf['Monetary'])\n",
    "\n",
    "plt.subplot(1,3,3)\n",
    "plt.title('Frequency distribution')\n",
    "sns.kdeplot(data=rmf['Frequency'])"
   ]
  },
  {
   "cell_type": "code",
   "execution_count": 90,
   "id": "f6e34433-94ca-4870-9b38-8fc1207d7665",
   "metadata": {},
   "outputs": [
    {
     "data": {
      "text/html": [
       "<div>\n",
       "<style scoped>\n",
       "    .dataframe tbody tr th:only-of-type {\n",
       "        vertical-align: middle;\n",
       "    }\n",
       "\n",
       "    .dataframe tbody tr th {\n",
       "        vertical-align: top;\n",
       "    }\n",
       "\n",
       "    .dataframe thead th {\n",
       "        text-align: right;\n",
       "    }\n",
       "</style>\n",
       "<table border=\"1\" class=\"dataframe\">\n",
       "  <thead>\n",
       "    <tr style=\"text-align: right;\">\n",
       "      <th></th>\n",
       "      <th>Rencency</th>\n",
       "      <th>Monetary</th>\n",
       "      <th>Frequency</th>\n",
       "    </tr>\n",
       "  </thead>\n",
       "  <tbody>\n",
       "    <tr>\n",
       "      <th>0</th>\n",
       "      <td>325</td>\n",
       "      <td>397.300</td>\n",
       "      <td>34</td>\n",
       "    </tr>\n",
       "    <tr>\n",
       "      <th>1</th>\n",
       "      <td>2</td>\n",
       "      <td>4445.300</td>\n",
       "      <td>222</td>\n",
       "    </tr>\n",
       "    <tr>\n",
       "      <th>2</th>\n",
       "      <td>75</td>\n",
       "      <td>732.850</td>\n",
       "      <td>51</td>\n",
       "    </tr>\n",
       "    <tr>\n",
       "      <th>3</th>\n",
       "      <td>18</td>\n",
       "      <td>3393.565</td>\n",
       "      <td>175</td>\n",
       "    </tr>\n",
       "    <tr>\n",
       "      <th>4</th>\n",
       "      <td>310</td>\n",
       "      <td>302.475</td>\n",
       "      <td>17</td>\n",
       "    </tr>\n",
       "    <tr>\n",
       "      <th>...</th>\n",
       "      <td>...</td>\n",
       "      <td>...</td>\n",
       "      <td>...</td>\n",
       "    </tr>\n",
       "    <tr>\n",
       "      <th>5861</th>\n",
       "      <td>3</td>\n",
       "      <td>2638.550</td>\n",
       "      <td>936</td>\n",
       "    </tr>\n",
       "    <tr>\n",
       "      <th>5862</th>\n",
       "      <td>431</td>\n",
       "      <td>363.440</td>\n",
       "      <td>28</td>\n",
       "    </tr>\n",
       "    <tr>\n",
       "      <th>5863</th>\n",
       "      <td>660</td>\n",
       "      <td>228.525</td>\n",
       "      <td>12</td>\n",
       "    </tr>\n",
       "    <tr>\n",
       "      <th>5864</th>\n",
       "      <td>476</td>\n",
       "      <td>1169.345</td>\n",
       "      <td>67</td>\n",
       "    </tr>\n",
       "    <tr>\n",
       "      <th>5865</th>\n",
       "      <td>42</td>\n",
       "      <td>3258.375</td>\n",
       "      <td>155</td>\n",
       "    </tr>\n",
       "  </tbody>\n",
       "</table>\n",
       "<p>5866 rows × 3 columns</p>\n",
       "</div>"
      ],
      "text/plain": [
       "      Rencency  Monetary  Frequency\n",
       "0          325   397.300         34\n",
       "1            2  4445.300        222\n",
       "2           75   732.850         51\n",
       "3           18  3393.565        175\n",
       "4          310   302.475         17\n",
       "...        ...       ...        ...\n",
       "5861         3  2638.550        936\n",
       "5862       431   363.440         28\n",
       "5863       660   228.525         12\n",
       "5864       476  1169.345         67\n",
       "5865        42  3258.375        155\n",
       "\n",
       "[5866 rows x 3 columns]"
      ]
     },
     "execution_count": 90,
     "metadata": {},
     "output_type": "execute_result"
    }
   ],
   "source": [
    "scaler = StandardScaler()\n",
    "rmf_normalized = rmf[['Rencency','Monetary','Frequency']]\n",
    "rmf_normalized"
   ]
  },
  {
   "cell_type": "code",
   "execution_count": 91,
   "id": "29ae9bc7-4b5f-470d-83fd-9bbb59097fb2",
   "metadata": {},
   "outputs": [
    {
     "data": {
      "text/html": [
       "<div>\n",
       "<style scoped>\n",
       "    .dataframe tbody tr th:only-of-type {\n",
       "        vertical-align: middle;\n",
       "    }\n",
       "\n",
       "    .dataframe tbody tr th {\n",
       "        vertical-align: top;\n",
       "    }\n",
       "\n",
       "    .dataframe thead th {\n",
       "        text-align: right;\n",
       "    }\n",
       "</style>\n",
       "<table border=\"1\" class=\"dataframe\">\n",
       "  <thead>\n",
       "    <tr style=\"text-align: right;\">\n",
       "      <th></th>\n",
       "      <th>0</th>\n",
       "      <th>1</th>\n",
       "      <th>2</th>\n",
       "    </tr>\n",
       "  </thead>\n",
       "  <tbody>\n",
       "    <tr>\n",
       "      <th>0</th>\n",
       "      <td>0.594494</td>\n",
       "      <td>-0.281236</td>\n",
       "      <td>-0.288674</td>\n",
       "    </tr>\n",
       "    <tr>\n",
       "      <th>1</th>\n",
       "      <td>-0.948744</td>\n",
       "      <td>0.429654</td>\n",
       "      <td>0.260813</td>\n",
       "    </tr>\n",
       "    <tr>\n",
       "      <th>2</th>\n",
       "      <td>-0.599963</td>\n",
       "      <td>-0.222309</td>\n",
       "      <td>-0.238987</td>\n",
       "    </tr>\n",
       "    <tr>\n",
       "      <th>3</th>\n",
       "      <td>-0.872299</td>\n",
       "      <td>0.244953</td>\n",
       "      <td>0.123441</td>\n",
       "    </tr>\n",
       "    <tr>\n",
       "      <th>4</th>\n",
       "      <td>0.522827</td>\n",
       "      <td>-0.297889</td>\n",
       "      <td>-0.338362</td>\n",
       "    </tr>\n",
       "    <tr>\n",
       "      <th>...</th>\n",
       "      <td>...</td>\n",
       "      <td>...</td>\n",
       "      <td>...</td>\n",
       "    </tr>\n",
       "    <tr>\n",
       "      <th>5861</th>\n",
       "      <td>-0.943966</td>\n",
       "      <td>0.112361</td>\n",
       "      <td>2.347694</td>\n",
       "    </tr>\n",
       "    <tr>\n",
       "      <th>5862</th>\n",
       "      <td>1.100944</td>\n",
       "      <td>-0.287183</td>\n",
       "      <td>-0.306211</td>\n",
       "    </tr>\n",
       "    <tr>\n",
       "      <th>5863</th>\n",
       "      <td>2.195067</td>\n",
       "      <td>-0.310876</td>\n",
       "      <td>-0.352976</td>\n",
       "    </tr>\n",
       "    <tr>\n",
       "      <th>5864</th>\n",
       "      <td>1.315946</td>\n",
       "      <td>-0.145653</td>\n",
       "      <td>-0.192222</td>\n",
       "    </tr>\n",
       "    <tr>\n",
       "      <th>5865</th>\n",
       "      <td>-0.757631</td>\n",
       "      <td>0.221212</td>\n",
       "      <td>0.064985</td>\n",
       "    </tr>\n",
       "  </tbody>\n",
       "</table>\n",
       "<p>5866 rows × 3 columns</p>\n",
       "</div>"
      ],
      "text/plain": [
       "             0         1         2\n",
       "0     0.594494 -0.281236 -0.288674\n",
       "1    -0.948744  0.429654  0.260813\n",
       "2    -0.599963 -0.222309 -0.238987\n",
       "3    -0.872299  0.244953  0.123441\n",
       "4     0.522827 -0.297889 -0.338362\n",
       "...        ...       ...       ...\n",
       "5861 -0.943966  0.112361  2.347694\n",
       "5862  1.100944 -0.287183 -0.306211\n",
       "5863  2.195067 -0.310876 -0.352976\n",
       "5864  1.315946 -0.145653 -0.192222\n",
       "5865 -0.757631  0.221212  0.064985\n",
       "\n",
       "[5866 rows x 3 columns]"
      ]
     },
     "execution_count": 91,
     "metadata": {},
     "output_type": "execute_result"
    }
   ],
   "source": [
    "rmf_normalized = scaler.fit_transform(rmf_normalized)\n",
    "rmf_normalized = pd.DataFrame(rmf_normalized)\n",
    "rmf_normalized"
   ]
  },
  {
   "cell_type": "code",
   "execution_count": 102,
   "id": "6af87fd6-2365-4a66-9dda-5c88a116d321",
   "metadata": {},
   "outputs": [],
   "source": [
    "rmf_normalized = rmf_normalized.rename({0: 'Rencency', 1: 'Monetary', 2:'Frequency'}, axis=1)"
   ]
  },
  {
   "cell_type": "code",
   "execution_count": 104,
   "id": "79567aeb-822a-474e-bf76-824ab7cb6610",
   "metadata": {},
   "outputs": [
    {
     "data": {
      "text/html": [
       "<div>\n",
       "<style scoped>\n",
       "    .dataframe tbody tr th:only-of-type {\n",
       "        vertical-align: middle;\n",
       "    }\n",
       "\n",
       "    .dataframe tbody tr th {\n",
       "        vertical-align: top;\n",
       "    }\n",
       "\n",
       "    .dataframe thead th {\n",
       "        text-align: right;\n",
       "    }\n",
       "</style>\n",
       "<table border=\"1\" class=\"dataframe\">\n",
       "  <thead>\n",
       "    <tr style=\"text-align: right;\">\n",
       "      <th></th>\n",
       "      <th>Rencency</th>\n",
       "      <th>Monetary</th>\n",
       "      <th>Frequency</th>\n",
       "    </tr>\n",
       "  </thead>\n",
       "  <tbody>\n",
       "    <tr>\n",
       "      <th>0</th>\n",
       "      <td>0.594494</td>\n",
       "      <td>-0.281236</td>\n",
       "      <td>-0.288674</td>\n",
       "    </tr>\n",
       "    <tr>\n",
       "      <th>1</th>\n",
       "      <td>-0.948744</td>\n",
       "      <td>0.429654</td>\n",
       "      <td>0.260813</td>\n",
       "    </tr>\n",
       "    <tr>\n",
       "      <th>2</th>\n",
       "      <td>-0.599963</td>\n",
       "      <td>-0.222309</td>\n",
       "      <td>-0.238987</td>\n",
       "    </tr>\n",
       "    <tr>\n",
       "      <th>3</th>\n",
       "      <td>-0.872299</td>\n",
       "      <td>0.244953</td>\n",
       "      <td>0.123441</td>\n",
       "    </tr>\n",
       "    <tr>\n",
       "      <th>4</th>\n",
       "      <td>0.522827</td>\n",
       "      <td>-0.297889</td>\n",
       "      <td>-0.338362</td>\n",
       "    </tr>\n",
       "    <tr>\n",
       "      <th>...</th>\n",
       "      <td>...</td>\n",
       "      <td>...</td>\n",
       "      <td>...</td>\n",
       "    </tr>\n",
       "    <tr>\n",
       "      <th>5861</th>\n",
       "      <td>-0.943966</td>\n",
       "      <td>0.112361</td>\n",
       "      <td>2.347694</td>\n",
       "    </tr>\n",
       "    <tr>\n",
       "      <th>5862</th>\n",
       "      <td>1.100944</td>\n",
       "      <td>-0.287183</td>\n",
       "      <td>-0.306211</td>\n",
       "    </tr>\n",
       "    <tr>\n",
       "      <th>5863</th>\n",
       "      <td>2.195067</td>\n",
       "      <td>-0.310876</td>\n",
       "      <td>-0.352976</td>\n",
       "    </tr>\n",
       "    <tr>\n",
       "      <th>5864</th>\n",
       "      <td>1.315946</td>\n",
       "      <td>-0.145653</td>\n",
       "      <td>-0.192222</td>\n",
       "    </tr>\n",
       "    <tr>\n",
       "      <th>5865</th>\n",
       "      <td>-0.757631</td>\n",
       "      <td>0.221212</td>\n",
       "      <td>0.064985</td>\n",
       "    </tr>\n",
       "  </tbody>\n",
       "</table>\n",
       "<p>5866 rows × 3 columns</p>\n",
       "</div>"
      ],
      "text/plain": [
       "      Rencency  Monetary  Frequency\n",
       "0     0.594494 -0.281236  -0.288674\n",
       "1    -0.948744  0.429654   0.260813\n",
       "2    -0.599963 -0.222309  -0.238987\n",
       "3    -0.872299  0.244953   0.123441\n",
       "4     0.522827 -0.297889  -0.338362\n",
       "...        ...       ...        ...\n",
       "5861 -0.943966  0.112361   2.347694\n",
       "5862  1.100944 -0.287183  -0.306211\n",
       "5863  2.195067 -0.310876  -0.352976\n",
       "5864  1.315946 -0.145653  -0.192222\n",
       "5865 -0.757631  0.221212   0.064985\n",
       "\n",
       "[5866 rows x 3 columns]"
      ]
     },
     "execution_count": 104,
     "metadata": {},
     "output_type": "execute_result"
    }
   ],
   "source": [
    "rmf_normalized"
   ]
  },
  {
   "cell_type": "code",
   "execution_count": 106,
   "id": "6bbcdb87-2f25-4b4b-8c8b-534d507134e0",
   "metadata": {},
   "outputs": [
    {
     "data": {
      "text/plain": [
       "<AxesSubplot:title={'center':'Frequency distribution'}>"
      ]
     },
     "execution_count": 106,
     "metadata": {},
     "output_type": "execute_result"
    },
    {
     "data": {
      "image/png": "[encoded data removed]",
      "text/plain": [
       "<Figure size 1080x432 with 3 Axes>"
      ]
     },
     "metadata": {
      "needs_background": "light"
     },
     "output_type": "display_data"
    }
   ],
   "source": [
    "plt.figure(figsize=(15,6))\n",
    "\n",
    "plt.subplot(1,3,1)\n",
    "plt.title('Recency distribution')\n",
    "sns.boxplot(data=rmf_normalized['Rencency'])\n",
    "\n",
    "plt.subplot(1,3,2)\n",
    "plt.title('Monetary distribution')\n",
    "sns.boxplot(data=rmf_normalized['Monetary'])\n",
    "\n",
    "plt.subplot(1,3,3)\n",
    "plt.title('Frequency distribution')\n",
    "sns.boxplot(data=rmf_normalized['Frequency'])"
   ]
  },
  {
   "cell_type": "code",
   "execution_count": 107,
   "id": "16ac1ef1-8220-4e5f-b128-c79a9a920ec3",
   "metadata": {},
   "outputs": [],
   "source": [
    "from sklearn.cluster import KMeans"
   ]
  },
  {
   "cell_type": "code",
   "execution_count": 111,
   "id": "e9eff2e1-91a7-43a2-96ec-234975c67ae0",
   "metadata": {},
   "outputs": [
    {
     "data": {
      "text/plain": [
       "KMeans(max_iter=50, n_clusters=4)"
      ]
     },
     "execution_count": 111,
     "metadata": {},
     "output_type": "execute_result"
    }
   ],
   "source": [
    "kmeans = KMeans(n_clusters=4, max_iter=50)\n",
    "kmeans.fit(rmf_normalized)"
   ]
  },
  {
   "cell_type": "code",
   "execution_count": 112,
   "id": "5a763ee5-3c9a-4a1f-a979-f4469af074de",
   "metadata": {},
   "outputs": [
    {
     "data": {
      "text/plain": [
       "[(1, 17275157683.591537),\n",
       " (2, 4325419565.402969),\n",
       " (3, 1923151547.503761),\n",
       " (4, 1081359563.6506157),\n",
       " (5, 690207598.8079896),\n",
       " (6, 480015232.5470784),\n",
       " (7, 351873513.0011131),\n",
       " (8, 270135267.96006846),\n",
       " (9, 212944678.45484954)]"
      ]
     },
     "execution_count": 112,
     "metadata": {},
     "output_type": "execute_result"
    }
   ],
   "source": [
    "d = []\n",
    "for k in range(1,10):\n",
    "    km = KMeans(n_clusters=k)\n",
    "    km.fit(rmf_normalized)\n",
    "    d.append((k, km.inertia_))\n",
    "d"
   ]
  },
  {
   "cell_type": "code",
   "execution_count": 113,
   "id": "d6b0206d-7515-4a67-905b-c386120004f8",
   "metadata": {},
   "outputs": [
    {
     "data": {
      "image/png": "[encoded data removed]",
      "text/plain": [
       "<Figure size 432x288 with 1 Axes>"
      ]
     },
     "metadata": {
      "needs_background": "light"
     },
     "output_type": "display_data"
    }
   ],
   "source": [
    "d = np.array(d)\n",
    "plt.plot(d[:,0],d[:,1])\n",
    "plt.show()"
   ]
  },
  {
   "cell_type": "code",
   "execution_count": 120,
   "id": "240e5dde-3500-48c6-bde8-b698ee3ebaa2",
   "metadata": {},
   "outputs": [
    {
     "data": {
      "text/plain": [
       "KMeans(max_iter=50, n_clusters=3)"
      ]
     },
     "execution_count": 120,
     "metadata": {},
     "output_type": "execute_result"
    }
   ],
   "source": [
    "kmeans = KMeans(n_clusters=3, max_iter=50)\n",
    "kmeans.fit(rmf_normalized)"
   ]
  },
  {
   "cell_type": "code",
   "execution_count": 121,
   "id": "cfa90c6d-4a42-4f65-91f6-d6c993fd30e7",
   "metadata": {},
   "outputs": [],
   "source": [
    "rmf_normalized.loc[:,'Customer_ID']=rmf['Customer_ID']"
   ]
  },
  {
   "cell_type": "code",
   "execution_count": 122,
   "id": "956c1d25-95a1-4afa-878b-ee53b0f675c0",
   "metadata": {},
   "outputs": [
    {
     "data": {
      "text/html": [
       "<div>\n",
       "<style scoped>\n",
       "    .dataframe tbody tr th:only-of-type {\n",
       "        vertical-align: middle;\n",
       "    }\n",
       "\n",
       "    .dataframe tbody tr th {\n",
       "        vertical-align: top;\n",
       "    }\n",
       "\n",
       "    .dataframe thead th {\n",
       "        text-align: right;\n",
       "    }\n",
       "</style>\n",
       "<table border=\"1\" class=\"dataframe\">\n",
       "  <thead>\n",
       "    <tr style=\"text-align: right;\">\n",
       "      <th></th>\n",
       "      <th>Rencency</th>\n",
       "      <th>Monetary</th>\n",
       "      <th>Frequency</th>\n",
       "      <th>Customer_ID</th>\n",
       "      <th>cluster</th>\n",
       "    </tr>\n",
       "  </thead>\n",
       "  <tbody>\n",
       "    <tr>\n",
       "      <th>0</th>\n",
       "      <td>0.594494</td>\n",
       "      <td>-0.281236</td>\n",
       "      <td>-0.288674</td>\n",
       "      <td>12346</td>\n",
       "      <td>1</td>\n",
       "    </tr>\n",
       "    <tr>\n",
       "      <th>1</th>\n",
       "      <td>-0.948744</td>\n",
       "      <td>0.429654</td>\n",
       "      <td>0.260813</td>\n",
       "      <td>12347</td>\n",
       "      <td>1</td>\n",
       "    </tr>\n",
       "    <tr>\n",
       "      <th>2</th>\n",
       "      <td>-0.599963</td>\n",
       "      <td>-0.222309</td>\n",
       "      <td>-0.238987</td>\n",
       "      <td>12348</td>\n",
       "      <td>1</td>\n",
       "    </tr>\n",
       "    <tr>\n",
       "      <th>3</th>\n",
       "      <td>-0.872299</td>\n",
       "      <td>0.244953</td>\n",
       "      <td>0.123441</td>\n",
       "      <td>12349</td>\n",
       "      <td>1</td>\n",
       "    </tr>\n",
       "    <tr>\n",
       "      <th>4</th>\n",
       "      <td>0.522827</td>\n",
       "      <td>-0.297889</td>\n",
       "      <td>-0.338362</td>\n",
       "      <td>12350</td>\n",
       "      <td>1</td>\n",
       "    </tr>\n",
       "    <tr>\n",
       "      <th>...</th>\n",
       "      <td>...</td>\n",
       "      <td>...</td>\n",
       "      <td>...</td>\n",
       "      <td>...</td>\n",
       "      <td>...</td>\n",
       "    </tr>\n",
       "    <tr>\n",
       "      <th>5861</th>\n",
       "      <td>-0.943966</td>\n",
       "      <td>0.112361</td>\n",
       "      <td>2.347694</td>\n",
       "      <td>18283</td>\n",
       "      <td>0</td>\n",
       "    </tr>\n",
       "    <tr>\n",
       "      <th>5862</th>\n",
       "      <td>1.100944</td>\n",
       "      <td>-0.287183</td>\n",
       "      <td>-0.306211</td>\n",
       "      <td>18284</td>\n",
       "      <td>0</td>\n",
       "    </tr>\n",
       "    <tr>\n",
       "      <th>5863</th>\n",
       "      <td>2.195067</td>\n",
       "      <td>-0.310876</td>\n",
       "      <td>-0.352976</td>\n",
       "      <td>18285</td>\n",
       "      <td>0</td>\n",
       "    </tr>\n",
       "    <tr>\n",
       "      <th>5864</th>\n",
       "      <td>1.315946</td>\n",
       "      <td>-0.145653</td>\n",
       "      <td>-0.192222</td>\n",
       "      <td>18286</td>\n",
       "      <td>0</td>\n",
       "    </tr>\n",
       "    <tr>\n",
       "      <th>5865</th>\n",
       "      <td>-0.757631</td>\n",
       "      <td>0.221212</td>\n",
       "      <td>0.064985</td>\n",
       "      <td>18287</td>\n",
       "      <td>0</td>\n",
       "    </tr>\n",
       "  </tbody>\n",
       "</table>\n",
       "<p>5866 rows × 5 columns</p>\n",
       "</div>"
      ],
      "text/plain": [
       "      Rencency  Monetary  Frequency  Customer_ID  cluster\n",
       "0     0.594494 -0.281236  -0.288674        12346        1\n",
       "1    -0.948744  0.429654   0.260813        12347        1\n",
       "2    -0.599963 -0.222309  -0.238987        12348        1\n",
       "3    -0.872299  0.244953   0.123441        12349        1\n",
       "4     0.522827 -0.297889  -0.338362        12350        1\n",
       "...        ...       ...        ...          ...      ...\n",
       "5861 -0.943966  0.112361   2.347694        18283        0\n",
       "5862  1.100944 -0.287183  -0.306211        18284        0\n",
       "5863  2.195067 -0.310876  -0.352976        18285        0\n",
       "5864  1.315946 -0.145653  -0.192222        18286        0\n",
       "5865 -0.757631  0.221212   0.064985        18287        0\n",
       "\n",
       "[5866 rows x 5 columns]"
      ]
     },
     "execution_count": 122,
     "metadata": {},
     "output_type": "execute_result"
    }
   ],
   "source": [
    "rmf_normalized"
   ]
  },
  {
   "cell_type": "code",
   "execution_count": 123,
   "id": "57e118bd-d598-457b-b5bd-2c2658bc15b6",
   "metadata": {},
   "outputs": [
    {
     "data": {
      "text/html": [
       "<div>\n",
       "<style scoped>\n",
       "    .dataframe tbody tr th:only-of-type {\n",
       "        vertical-align: middle;\n",
       "    }\n",
       "\n",
       "    .dataframe tbody tr th {\n",
       "        vertical-align: top;\n",
       "    }\n",
       "\n",
       "    .dataframe thead th {\n",
       "        text-align: right;\n",
       "    }\n",
       "</style>\n",
       "<table border=\"1\" class=\"dataframe\">\n",
       "  <thead>\n",
       "    <tr style=\"text-align: right;\">\n",
       "      <th></th>\n",
       "      <th>Rencency</th>\n",
       "      <th>Monetary</th>\n",
       "      <th>Frequency</th>\n",
       "      <th>Customer_ID</th>\n",
       "      <th>cluster</th>\n",
       "    </tr>\n",
       "  </thead>\n",
       "  <tbody>\n",
       "    <tr>\n",
       "      <th>5766</th>\n",
       "      <td>-0.886632</td>\n",
       "      <td>0.143921</td>\n",
       "      <td>0.000683</td>\n",
       "      <td>18188</td>\n",
       "      <td>2</td>\n",
       "    </tr>\n",
       "    <tr>\n",
       "      <th>5767</th>\n",
       "      <td>-0.590407</td>\n",
       "      <td>-0.106399</td>\n",
       "      <td>-0.136689</td>\n",
       "      <td>18189</td>\n",
       "      <td>2</td>\n",
       "    </tr>\n",
       "    <tr>\n",
       "      <th>5768</th>\n",
       "      <td>-0.040957</td>\n",
       "      <td>-0.225089</td>\n",
       "      <td>-0.265292</td>\n",
       "      <td>18190</td>\n",
       "      <td>2</td>\n",
       "    </tr>\n",
       "    <tr>\n",
       "      <th>5769</th>\n",
       "      <td>0.288713</td>\n",
       "      <td>-0.267165</td>\n",
       "      <td>-0.344208</td>\n",
       "      <td>18191</td>\n",
       "      <td>2</td>\n",
       "    </tr>\n",
       "    <tr>\n",
       "      <th>5770</th>\n",
       "      <td>-0.619074</td>\n",
       "      <td>-0.192911</td>\n",
       "      <td>-0.256524</td>\n",
       "      <td>18192</td>\n",
       "      <td>2</td>\n",
       "    </tr>\n",
       "    <tr>\n",
       "      <th>...</th>\n",
       "      <td>...</td>\n",
       "      <td>...</td>\n",
       "      <td>...</td>\n",
       "      <td>...</td>\n",
       "      <td>...</td>\n",
       "    </tr>\n",
       "    <tr>\n",
       "      <th>5861</th>\n",
       "      <td>-0.943966</td>\n",
       "      <td>0.112361</td>\n",
       "      <td>2.347694</td>\n",
       "      <td>18283</td>\n",
       "      <td>2</td>\n",
       "    </tr>\n",
       "    <tr>\n",
       "      <th>5862</th>\n",
       "      <td>1.100944</td>\n",
       "      <td>-0.287183</td>\n",
       "      <td>-0.306211</td>\n",
       "      <td>18284</td>\n",
       "      <td>2</td>\n",
       "    </tr>\n",
       "    <tr>\n",
       "      <th>5863</th>\n",
       "      <td>2.195067</td>\n",
       "      <td>-0.310876</td>\n",
       "      <td>-0.352976</td>\n",
       "      <td>18285</td>\n",
       "      <td>2</td>\n",
       "    </tr>\n",
       "    <tr>\n",
       "      <th>5864</th>\n",
       "      <td>1.315946</td>\n",
       "      <td>-0.145653</td>\n",
       "      <td>-0.192222</td>\n",
       "      <td>18286</td>\n",
       "      <td>2</td>\n",
       "    </tr>\n",
       "    <tr>\n",
       "      <th>5865</th>\n",
       "      <td>-0.757631</td>\n",
       "      <td>0.221212</td>\n",
       "      <td>0.064985</td>\n",
       "      <td>18287</td>\n",
       "      <td>2</td>\n",
       "    </tr>\n",
       "  </tbody>\n",
       "</table>\n",
       "<p>100 rows × 5 columns</p>\n",
       "</div>"
      ],
      "text/plain": [
       "      Rencency  Monetary  Frequency  Customer_ID  cluster\n",
       "5766 -0.886632  0.143921   0.000683        18188        2\n",
       "5767 -0.590407 -0.106399  -0.136689        18189        2\n",
       "5768 -0.040957 -0.225089  -0.265292        18190        2\n",
       "5769  0.288713 -0.267165  -0.344208        18191        2\n",
       "5770 -0.619074 -0.192911  -0.256524        18192        2\n",
       "...        ...       ...        ...          ...      ...\n",
       "5861 -0.943966  0.112361   2.347694        18283        2\n",
       "5862  1.100944 -0.287183  -0.306211        18284        2\n",
       "5863  2.195067 -0.310876  -0.352976        18285        2\n",
       "5864  1.315946 -0.145653  -0.192222        18286        2\n",
       "5865 -0.757631  0.221212   0.064985        18287        2\n",
       "\n",
       "[100 rows x 5 columns]"
      ]
     },
     "execution_count": 123,
     "metadata": {},
     "output_type": "execute_result"
    }
   ],
   "source": [
    "rmf_normalized['cluster']=kmeans.labels_\n",
    "rmf_normalized.tail(100)"
   ]
  },
  {
   "cell_type": "code",
   "execution_count": 161,
   "id": "984ada8f-29eb-44b1-ab62-f5e47a0f9d50",
   "metadata": {},
   "outputs": [
    {
     "data": {
      "image/png": "[encoded data removed]",
      "text/plain": [
       "<Figure size 1440x504 with 1 Axes>"
      ]
     },
     "metadata": {
      "needs_background": "light"
     },
     "output_type": "display_data"
    }
   ],
   "source": [
    "plt.figure(figsize=(20,7))\n",
    "ax = sns.scatterplot(data=rmf_normalized,\n",
    "                    x='Rencency',\n",
    "                    y='Monetary',\n",
    "                    palette='Blues',\n",
    "                    hue='cluster',\n",
    "                    s=200, alpha=0.5)\n",
    "sns.scatterplot(x=kmeans.cluster_centers_[:,0], y=kmeans.cluster_centers_[:,1])\n",
    "plt.show()"
   ]
  },
  {
   "cell_type": "code",
   "execution_count": 160,
   "id": "518d6a60-5dfd-4853-8c83-2146d3a865f7",
   "metadata": {},
   "outputs": [
    {
     "data": {
      "image/png": "[encoded data removed]",
      "text/plain": [
       "<Figure size 1440x432 with 1 Axes>"
      ]
     },
     "metadata": {
      "needs_background": "light"
     },
     "output_type": "display_data"
    }
   ],
   "source": [
    "plt.figure(figsize=(20,6))\n",
    "ax = sns.scatterplot(data=rmf_normalized,\n",
    "                    x='Frequency',\n",
    "                    y='Monetary',\n",
    "                    hue='cluster',\n",
    "                    s=200, alpha=0.5)\n",
    "sns.scatterplot(x=kmeans.cluster_centers_[:,0], y=kmeans.cluster_centers_[:,1])\n",
    "plt.show()"
   ]
  },
  {
   "cell_type": "code",
   "execution_count": 171,
   "id": "f1f26af2-1729-41ba-82bd-54f015e0872a",
   "metadata": {},
   "outputs": [
    {
     "data": {
      "image/png": "[encoded data removed]",
      "text/plain": [
       "<Figure size 1440x504 with 1 Axes>"
      ]
     },
     "metadata": {
      "needs_background": "light"
     },
     "output_type": "display_data"
    }
   ],
   "source": [
    "plt.figure(figsize=(20,7))\n",
    "ax = sns.scatterplot(data=rmf_normalized,\n",
    "                    x='Rencency',\n",
    "                    y='Frequency',\n",
    "                    palette = \"tab10\",\n",
    "                    hue='cluster',\n",
    "                    s=200, alpha=0.5)\n",
    "sns.scatterplot(x=kmeans.cluster_centers_[:,0], y=kmeans.cluster_centers_[:,1])\n",
    "plt.show()"
   ]
  },
  {
   "cell_type": "code",
   "execution_count": null,
   "id": "814b3297-0c6b-482f-b67d-44936f3aa561",
   "metadata": {},
   "outputs": [],
   "source": []
  }
 ],
 "metadata": {
  "kernelspec": {
   "display_name": "Python 3 (ipykernel)",
   "language": "python",
   "name": "python3"
  },
  "language_info": {
   "codemirror_mode": {
    "name": "ipython",
    "version": 3
   },
   "file_extension": ".py",
   "mimetype": "text/x-python",
   "name": "python",
   "nbconvert_exporter": "python",
   "pygments_lexer": "ipython3",
   "version": "3.7.0"
  }
 },
 "nbformat": 4,
 "nbformat_minor": 5
}
